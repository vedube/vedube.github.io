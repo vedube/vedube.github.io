{
 "cells": [
  {
   "cell_type": "markdown",
   "metadata": {},
   "source": [
    "# Workgroup 4\n",
    "\n",
    "Authors: Valerie Dube, Erzo Garay, Juan Marcos Guerrero y Matias Villalba"
   ]
  },
  {
   "cell_type": "markdown",
   "metadata": {},
   "source": [
    "## Bootstraping"
   ]
  },
  {
   "cell_type": "code",
   "execution_count": 1,
   "metadata": {},
   "outputs": [],
   "source": [
    "import pandas as pd\n",
    "import numpy as np\n",
    "\n",
    "from sklearn.preprocessing import PolynomialFeatures\n",
    "from sklearn.linear_model import LinearRegression\n",
    "from sklearn.model_selection import train_test_split,cross_val_score\n",
    "from sklearn.metrics import mean_squared_error\n",
    "\n",
    "import matplotlib.pyplot as plt\n",
    "import seaborn as sns"
   ]
  },
  {
   "cell_type": "markdown",
   "metadata": {},
   "source": [
    "## Data base"
   ]
  },
  {
   "cell_type": "markdown",
   "metadata": {},
   "source": [
    "The data is not created randomly; it is extracted from the \"penn_jae.dat\" database. This database is imported and filtered so that the variable \"tg\" becomes \"t4,\" which is a dummy variable identifying those treated with t4 versus individuals in the control group. Additionally, the logarithm of the variable \"inuidur1\" is created."
   ]
  },
  {
   "cell_type": "code",
   "execution_count": 8,
   "metadata": {},
   "outputs": [],
   "source": [
    "Penn = pd.read_csv(r'../../../data/penn_jae.csv')\n",
    "Penn= Penn[(Penn['tg'] == 4) | (Penn['tg'] == 0)]\n",
    "Penn.update(Penn[Penn['tg'] == 4][['tg']].replace(to_replace=4, value=1))\n",
    "Penn.rename(columns={'tg': 't4'}, inplace=True)"
   ]
  },
  {
   "cell_type": "code",
   "execution_count": 42,
   "metadata": {},
   "outputs": [
    {
     "name": "stdout",
     "output_type": "stream",
     "text": [
      "    Unnamed: 0   abdt   t4  inuidur1  inuidur2  female  black  hispanic  \\\n",
      "0            1  10824  0.0        18        18       0      0         0   \n",
      "3            4  10824  0.0         1         1       0      0         0   \n",
      "4            5  10747  0.0        27        27       0      0         0   \n",
      "11          12  10607  1.0         9         9       0      0         0   \n",
      "12          13  10831  0.0        27        27       0      0         0   \n",
      "\n",
      "    othrace  q1  ...  agelt35  agegt54  durable  nondurable  lusd  husd  muld  \\\n",
      "0         0   0  ...        0        0        0           0     0     1     0   \n",
      "3         0   0  ...        0        0        0           0     1     0     0   \n",
      "4         0   0  ...        0        0        0           0     1     0     0   \n",
      "11        0   0  ...        1        0        0           0     0     0     1   \n",
      "12        0   0  ...        0        1        1           0     1     0     0   \n",
      "\n",
      "    dep1  dep2  log_inuidur1  \n",
      "0      0     1      2.890372  \n",
      "3      0     0      0.000000  \n",
      "4      0     0      3.295837  \n",
      "11     0     0      2.197225  \n",
      "12     1     0      3.295837  \n",
      "\n",
      "[5 rows x 26 columns]\n"
     ]
    }
   ],
   "source": [
    "\n",
    "Penn['dep1'] = (Penn['dep'] == 1).astype(int)\n",
    "Penn['dep2'] = (Penn['dep'] == 2).astype(int)\n",
    "Penn['log_inuidur1'] = np.log(Penn['inuidur1'])\n",
    "Penn.drop('dep', axis=1, inplace=True)"
   ]
  },
  {
   "cell_type": "markdown",
   "metadata": {},
   "source": [
    "## Bootstrap function"
   ]
  },
  {
   "cell_type": "markdown",
   "metadata": {},
   "source": [
    "A function is created with the specified linear regression \"log(inuidur1)~t4+ (female+black+othrace+dep1+dep2+q2+q3+q4+q5+q6+agelt35+agegt54+durable+lusd+husd),\" which outputs information about the estimated coefficients (dep1 and dep2 are dummy variables created from dep; ultimately, it is the same as treating dep as a categorical variable)."
   ]
  },
  {
   "cell_type": "code",
   "execution_count": 120,
   "metadata": {},
   "outputs": [],
   "source": [
    "def get_estimates(data,index):\n",
    "    A = data[['t4','female', 'black', 'othrace', 'dep1', 'dep2', 'q2', 'q3', 'q4', 'q5', 'q6', 'agelt35', 'agegt54', 'durable', 'lusd', 'husd']]\n",
    "    X= A.iloc[index] \n",
    "    B = Penn['log_inuidur1']\n",
    "    y=B.iloc[index]\n",
    "    \n",
    "    lr = LinearRegression()\n",
    "    lr.fit(X,y)\n",
    "    intercept = lr.intercept_\n",
    "    coef = lr.coef_\n",
    "    return [intercept,coef]\n",
    "\n",
    "def get_indices(data,num_samples):\n",
    "    return  np.random.choice(np.arange(Penn.shape[0]), num_samples, replace=True)\n",
    "n=len(Penn)\n",
    "\n",
    "def boot(data,func,R):\n",
    "    coeff_1 = []\n",
    "    coeff_2 = []\n",
    "    coeff_3 = []\n",
    "    for i in range(R):\n",
    "        coeff_1.append(func(data,get_indices(data,n))[1][0])\n",
    "        coeff_2.append(func(data,get_indices(data,n))[1][1]) \n",
    "        coeff_3.append(func(data,get_indices(data,n))[1][2])\n",
    "    coeff_1_statistics = {'estimated_value':np.mean(coeff_1),'std_error':np.std(coeff_1)}   \n",
    "    coeff_2_statistics = {'estimated_value':np.mean(coeff_2),'std_error':np.std(coeff_2)}   \n",
    "    coeff_3_statistics = {'estimated_value':np.mean(coeff_3),'std_error':np.std(coeff_3)}   \n",
    "    return {'coeff_1_statistics':coeff_1_statistics,'coeff_2_statistics':coeff_2_statistics,'coeff_3_statistics':coeff_3_statistics}, coeff_1, coeff_2,coeff_3 \n"
   ]
  },
  {
   "cell_type": "markdown",
   "metadata": {},
   "source": [
    "## Standard error"
   ]
  },
  {
   "cell_type": "code",
   "execution_count": 121,
   "metadata": {},
   "outputs": [
    {
     "name": "stdout",
     "output_type": "stream",
     "text": [
      "Result for coefficient term t4  {'estimated_value': -0.06988404525587032, 'std_error': 0.03580097798905932}\n",
      "Result for coefficient term female {'estimated_value': 0.12750195812651027, 'std_error': 0.03530038686565401}\n",
      "Result for coefficient term black {'estimated_value': -0.2917027856008439, 'std_error': 0.06050929944267628}\n"
     ]
    }
   ],
   "source": [
    "results = boot(Penn,get_estimates,1000)\n",
    "\n",
    "print('Result for coefficient term t4 ',results[0]['coeff_1_statistics'])\n",
    "print('Result for coefficient term female',results[0]['coeff_2_statistics'])\n",
    "print('Result for coefficient term black',results[0]['coeff_3_statistics'])"
   ]
  },
  {
   "cell_type": "code",
   "execution_count": 129,
   "metadata": {},
   "outputs": [
    {
     "name": "stdout",
     "output_type": "stream",
     "text": [
      "  Variable  Estimate  Standard Error\n",
      "0       t4 -0.070467        0.036035\n",
      "1   female  0.127009        0.035710\n",
      "2    black -0.293443        0.059621\n"
     ]
    }
   ],
   "source": [
    "data = {\n",
    "    \"Variable\": [\"t4\", \"female\", \"black\"],\n",
    "    \"Estimate\": [\n",
    "        results[0]['coeff_1_statistics']['estimated_value'],\n",
    "        results[0]['coeff_2_statistics']['estimated_value'],\n",
    "        results[0]['coeff_3_statistics']['estimated_value']\n",
    "    ],\n",
    "    \"Standard Error\": [\n",
    "        results[0]['coeff_1_statistics']['std_error'],\n",
    "        results[0]['coeff_2_statistics']['std_error'],\n",
    "        results[0]['coeff_3_statistics']['std_error']\n",
    "    ]\n",
    "}\n",
    "\n",
    "df = pd.DataFrame(data)\n",
    "print(df)\n"
   ]
  },
  {
   "cell_type": "markdown",
   "metadata": {},
   "source": [
    "### t4 distribution"
   ]
  },
  {
   "cell_type": "code",
   "execution_count": 132,
   "metadata": {},
   "outputs": [
    {
     "name": "stderr",
     "output_type": "stream",
     "text": [
      "C:\\Users\\Erzo\\AppData\\Local\\Temp\\ipykernel_13076\\562490230.py:2: UserWarning: \n",
      "\n",
      "`distplot` is a deprecated function and will be removed in seaborn v0.14.0.\n",
      "\n",
      "Please adapt your code to use either `displot` (a figure-level function with\n",
      "similar flexibility) or `histplot` (an axes-level function for histograms).\n",
      "\n",
      "For a guide to updating your code to use the new functions, please see\n",
      "https://gist.github.com/mwaskom/de44147ed2974457ad6372750bbe5751\n",
      "\n",
      "  ax = sns.distplot(results[1], bins=20)\n"
     ]
    },
    {
     "data": {
      "text/plain": [
       "Text(0.5, 1.0, \"Histogram - t4's coefficient (Density)\")"
      ]
     },
     "execution_count": 132,
     "metadata": {},
     "output_type": "execute_result"
    },
    {
     "data": {
      "image/png": "[encoded data removed]",
      "text/plain": [
       "<Figure size 640x480 with 1 Axes>"
      ]
     },
     "metadata": {},
     "output_type": "display_data"
    }
   ],
   "source": [
    "sns.set_theme()\n",
    "ax = sns.distplot(results[1], bins=20)\n",
    "\n",
    "plt.title(\"Histogram - t4's coefficient (Density)\")"
   ]
  },
  {
   "cell_type": "markdown",
   "metadata": {},
   "source": [
    "### Female distribution"
   ]
  },
  {
   "cell_type": "code",
   "execution_count": 135,
   "metadata": {},
   "outputs": [
    {
     "name": "stderr",
     "output_type": "stream",
     "text": [
      "C:\\Users\\Erzo\\AppData\\Local\\Temp\\ipykernel_13076\\889737210.py:2: UserWarning: \n",
      "\n",
      "`distplot` is a deprecated function and will be removed in seaborn v0.14.0.\n",
      "\n",
      "Please adapt your code to use either `displot` (a figure-level function with\n",
      "similar flexibility) or `histplot` (an axes-level function for histograms).\n",
      "\n",
      "For a guide to updating your code to use the new functions, please see\n",
      "https://gist.github.com/mwaskom/de44147ed2974457ad6372750bbe5751\n",
      "\n",
      "  ax = sns.distplot(results[2], bins=20)\n"
     ]
    },
    {
     "data": {
      "text/plain": [
       "Text(0.5, 1.0, \"Histogram - female's coefficient (Density)\")"
      ]
     },
     "execution_count": 135,
     "metadata": {},
     "output_type": "execute_result"
    },
    {
     "data": {
      "image/png": "[encoded data removed]",
      "text/plain": [
       "<Figure size 640x480 with 1 Axes>"
      ]
     },
     "metadata": {},
     "output_type": "display_data"
    }
   ],
   "source": [
    "sns.set_theme()\n",
    "ax = sns.distplot(results[2], bins=20)\n",
    "\n",
    "plt.title(\"Histogram - female's coefficient (Density)\")"
   ]
  },
  {
   "cell_type": "markdown",
   "metadata": {},
   "source": [
    "###  Black distribution"
   ]
  },
  {
   "cell_type": "code",
   "execution_count": 136,
   "metadata": {},
   "outputs": [
    {
     "name": "stderr",
     "output_type": "stream",
     "text": [
      "C:\\Users\\Erzo\\AppData\\Local\\Temp\\ipykernel_13076\\825763745.py:2: UserWarning: \n",
      "\n",
      "`distplot` is a deprecated function and will be removed in seaborn v0.14.0.\n",
      "\n",
      "Please adapt your code to use either `displot` (a figure-level function with\n",
      "similar flexibility) or `histplot` (an axes-level function for histograms).\n",
      "\n",
      "For a guide to updating your code to use the new functions, please see\n",
      "https://gist.github.com/mwaskom/de44147ed2974457ad6372750bbe5751\n",
      "\n",
      "  ax = sns.distplot(results[3], bins=20)\n"
     ]
    },
    {
     "data": {
      "text/plain": [
       "Text(0.5, 1.0, \"Histogram - black's coefficient (Density)\")"
      ]
     },
     "execution_count": 136,
     "metadata": {},
     "output_type": "execute_result"
    },
    {
     "data": {
      "image/png": "[encoded data removed]",
      "text/plain": [
       "<Figure size 640x480 with 1 Axes>"
      ]
     },
     "metadata": {},
     "output_type": "display_data"
    }
   ],
   "source": [
    "sns.set_theme()\n",
    "ax = sns.distplot(results[3], bins=20)\n",
    "\n",
    "plt.title(\"Histogram - black's coefficient (Density)\")"
   ]
  },
  {
   "cell_type": "code",
   "execution_count": null,
   "metadata": {},
   "outputs": [],
   "source": []
  },
  {
   "cell_type": "markdown",
   "metadata": {},
   "source": [
    "## Causal Forest"
   ]
  },
  {
   "cell_type": "code",
   "execution_count": 122,
   "metadata": {},
   "outputs": [],
   "source": [
    "# Libraries\n",
    "import statistics\n",
    "import numpy as np\n",
    "import pandas as pd\n",
    "import matplotlib.pyplot as plt\n",
    "import seaborn as sns\n",
    "import statsmodels.api as sm\n",
    "import statsmodels.formula.api as smf\n",
    "from scipy.stats import norm\n",
    "\n",
    "# Causal forest libraries\n",
    "from econml.grf import RegressionForest\n",
    "from econml.dml import CausalForestDML\n",
    "from econml.cate_interpreter import SingleTreeCateInterpreter"
   ]
  },
  {
   "cell_type": "markdown",
   "metadata": {},
   "source": [
    "### 1. Preprocessing"
   ]
  },
  {
   "cell_type": "code",
   "execution_count": 123,
   "metadata": {},
   "outputs": [],
   "source": [
    "# Import synthetic data from data folder\n",
    "df = pd.read_csv(\"../../data/synthetic_data.csv\")"
   ]
  },
  {
   "cell_type": "code",
   "execution_count": 124,
   "metadata": {},
   "outputs": [
    {
     "data": {
      "text/html": [
       "<div>\n",
       "<style scoped>\n",
       "    .dataframe tbody tr th:only-of-type {\n",
       "        vertical-align: middle;\n",
       "    }\n",
       "\n",
       "    .dataframe tbody tr th {\n",
       "        vertical-align: top;\n",
       "    }\n",
       "\n",
       "    .dataframe thead th {\n",
       "        text-align: right;\n",
       "    }\n",
       "</style>\n",
       "<table border=\"1\" class=\"dataframe\">\n",
       "  <thead>\n",
       "    <tr style=\"text-align: right;\">\n",
       "      <th></th>\n",
       "      <th>schoolid</th>\n",
       "      <th>Z</th>\n",
       "      <th>Y</th>\n",
       "      <th>S3</th>\n",
       "      <th>C1</th>\n",
       "      <th>C2</th>\n",
       "      <th>C3</th>\n",
       "      <th>XC</th>\n",
       "      <th>X1</th>\n",
       "      <th>X2</th>\n",
       "      <th>X3</th>\n",
       "      <th>X4</th>\n",
       "      <th>X5</th>\n",
       "    </tr>\n",
       "  </thead>\n",
       "  <tbody>\n",
       "    <tr>\n",
       "      <th>0</th>\n",
       "      <td>76</td>\n",
       "      <td>1</td>\n",
       "      <td>0.081602</td>\n",
       "      <td>6</td>\n",
       "      <td>4</td>\n",
       "      <td>2</td>\n",
       "      <td>1</td>\n",
       "      <td>4</td>\n",
       "      <td>0.334544</td>\n",
       "      <td>0.648586</td>\n",
       "      <td>-1.310927</td>\n",
       "      <td>0.224077</td>\n",
       "      <td>-0.426757</td>\n",
       "    </tr>\n",
       "    <tr>\n",
       "      <th>1</th>\n",
       "      <td>76</td>\n",
       "      <td>1</td>\n",
       "      <td>-0.385869</td>\n",
       "      <td>4</td>\n",
       "      <td>12</td>\n",
       "      <td>2</td>\n",
       "      <td>1</td>\n",
       "      <td>4</td>\n",
       "      <td>0.334544</td>\n",
       "      <td>0.648586</td>\n",
       "      <td>-1.310927</td>\n",
       "      <td>0.224077</td>\n",
       "      <td>-0.426757</td>\n",
       "    </tr>\n",
       "    <tr>\n",
       "      <th>2</th>\n",
       "      <td>76</td>\n",
       "      <td>1</td>\n",
       "      <td>0.398184</td>\n",
       "      <td>6</td>\n",
       "      <td>4</td>\n",
       "      <td>2</td>\n",
       "      <td>0</td>\n",
       "      <td>4</td>\n",
       "      <td>0.334544</td>\n",
       "      <td>0.648586</td>\n",
       "      <td>-1.310927</td>\n",
       "      <td>0.224077</td>\n",
       "      <td>-0.426757</td>\n",
       "    </tr>\n",
       "    <tr>\n",
       "      <th>3</th>\n",
       "      <td>76</td>\n",
       "      <td>1</td>\n",
       "      <td>-0.175037</td>\n",
       "      <td>6</td>\n",
       "      <td>4</td>\n",
       "      <td>2</td>\n",
       "      <td>0</td>\n",
       "      <td>4</td>\n",
       "      <td>0.334544</td>\n",
       "      <td>0.648586</td>\n",
       "      <td>-1.310927</td>\n",
       "      <td>0.224077</td>\n",
       "      <td>-0.426757</td>\n",
       "    </tr>\n",
       "    <tr>\n",
       "      <th>4</th>\n",
       "      <td>76</td>\n",
       "      <td>1</td>\n",
       "      <td>0.884583</td>\n",
       "      <td>6</td>\n",
       "      <td>4</td>\n",
       "      <td>1</td>\n",
       "      <td>0</td>\n",
       "      <td>4</td>\n",
       "      <td>0.334544</td>\n",
       "      <td>0.648586</td>\n",
       "      <td>-1.310927</td>\n",
       "      <td>0.224077</td>\n",
       "      <td>-0.426757</td>\n",
       "    </tr>\n",
       "  </tbody>\n",
       "</table>\n",
       "</div>"
      ],
      "text/plain": [
       "   schoolid  Z         Y  S3  C1  C2  C3  XC        X1        X2        X3  \\\n",
       "0        76  1  0.081602   6   4   2   1   4  0.334544  0.648586 -1.310927   \n",
       "1        76  1 -0.385869   4  12   2   1   4  0.334544  0.648586 -1.310927   \n",
       "2        76  1  0.398184   6   4   2   0   4  0.334544  0.648586 -1.310927   \n",
       "3        76  1 -0.175037   6   4   2   0   4  0.334544  0.648586 -1.310927   \n",
       "4        76  1  0.884583   6   4   1   0   4  0.334544  0.648586 -1.310927   \n",
       "\n",
       "         X4        X5  \n",
       "0  0.224077 -0.426757  \n",
       "1  0.224077 -0.426757  \n",
       "2  0.224077 -0.426757  \n",
       "3  0.224077 -0.426757  \n",
       "4  0.224077 -0.426757  "
      ]
     },
     "execution_count": 124,
     "metadata": {},
     "output_type": "execute_result"
    }
   ],
   "source": [
    "df.head()"
   ]
  },
  {
   "cell_type": "code",
   "execution_count": 125,
   "metadata": {},
   "outputs": [
    {
     "name": "stdout",
     "output_type": "stream",
     "text": [
      "<class 'pandas.core.frame.DataFrame'>\n",
      "RangeIndex: 10391 entries, 0 to 10390\n",
      "Data columns (total 13 columns):\n",
      " #   Column    Non-Null Count  Dtype  \n",
      "---  ------    --------------  -----  \n",
      " 0   schoolid  10391 non-null  int64  \n",
      " 1   Z         10391 non-null  int64  \n",
      " 2   Y         10391 non-null  float64\n",
      " 3   S3        10391 non-null  int64  \n",
      " 4   C1        10391 non-null  int64  \n",
      " 5   C2        10391 non-null  int64  \n",
      " 6   C3        10391 non-null  int64  \n",
      " 7   XC        10391 non-null  int64  \n",
      " 8   X1        10391 non-null  float64\n",
      " 9   X2        10391 non-null  float64\n",
      " 10  X3        10391 non-null  float64\n",
      " 11  X4        10391 non-null  float64\n",
      " 12  X5        10391 non-null  float64\n",
      "dtypes: float64(6), int64(7)\n",
      "memory usage: 1.0 MB\n"
     ]
    }
   ],
   "source": [
    "df.info()"
   ]
  },
  {
   "cell_type": "code",
   "execution_count": 126,
   "metadata": {},
   "outputs": [],
   "source": [
    "# Save school clusters in variable\n",
    "school_id = df['schoolid'].astype('category').cat.codes\n",
    "\n",
    "# Create a dummy matrix (one-hot encoding) for school IDs\n",
    "school_mat = pd.to_numeric(df['schoolid'], errors='coerce')\n",
    "school_mat = sm.add_constant(pd.get_dummies(df['schoolid'], drop_first=False)).iloc[:, 1:].values\n",
    "\n",
    "# Calculate the size of each school group\n",
    "school_size = school_mat.sum(axis=0)"
   ]
  },
  {
   "cell_type": "code",
   "execution_count": 127,
   "metadata": {},
   "outputs": [
    {
     "name": "stdout",
     "output_type": "stream",
     "text": [
      "                 Generalized Linear Model Regression Results                  \n",
      "==============================================================================\n",
      "Dep. Variable:                      Z   No. Observations:                10391\n",
      "Model:                            GLM   Df Residuals:                    10379\n",
      "Model Family:                Binomial   Df Model:                           11\n",
      "Link Function:                  Logit   Scale:                          1.0000\n",
      "Method:                          IRLS   Log-Likelihood:                -6519.5\n",
      "Date:                Thu, 06 Jun 2024   Deviance:                       13039.\n",
      "Time:                        20:51:37   Pearson chi2:                 1.04e+04\n",
      "No. Iterations:                     4   Pseudo R-squ. (CS):           0.007280\n",
      "Covariance Type:            nonrobust                                         \n",
      "==============================================================================\n",
      "                 coef    std err          z      P>|z|      [0.025      0.975]\n",
      "------------------------------------------------------------------------------\n",
      "Intercept     -1.0758      0.146     -7.348      0.000      -1.363      -0.789\n",
      "schoolid      -0.0005      0.001     -0.574      0.566      -0.002       0.001\n",
      "S3             0.1022      0.020      5.233      0.000       0.064       0.141\n",
      "C1            -0.0023      0.005     -0.431      0.666      -0.013       0.008\n",
      "C2            -0.0974      0.042     -2.313      0.021      -0.180      -0.015\n",
      "C3            -0.1378      0.045     -3.050      0.002      -0.226      -0.049\n",
      "XC             0.0277      0.018      1.568      0.117      -0.007       0.062\n",
      "X1            -0.0881      0.028     -3.103      0.002      -0.144      -0.032\n",
      "X2            -0.0004      0.033     -0.011      0.991      -0.066       0.065\n",
      "X3             0.0337      0.029      1.179      0.239      -0.022       0.090\n",
      "X4            -0.0201      0.027     -0.738      0.460      -0.074       0.033\n",
      "X5             0.0082      0.027      0.303      0.762      -0.045       0.062\n",
      "==============================================================================\n"
     ]
    }
   ],
   "source": [
    "# Fit treatment (w) OLS\n",
    "formula = 'Z ~ ' + ' + '.join(df.columns.drop(['Z', 'Y']))\n",
    "w_lm = smf.glm(formula=formula, data=df, family=sm.families.Binomial()).fit()\n",
    "\n",
    "# Print summary of the GLM model\n",
    "print(w_lm.summary())"
   ]
  },
  {
   "cell_type": "markdown",
   "metadata": {},
   "source": [
    "In the previous OLS, we can observe that only the ctudent’s self-reported expectations for success (S3), student gender (C2), student first-generation status (C3), and school-level mean of students’ fixed mindsets (X1) variables are significat"
   ]
  },
  {
   "cell_type": "code",
   "execution_count": 128,
   "metadata": {},
   "outputs": [],
   "source": [
    "# We define T, Y, and X_raw\n",
    "Y = df['Y']\n",
    "T = df['Z']\n",
    "X_raw = df.drop(columns=['schoolid', 'Z', 'Y']) # School ID does not affect pscore\n",
    "W = None"
   ]
  },
  {
   "cell_type": "code",
   "execution_count": 129,
   "metadata": {},
   "outputs": [],
   "source": [
    "# Create model matrices for categorical variables\n",
    "C1_exp = pd.get_dummies(X_raw['C1'], prefix='C1')\n",
    "XC_exp = pd.get_dummies(X_raw['XC'], prefix='XC')"
   ]
  },
  {
   "cell_type": "code",
   "execution_count": 130,
   "metadata": {},
   "outputs": [],
   "source": [
    "# Combine these matrices with the rest of the data\n",
    "X = pd.concat([X_raw.drop(columns=['C1', 'XC']), C1_exp, XC_exp], axis=1)"
   ]
  },
  {
   "cell_type": "markdown",
   "metadata": {},
   "source": [
    "We have a sample of 10,391 children from 76 schools, and we expand the categorical variables, resulting in 28 covariates, $X_i \\in \\mathbb{R}^{28}$"
   ]
  },
  {
   "cell_type": "code",
   "execution_count": 131,
   "metadata": {},
   "outputs": [
    {
     "data": {
      "text/html": [
       "<div>\n",
       "<style scoped>\n",
       "    .dataframe tbody tr th:only-of-type {\n",
       "        vertical-align: middle;\n",
       "    }\n",
       "\n",
       "    .dataframe tbody tr th {\n",
       "        vertical-align: top;\n",
       "    }\n",
       "\n",
       "    .dataframe thead th {\n",
       "        text-align: right;\n",
       "    }\n",
       "</style>\n",
       "<table border=\"1\" class=\"dataframe\">\n",
       "  <thead>\n",
       "    <tr style=\"text-align: right;\">\n",
       "      <th></th>\n",
       "      <th>S3</th>\n",
       "      <th>C2</th>\n",
       "      <th>C3</th>\n",
       "      <th>X1</th>\n",
       "      <th>X2</th>\n",
       "      <th>X3</th>\n",
       "      <th>X4</th>\n",
       "      <th>X5</th>\n",
       "      <th>C1_1</th>\n",
       "      <th>C1_2</th>\n",
       "      <th>...</th>\n",
       "      <th>C1_11</th>\n",
       "      <th>C1_12</th>\n",
       "      <th>C1_13</th>\n",
       "      <th>C1_14</th>\n",
       "      <th>C1_15</th>\n",
       "      <th>XC_0</th>\n",
       "      <th>XC_1</th>\n",
       "      <th>XC_2</th>\n",
       "      <th>XC_3</th>\n",
       "      <th>XC_4</th>\n",
       "    </tr>\n",
       "  </thead>\n",
       "  <tbody>\n",
       "    <tr>\n",
       "      <th>0</th>\n",
       "      <td>6</td>\n",
       "      <td>2</td>\n",
       "      <td>1</td>\n",
       "      <td>0.334544</td>\n",
       "      <td>0.648586</td>\n",
       "      <td>-1.310927</td>\n",
       "      <td>0.224077</td>\n",
       "      <td>-0.426757</td>\n",
       "      <td>False</td>\n",
       "      <td>False</td>\n",
       "      <td>...</td>\n",
       "      <td>False</td>\n",
       "      <td>False</td>\n",
       "      <td>False</td>\n",
       "      <td>False</td>\n",
       "      <td>False</td>\n",
       "      <td>False</td>\n",
       "      <td>False</td>\n",
       "      <td>False</td>\n",
       "      <td>False</td>\n",
       "      <td>True</td>\n",
       "    </tr>\n",
       "    <tr>\n",
       "      <th>1</th>\n",
       "      <td>4</td>\n",
       "      <td>2</td>\n",
       "      <td>1</td>\n",
       "      <td>0.334544</td>\n",
       "      <td>0.648586</td>\n",
       "      <td>-1.310927</td>\n",
       "      <td>0.224077</td>\n",
       "      <td>-0.426757</td>\n",
       "      <td>False</td>\n",
       "      <td>False</td>\n",
       "      <td>...</td>\n",
       "      <td>False</td>\n",
       "      <td>True</td>\n",
       "      <td>False</td>\n",
       "      <td>False</td>\n",
       "      <td>False</td>\n",
       "      <td>False</td>\n",
       "      <td>False</td>\n",
       "      <td>False</td>\n",
       "      <td>False</td>\n",
       "      <td>True</td>\n",
       "    </tr>\n",
       "    <tr>\n",
       "      <th>2</th>\n",
       "      <td>6</td>\n",
       "      <td>2</td>\n",
       "      <td>0</td>\n",
       "      <td>0.334544</td>\n",
       "      <td>0.648586</td>\n",
       "      <td>-1.310927</td>\n",
       "      <td>0.224077</td>\n",
       "      <td>-0.426757</td>\n",
       "      <td>False</td>\n",
       "      <td>False</td>\n",
       "      <td>...</td>\n",
       "      <td>False</td>\n",
       "      <td>False</td>\n",
       "      <td>False</td>\n",
       "      <td>False</td>\n",
       "      <td>False</td>\n",
       "      <td>False</td>\n",
       "      <td>False</td>\n",
       "      <td>False</td>\n",
       "      <td>False</td>\n",
       "      <td>True</td>\n",
       "    </tr>\n",
       "    <tr>\n",
       "      <th>3</th>\n",
       "      <td>6</td>\n",
       "      <td>2</td>\n",
       "      <td>0</td>\n",
       "      <td>0.334544</td>\n",
       "      <td>0.648586</td>\n",
       "      <td>-1.310927</td>\n",
       "      <td>0.224077</td>\n",
       "      <td>-0.426757</td>\n",
       "      <td>False</td>\n",
       "      <td>False</td>\n",
       "      <td>...</td>\n",
       "      <td>False</td>\n",
       "      <td>False</td>\n",
       "      <td>False</td>\n",
       "      <td>False</td>\n",
       "      <td>False</td>\n",
       "      <td>False</td>\n",
       "      <td>False</td>\n",
       "      <td>False</td>\n",
       "      <td>False</td>\n",
       "      <td>True</td>\n",
       "    </tr>\n",
       "    <tr>\n",
       "      <th>4</th>\n",
       "      <td>6</td>\n",
       "      <td>1</td>\n",
       "      <td>0</td>\n",
       "      <td>0.334544</td>\n",
       "      <td>0.648586</td>\n",
       "      <td>-1.310927</td>\n",
       "      <td>0.224077</td>\n",
       "      <td>-0.426757</td>\n",
       "      <td>False</td>\n",
       "      <td>False</td>\n",
       "      <td>...</td>\n",
       "      <td>False</td>\n",
       "      <td>False</td>\n",
       "      <td>False</td>\n",
       "      <td>False</td>\n",
       "      <td>False</td>\n",
       "      <td>False</td>\n",
       "      <td>False</td>\n",
       "      <td>False</td>\n",
       "      <td>False</td>\n",
       "      <td>True</td>\n",
       "    </tr>\n",
       "    <tr>\n",
       "      <th>...</th>\n",
       "      <td>...</td>\n",
       "      <td>...</td>\n",
       "      <td>...</td>\n",
       "      <td>...</td>\n",
       "      <td>...</td>\n",
       "      <td>...</td>\n",
       "      <td>...</td>\n",
       "      <td>...</td>\n",
       "      <td>...</td>\n",
       "      <td>...</td>\n",
       "      <td>...</td>\n",
       "      <td>...</td>\n",
       "      <td>...</td>\n",
       "      <td>...</td>\n",
       "      <td>...</td>\n",
       "      <td>...</td>\n",
       "      <td>...</td>\n",
       "      <td>...</td>\n",
       "      <td>...</td>\n",
       "      <td>...</td>\n",
       "      <td>...</td>\n",
       "    </tr>\n",
       "    <tr>\n",
       "      <th>10386</th>\n",
       "      <td>7</td>\n",
       "      <td>2</td>\n",
       "      <td>1</td>\n",
       "      <td>1.185986</td>\n",
       "      <td>-1.129889</td>\n",
       "      <td>1.009875</td>\n",
       "      <td>1.005063</td>\n",
       "      <td>-1.174702</td>\n",
       "      <td>False</td>\n",
       "      <td>False</td>\n",
       "      <td>...</td>\n",
       "      <td>False</td>\n",
       "      <td>False</td>\n",
       "      <td>False</td>\n",
       "      <td>False</td>\n",
       "      <td>False</td>\n",
       "      <td>False</td>\n",
       "      <td>False</td>\n",
       "      <td>False</td>\n",
       "      <td>True</td>\n",
       "      <td>False</td>\n",
       "    </tr>\n",
       "    <tr>\n",
       "      <th>10387</th>\n",
       "      <td>7</td>\n",
       "      <td>2</td>\n",
       "      <td>1</td>\n",
       "      <td>1.185986</td>\n",
       "      <td>-1.129889</td>\n",
       "      <td>1.009875</td>\n",
       "      <td>1.005063</td>\n",
       "      <td>-1.174702</td>\n",
       "      <td>False</td>\n",
       "      <td>False</td>\n",
       "      <td>...</td>\n",
       "      <td>False</td>\n",
       "      <td>False</td>\n",
       "      <td>False</td>\n",
       "      <td>False</td>\n",
       "      <td>False</td>\n",
       "      <td>False</td>\n",
       "      <td>False</td>\n",
       "      <td>False</td>\n",
       "      <td>True</td>\n",
       "      <td>False</td>\n",
       "    </tr>\n",
       "    <tr>\n",
       "      <th>10388</th>\n",
       "      <td>2</td>\n",
       "      <td>1</td>\n",
       "      <td>1</td>\n",
       "      <td>1.185986</td>\n",
       "      <td>-1.129889</td>\n",
       "      <td>1.009875</td>\n",
       "      <td>1.005063</td>\n",
       "      <td>-1.174702</td>\n",
       "      <td>False</td>\n",
       "      <td>False</td>\n",
       "      <td>...</td>\n",
       "      <td>False</td>\n",
       "      <td>False</td>\n",
       "      <td>False</td>\n",
       "      <td>False</td>\n",
       "      <td>True</td>\n",
       "      <td>False</td>\n",
       "      <td>False</td>\n",
       "      <td>False</td>\n",
       "      <td>True</td>\n",
       "      <td>False</td>\n",
       "    </tr>\n",
       "    <tr>\n",
       "      <th>10389</th>\n",
       "      <td>5</td>\n",
       "      <td>1</td>\n",
       "      <td>1</td>\n",
       "      <td>1.185986</td>\n",
       "      <td>-1.129889</td>\n",
       "      <td>1.009875</td>\n",
       "      <td>1.005063</td>\n",
       "      <td>-1.174702</td>\n",
       "      <td>False</td>\n",
       "      <td>False</td>\n",
       "      <td>...</td>\n",
       "      <td>False</td>\n",
       "      <td>False</td>\n",
       "      <td>False</td>\n",
       "      <td>False</td>\n",
       "      <td>False</td>\n",
       "      <td>False</td>\n",
       "      <td>False</td>\n",
       "      <td>False</td>\n",
       "      <td>True</td>\n",
       "      <td>False</td>\n",
       "    </tr>\n",
       "    <tr>\n",
       "      <th>10390</th>\n",
       "      <td>5</td>\n",
       "      <td>2</td>\n",
       "      <td>1</td>\n",
       "      <td>1.185986</td>\n",
       "      <td>-1.129889</td>\n",
       "      <td>1.009875</td>\n",
       "      <td>1.005063</td>\n",
       "      <td>-1.174702</td>\n",
       "      <td>True</td>\n",
       "      <td>False</td>\n",
       "      <td>...</td>\n",
       "      <td>False</td>\n",
       "      <td>False</td>\n",
       "      <td>False</td>\n",
       "      <td>False</td>\n",
       "      <td>False</td>\n",
       "      <td>False</td>\n",
       "      <td>False</td>\n",
       "      <td>False</td>\n",
       "      <td>True</td>\n",
       "      <td>False</td>\n",
       "    </tr>\n",
       "  </tbody>\n",
       "</table>\n",
       "<p>10391 rows × 28 columns</p>\n",
       "</div>"
      ],
      "text/plain": [
       "       S3  C2  C3        X1        X2        X3        X4        X5   C1_1  \\\n",
       "0       6   2   1  0.334544  0.648586 -1.310927  0.224077 -0.426757  False   \n",
       "1       4   2   1  0.334544  0.648586 -1.310927  0.224077 -0.426757  False   \n",
       "2       6   2   0  0.334544  0.648586 -1.310927  0.224077 -0.426757  False   \n",
       "3       6   2   0  0.334544  0.648586 -1.310927  0.224077 -0.426757  False   \n",
       "4       6   1   0  0.334544  0.648586 -1.310927  0.224077 -0.426757  False   \n",
       "...    ..  ..  ..       ...       ...       ...       ...       ...    ...   \n",
       "10386   7   2   1  1.185986 -1.129889  1.009875  1.005063 -1.174702  False   \n",
       "10387   7   2   1  1.185986 -1.129889  1.009875  1.005063 -1.174702  False   \n",
       "10388   2   1   1  1.185986 -1.129889  1.009875  1.005063 -1.174702  False   \n",
       "10389   5   1   1  1.185986 -1.129889  1.009875  1.005063 -1.174702  False   \n",
       "10390   5   2   1  1.185986 -1.129889  1.009875  1.005063 -1.174702   True   \n",
       "\n",
       "        C1_2  ...  C1_11  C1_12  C1_13  C1_14  C1_15   XC_0   XC_1   XC_2  \\\n",
       "0      False  ...  False  False  False  False  False  False  False  False   \n",
       "1      False  ...  False   True  False  False  False  False  False  False   \n",
       "2      False  ...  False  False  False  False  False  False  False  False   \n",
       "3      False  ...  False  False  False  False  False  False  False  False   \n",
       "4      False  ...  False  False  False  False  False  False  False  False   \n",
       "...      ...  ...    ...    ...    ...    ...    ...    ...    ...    ...   \n",
       "10386  False  ...  False  False  False  False  False  False  False  False   \n",
       "10387  False  ...  False  False  False  False  False  False  False  False   \n",
       "10388  False  ...  False  False  False  False   True  False  False  False   \n",
       "10389  False  ...  False  False  False  False  False  False  False  False   \n",
       "10390  False  ...  False  False  False  False  False  False  False  False   \n",
       "\n",
       "        XC_3   XC_4  \n",
       "0      False   True  \n",
       "1      False   True  \n",
       "2      False   True  \n",
       "3      False   True  \n",
       "4      False   True  \n",
       "...      ...    ...  \n",
       "10386   True  False  \n",
       "10387   True  False  \n",
       "10388   True  False  \n",
       "10389   True  False  \n",
       "10390   True  False  \n",
       "\n",
       "[10391 rows x 28 columns]"
      ]
     },
     "execution_count": 131,
     "metadata": {},
     "output_type": "execute_result"
    }
   ],
   "source": [
    "X"
   ]
  },
  {
   "cell_type": "markdown",
   "metadata": {},
   "source": [
    "For each sample $i$, the authors consider potential outcomes $Y_i(0)$ and $Y_i(1)$, representing the outcomes if the $i$-th sample had been assigned to control $(W_i=0)$ or treatment $(W_i=1)$, respectively. We assume that we observe $Y_i = Y_i(W_i)$. The average treatment effect is defined as $\\tau = \\mathbb{E} [Y_i(1) - Y_i(0)]$, and the conditional average treatment effect function is $\\tau(x) = \\mathbb{E} [Y_i(1) - Y_i(0) \\mid X_i = x]$."
   ]
  },
  {
   "cell_type": "markdown",
   "metadata": {},
   "source": [
    "### 2. Causal Forest estimation and results"
   ]
  },
  {
   "cell_type": "markdown",
   "metadata": {},
   "source": [
    "#### 2.1. Causal Forest"
   ]
  },
  {
   "cell_type": "markdown",
   "metadata": {},
   "source": [
    "When using random forests, the authors aim to perform a non-parametric random effects modeling approach, where each school is presumed to influence the student's outcome. However, the authors do not impose any assumptions about the distribution of these effects, specifically avoiding the assumption that school effects are Gaussian or additive.\n",
    "\n",
    "The causal forest (CF) method attempts to find neighbourhoods in the covariate space, also known as recursive partitioning. While a random forest is built from decision trees, a causal forest is built from causal trees, where the causal trees learn a low-dimensional representation of treatment effect heterogeneity. To built a CF, we use the post-treatment outcome vector ($Y$), the treatment vector ($T$), and the 28 parameters matrix ($X$)."
   ]
  },
  {
   "cell_type": "code",
   "execution_count": 132,
   "metadata": {},
   "outputs": [],
   "source": [
    "np.random.seed(123)\n",
    "\n",
    "forest_model = CausalForestDML(model_t=RegressionForest(),\n",
    "                               model_y=RegressionForest(),\n",
    "                               n_estimators=200, \n",
    "                               min_samples_leaf=4,\n",
    "                               max_depth=50,\n",
    "                               verbose=0, \n",
    "                               random_state=123)\n",
    "\n",
    "tree_model = forest_model.fit(Y, T, X=X, W=W)"
   ]
  },
  {
   "cell_type": "code",
   "execution_count": 133,
   "metadata": {},
   "outputs": [
    {
     "data": {
      "image/png": "[encoded data removed]",
      "text/plain": [
       "<Figure size 640x480 with 1 Axes>"
      ]
     },
     "metadata": {},
     "output_type": "display_data"
    }
   ],
   "source": [
    "intrp = SingleTreeCateInterpreter(max_depth=2).interpret(forest_model, X)\n",
    "intrp.plot(feature_names=X.columns, fontsize=7)"
   ]
  },
  {
   "cell_type": "markdown",
   "metadata": {},
   "source": [
    "We found that the greater CATE is in the group of students that attendts to a school with a mean fixed mindset level lower than 0.21 (that means, with larger values of growth mindset), and with a percentage of students who are from families whose incomes fall below the federal poverty line greater than -0.75."
   ]
  },
  {
   "cell_type": "markdown",
   "metadata": {},
   "source": [
    "#### 2.2. ATE"
   ]
  },
  {
   "cell_type": "markdown",
   "metadata": {},
   "source": [
    "The package dml has a built-in function for average treatment effect estimation. First, we estimate the CATE ($\\hat{\\tau}$), where we can see it is around 0.2 and 0.4. Then, we find that the ATE value is around 0.25."
   ]
  },
  {
   "cell_type": "code",
   "execution_count": 134,
   "metadata": {},
   "outputs": [
    {
     "data": {
      "text/plain": [
       "0.25106325917227695"
      ]
     },
     "execution_count": 134,
     "metadata": {},
     "output_type": "execute_result"
    }
   ],
   "source": [
    "tau_hat = forest_model.effect(X=X) # tau(X) estimates\n",
    "statistics.mean(tau_hat)"
   ]
  },
  {
   "cell_type": "code",
   "execution_count": 135,
   "metadata": {},
   "outputs": [
    {
     "data": {
      "text/plain": [
       "Text(0.5, 1.0, 'CATE estimates')"
      ]
     },
     "execution_count": 135,
     "metadata": {},
     "output_type": "execute_result"
    },
    {
     "data": {
      "image/png": "[encoded data removed]",
      "text/plain": [
       "<Figure size 500x500 with 1 Axes>"
      ]
     },
     "metadata": {},
     "output_type": "display_data"
    }
   ],
   "source": [
    "# Do not use this for assessing heterogeneity. See text above.\n",
    "sns.displot(tau_hat, stat=\"density\", bins = 10)\n",
    "plt.title(\"CATE estimates\")"
   ]
  },
  {
   "cell_type": "markdown",
   "metadata": {},
   "source": [
    "The causal forest CATE estimates exhibit some variation, from -0.2 to 0.6."
   ]
  },
  {
   "cell_type": "markdown",
   "metadata": {},
   "source": [
    "#### 2.3. Run best linear predictor analysis"
   ]
  },
  {
   "cell_type": "code",
   "execution_count": 136,
   "metadata": {},
   "outputs": [],
   "source": [
    "# Assuming cf is an instance of an EconML estimator\n",
    "# and tau_hat is the estimated Conditional Average Treatment Effect (CATE)\n",
    "\n",
    "# Compare regions with high and low estimated CATEs\n",
    "high_effect = tau_hat > np.median(tau_hat)\n",
    "\n",
    "# Calculate average treatment effect for high and low effect subsets\n",
    "ate_high = tree_model.ate_inference(X=X[high_effect])\n",
    "ate_low = tree_model.ate_inference(X=X[~high_effect])"
   ]
  },
  {
   "cell_type": "code",
   "execution_count": 137,
   "metadata": {},
   "outputs": [
    {
     "data": {
      "text/html": [
       "<table class=\"simpletable\">\n",
       "<caption>Uncertainty of Mean Point Estimate</caption>\n",
       "<tr>\n",
       "  <th>mean_point</th> <th>stderr_mean</th> <th>zstat</th> <th>pvalue</th> <th>ci_mean_lower</th> <th>ci_mean_upper</th>\n",
       "</tr>\n",
       "<tr>\n",
       "     <td>0.355</td>      <td>0.122</td>    <td>2.906</td>  <td>0.004</td>     <td>0.115</td>         <td>0.594</td>    \n",
       "</tr>\n",
       "</table>\n",
       "<table class=\"simpletable\">\n",
       "<caption>Distribution of Point Estimate</caption>\n",
       "<tr>\n",
       "  <th>std_point</th> <th>pct_point_lower</th> <th>pct_point_upper</th>\n",
       "</tr>\n",
       "<tr>\n",
       "    <td>0.08</td>         <td>0.257</td>           <td>0.558</td>     \n",
       "</tr>\n",
       "</table>\n",
       "<table class=\"simpletable\">\n",
       "<caption>Total Variance of Point Estimate</caption>\n",
       "<tr>\n",
       "  <th>stderr_point</th> <th>ci_point_lower</th> <th>ci_point_upper</th>\n",
       "</tr>\n",
       "<tr>\n",
       "      <td>0.146</td>         <td>0.079</td>          <td>0.669</td>    \n",
       "</tr>\n",
       "</table><br/><br/>Note: The stderr_mean is a conservative upper bound."
      ],
      "text/plain": [
       "<econml.inference._inference.PopulationSummaryResults at 0x19f7d0110>"
      ]
     },
     "execution_count": 137,
     "metadata": {},
     "output_type": "execute_result"
    }
   ],
   "source": [
    "ate_high"
   ]
  },
  {
   "cell_type": "code",
   "execution_count": 138,
   "metadata": {},
   "outputs": [
    {
     "data": {
      "text/html": [
       "<table class=\"simpletable\">\n",
       "<caption>Uncertainty of Mean Point Estimate</caption>\n",
       "<tr>\n",
       "  <th>mean_point</th> <th>stderr_mean</th> <th>zstat</th> <th>pvalue</th> <th>ci_mean_lower</th> <th>ci_mean_upper</th>\n",
       "</tr>\n",
       "<tr>\n",
       "     <td>0.148</td>      <td>0.121</td>    <td>1.215</td>  <td>0.225</td>    <td>-0.091</td>         <td>0.386</td>    \n",
       "</tr>\n",
       "</table>\n",
       "<table class=\"simpletable\">\n",
       "<caption>Distribution of Point Estimate</caption>\n",
       "<tr>\n",
       "  <th>std_point</th> <th>pct_point_lower</th> <th>pct_point_upper</th>\n",
       "</tr>\n",
       "<tr>\n",
       "    <td>0.082</td>       <td>-0.043</td>           <td>0.249</td>     \n",
       "</tr>\n",
       "</table>\n",
       "<table class=\"simpletable\">\n",
       "<caption>Total Variance of Point Estimate</caption>\n",
       "<tr>\n",
       "  <th>stderr_point</th> <th>ci_point_lower</th> <th>ci_point_upper</th>\n",
       "</tr>\n",
       "<tr>\n",
       "      <td>0.146</td>        <td>-0.162</td>          <td>0.426</td>    \n",
       "</tr>\n",
       "</table><br/><br/>Note: The stderr_mean is a conservative upper bound."
      ],
      "text/plain": [
       "<econml.inference._inference.PopulationSummaryResults at 0x19f017910>"
      ]
     },
     "execution_count": 138,
     "metadata": {},
     "output_type": "execute_result"
    }
   ],
   "source": [
    "ate_low"
   ]
  },
  {
   "cell_type": "code",
   "execution_count": 117,
   "metadata": {},
   "outputs": [
    {
     "name": "stdout",
     "output_type": "stream",
     "text": [
      "95% CI for difference in ATE: 0.207 +/- 0.337\n"
     ]
    }
   ],
   "source": [
    "# Calculate 95% confidence interval for the difference in ATEs\n",
    "difference_in_ate = 0.355 - 0.148\n",
    "ci_width = norm.ppf(0.975) * np.sqrt(0.122**2 + 0.121**2)\n",
    "\n",
    "print(f\"95% CI for difference in ATE: {difference_in_ate:.3f} +/- {ci_width:.3f}\")"
   ]
  },
  {
   "cell_type": "code",
   "execution_count": 140,
   "metadata": {},
   "outputs": [
    {
     "ename": "NameError",
     "evalue": "name 'dr_score' is not defined",
     "output_type": "error",
     "traceback": [
      "\u001b[0;31m---------------------------------------------------------------------------\u001b[0m",
      "\u001b[0;31mNameError\u001b[0m                                 Traceback (most recent call last)",
      "Cell \u001b[0;32mIn[140], line 2\u001b[0m\n\u001b[1;32m      1\u001b[0m \u001b[38;5;66;03m# Calculate school.score\u001b[39;00m\n\u001b[0;32m----> 2\u001b[0m school_score \u001b[38;5;241m=\u001b[39m np\u001b[38;5;241m.\u001b[39mdot(school_mat\u001b[38;5;241m.\u001b[39mT, \u001b[43mdr_score\u001b[49m) \u001b[38;5;241m/\u001b[39m school_size\n",
      "\u001b[0;31mNameError\u001b[0m: name 'dr_score' is not defined"
     ]
    }
   ],
   "source": [
    "# The fitted causal forest model should provide these values:\n",
    "W_hat = tree_model.propensity_  # Estimated treatment probability (cf$W.hat)\n",
    "Y_hat = tree_model.predict(X)   # Predicted outcome (cf$Y.hat)\n",
    "\n",
    "# Calculate dr.score\n",
    "dr_score = (\n",
    "    tau_hat + \n",
    "    W / W_hat * (Y - Y_hat - (1 - W_hat) * tau_hat) -\n",
    "    (1 - W) / (1 - W_hat) * (Y - Y_hat + W_hat * tau_hat)\n",
    ")\n",
    "\n",
    "# Calculate school.score\n",
    "school_score = np.dot(school_mat.T, dr_score) / school_size"
   ]
  },
  {
   "cell_type": "markdown",
   "metadata": {},
   "source": [
    "#### 2.4. Look at school-wise heterogeneity"
   ]
  },
  {
   "cell_type": "code",
   "execution_count": 142,
   "metadata": {},
   "outputs": [
    {
     "ename": "TypeError",
     "evalue": "'<' not supported between instances of 'ellipsis' and 'float'",
     "output_type": "error",
     "traceback": [
      "\u001b[0;31m---------------------------------------------------------------------------\u001b[0m",
      "\u001b[0;31mTypeError\u001b[0m                                 Traceback (most recent call last)",
      "Cell \u001b[0;32mIn[142], line 6\u001b[0m\n\u001b[1;32m      4\u001b[0m \u001b[38;5;66;03m# Create the histogram\u001b[39;00m\n\u001b[1;32m      5\u001b[0m plt\u001b[38;5;241m.\u001b[39mfigure(figsize\u001b[38;5;241m=\u001b[39m(\u001b[38;5;241m8\u001b[39m, \u001b[38;5;241m6\u001b[39m))\n\u001b[0;32m----> 6\u001b[0m \u001b[43mplt\u001b[49m\u001b[38;5;241;43m.\u001b[39;49m\u001b[43mhist\u001b[49m\u001b[43m(\u001b[49m\u001b[43mschool_score\u001b[49m\u001b[43m,\u001b[49m\u001b[43m \u001b[49m\u001b[43mbins\u001b[49m\u001b[38;5;241;43m=\u001b[39;49m\u001b[38;5;241;43m30\u001b[39;49m\u001b[43m,\u001b[49m\u001b[43m \u001b[49m\u001b[43medgecolor\u001b[49m\u001b[38;5;241;43m=\u001b[39;49m\u001b[38;5;124;43m'\u001b[39;49m\u001b[38;5;124;43mblack\u001b[39;49m\u001b[38;5;124;43m'\u001b[39;49m\u001b[43m)\u001b[49m\n\u001b[1;32m      7\u001b[0m plt\u001b[38;5;241m.\u001b[39mxlabel(\u001b[38;5;124m'\u001b[39m\u001b[38;5;124mSchool Treatment Effect Estimate\u001b[39m\u001b[38;5;124m'\u001b[39m, fontsize\u001b[38;5;241m=\u001b[39m\u001b[38;5;241m16\u001b[39m)\n\u001b[1;32m      8\u001b[0m plt\u001b[38;5;241m.\u001b[39mylabel(\u001b[38;5;124m'\u001b[39m\u001b[38;5;124mFrequency\u001b[39m\u001b[38;5;124m'\u001b[39m, fontsize\u001b[38;5;241m=\u001b[39m\u001b[38;5;241m16\u001b[39m)\n",
      "File \u001b[0;32m~/opt/anaconda3/envs/personal/lib/python3.11/site-packages/matplotlib/pyplot.py:3236\u001b[0m, in \u001b[0;36mhist\u001b[0;34m(x, bins, range, density, weights, cumulative, bottom, histtype, align, orientation, rwidth, log, color, label, stacked, data, **kwargs)\u001b[0m\n\u001b[1;32m   3211\u001b[0m \u001b[38;5;129m@_copy_docstring_and_deprecators\u001b[39m(Axes\u001b[38;5;241m.\u001b[39mhist)\n\u001b[1;32m   3212\u001b[0m \u001b[38;5;28;01mdef\u001b[39;00m \u001b[38;5;21mhist\u001b[39m(\n\u001b[1;32m   3213\u001b[0m     x: ArrayLike \u001b[38;5;241m|\u001b[39m Sequence[ArrayLike],\n\u001b[0;32m   (...)\u001b[0m\n\u001b[1;32m   3234\u001b[0m     BarContainer \u001b[38;5;241m|\u001b[39m Polygon \u001b[38;5;241m|\u001b[39m \u001b[38;5;28mlist\u001b[39m[BarContainer \u001b[38;5;241m|\u001b[39m Polygon],\n\u001b[1;32m   3235\u001b[0m ]:\n\u001b[0;32m-> 3236\u001b[0m     \u001b[38;5;28;01mreturn\u001b[39;00m \u001b[43mgca\u001b[49m\u001b[43m(\u001b[49m\u001b[43m)\u001b[49m\u001b[38;5;241;43m.\u001b[39;49m\u001b[43mhist\u001b[49m\u001b[43m(\u001b[49m\n\u001b[1;32m   3237\u001b[0m \u001b[43m        \u001b[49m\u001b[43mx\u001b[49m\u001b[43m,\u001b[49m\n\u001b[1;32m   3238\u001b[0m \u001b[43m        \u001b[49m\u001b[43mbins\u001b[49m\u001b[38;5;241;43m=\u001b[39;49m\u001b[43mbins\u001b[49m\u001b[43m,\u001b[49m\n\u001b[1;32m   3239\u001b[0m \u001b[43m        \u001b[49m\u001b[38;5;28;43mrange\u001b[39;49m\u001b[38;5;241;43m=\u001b[39;49m\u001b[38;5;28;43mrange\u001b[39;49m\u001b[43m,\u001b[49m\n\u001b[1;32m   3240\u001b[0m \u001b[43m        \u001b[49m\u001b[43mdensity\u001b[49m\u001b[38;5;241;43m=\u001b[39;49m\u001b[43mdensity\u001b[49m\u001b[43m,\u001b[49m\n\u001b[1;32m   3241\u001b[0m \u001b[43m        \u001b[49m\u001b[43mweights\u001b[49m\u001b[38;5;241;43m=\u001b[39;49m\u001b[43mweights\u001b[49m\u001b[43m,\u001b[49m\n\u001b[1;32m   3242\u001b[0m \u001b[43m        \u001b[49m\u001b[43mcumulative\u001b[49m\u001b[38;5;241;43m=\u001b[39;49m\u001b[43mcumulative\u001b[49m\u001b[43m,\u001b[49m\n\u001b[1;32m   3243\u001b[0m \u001b[43m        \u001b[49m\u001b[43mbottom\u001b[49m\u001b[38;5;241;43m=\u001b[39;49m\u001b[43mbottom\u001b[49m\u001b[43m,\u001b[49m\n\u001b[1;32m   3244\u001b[0m \u001b[43m        \u001b[49m\u001b[43mhisttype\u001b[49m\u001b[38;5;241;43m=\u001b[39;49m\u001b[43mhisttype\u001b[49m\u001b[43m,\u001b[49m\n\u001b[1;32m   3245\u001b[0m \u001b[43m        \u001b[49m\u001b[43malign\u001b[49m\u001b[38;5;241;43m=\u001b[39;49m\u001b[43malign\u001b[49m\u001b[43m,\u001b[49m\n\u001b[1;32m   3246\u001b[0m \u001b[43m        \u001b[49m\u001b[43morientation\u001b[49m\u001b[38;5;241;43m=\u001b[39;49m\u001b[43morientation\u001b[49m\u001b[43m,\u001b[49m\n\u001b[1;32m   3247\u001b[0m \u001b[43m        \u001b[49m\u001b[43mrwidth\u001b[49m\u001b[38;5;241;43m=\u001b[39;49m\u001b[43mrwidth\u001b[49m\u001b[43m,\u001b[49m\n\u001b[1;32m   3248\u001b[0m \u001b[43m        \u001b[49m\u001b[43mlog\u001b[49m\u001b[38;5;241;43m=\u001b[39;49m\u001b[43mlog\u001b[49m\u001b[43m,\u001b[49m\n\u001b[1;32m   3249\u001b[0m \u001b[43m        \u001b[49m\u001b[43mcolor\u001b[49m\u001b[38;5;241;43m=\u001b[39;49m\u001b[43mcolor\u001b[49m\u001b[43m,\u001b[49m\n\u001b[1;32m   3250\u001b[0m \u001b[43m        \u001b[49m\u001b[43mlabel\u001b[49m\u001b[38;5;241;43m=\u001b[39;49m\u001b[43mlabel\u001b[49m\u001b[43m,\u001b[49m\n\u001b[1;32m   3251\u001b[0m \u001b[43m        \u001b[49m\u001b[43mstacked\u001b[49m\u001b[38;5;241;43m=\u001b[39;49m\u001b[43mstacked\u001b[49m\u001b[43m,\u001b[49m\n\u001b[1;32m   3252\u001b[0m \u001b[43m        \u001b[49m\u001b[38;5;241;43m*\u001b[39;49m\u001b[38;5;241;43m*\u001b[39;49m\u001b[43m(\u001b[49m\u001b[43m{\u001b[49m\u001b[38;5;124;43m\"\u001b[39;49m\u001b[38;5;124;43mdata\u001b[39;49m\u001b[38;5;124;43m\"\u001b[39;49m\u001b[43m:\u001b[49m\u001b[43m \u001b[49m\u001b[43mdata\u001b[49m\u001b[43m}\u001b[49m\u001b[43m \u001b[49m\u001b[38;5;28;43;01mif\u001b[39;49;00m\u001b[43m \u001b[49m\u001b[43mdata\u001b[49m\u001b[43m \u001b[49m\u001b[38;5;129;43;01mis\u001b[39;49;00m\u001b[43m \u001b[49m\u001b[38;5;129;43;01mnot\u001b[39;49;00m\u001b[43m \u001b[49m\u001b[38;5;28;43;01mNone\u001b[39;49;00m\u001b[43m \u001b[49m\u001b[38;5;28;43;01melse\u001b[39;49;00m\u001b[43m \u001b[49m\u001b[43m{\u001b[49m\u001b[43m}\u001b[49m\u001b[43m)\u001b[49m\u001b[43m,\u001b[49m\n\u001b[1;32m   3253\u001b[0m \u001b[43m        \u001b[49m\u001b[38;5;241;43m*\u001b[39;49m\u001b[38;5;241;43m*\u001b[39;49m\u001b[43mkwargs\u001b[49m\u001b[43m,\u001b[49m\n\u001b[1;32m   3254\u001b[0m \u001b[43m    \u001b[49m\u001b[43m)\u001b[49m\n",
      "File \u001b[0;32m~/opt/anaconda3/envs/personal/lib/python3.11/site-packages/matplotlib/__init__.py:1465\u001b[0m, in \u001b[0;36m_preprocess_data.<locals>.inner\u001b[0;34m(ax, data, *args, **kwargs)\u001b[0m\n\u001b[1;32m   1462\u001b[0m \u001b[38;5;129m@functools\u001b[39m\u001b[38;5;241m.\u001b[39mwraps(func)\n\u001b[1;32m   1463\u001b[0m \u001b[38;5;28;01mdef\u001b[39;00m \u001b[38;5;21minner\u001b[39m(ax, \u001b[38;5;241m*\u001b[39margs, data\u001b[38;5;241m=\u001b[39m\u001b[38;5;28;01mNone\u001b[39;00m, \u001b[38;5;241m*\u001b[39m\u001b[38;5;241m*\u001b[39mkwargs):\n\u001b[1;32m   1464\u001b[0m     \u001b[38;5;28;01mif\u001b[39;00m data \u001b[38;5;129;01mis\u001b[39;00m \u001b[38;5;28;01mNone\u001b[39;00m:\n\u001b[0;32m-> 1465\u001b[0m         \u001b[38;5;28;01mreturn\u001b[39;00m \u001b[43mfunc\u001b[49m\u001b[43m(\u001b[49m\u001b[43max\u001b[49m\u001b[43m,\u001b[49m\u001b[43m \u001b[49m\u001b[38;5;241;43m*\u001b[39;49m\u001b[38;5;28;43mmap\u001b[39;49m\u001b[43m(\u001b[49m\u001b[43msanitize_sequence\u001b[49m\u001b[43m,\u001b[49m\u001b[43m \u001b[49m\u001b[43margs\u001b[49m\u001b[43m)\u001b[49m\u001b[43m,\u001b[49m\u001b[43m \u001b[49m\u001b[38;5;241;43m*\u001b[39;49m\u001b[38;5;241;43m*\u001b[39;49m\u001b[43mkwargs\u001b[49m\u001b[43m)\u001b[49m\n\u001b[1;32m   1467\u001b[0m     bound \u001b[38;5;241m=\u001b[39m new_sig\u001b[38;5;241m.\u001b[39mbind(ax, \u001b[38;5;241m*\u001b[39margs, \u001b[38;5;241m*\u001b[39m\u001b[38;5;241m*\u001b[39mkwargs)\n\u001b[1;32m   1468\u001b[0m     auto_label \u001b[38;5;241m=\u001b[39m (bound\u001b[38;5;241m.\u001b[39marguments\u001b[38;5;241m.\u001b[39mget(label_namer)\n\u001b[1;32m   1469\u001b[0m                   \u001b[38;5;129;01mor\u001b[39;00m bound\u001b[38;5;241m.\u001b[39mkwargs\u001b[38;5;241m.\u001b[39mget(label_namer))\n",
      "File \u001b[0;32m~/opt/anaconda3/envs/personal/lib/python3.11/site-packages/matplotlib/axes/_axes.py:6834\u001b[0m, in \u001b[0;36mAxes.hist\u001b[0;34m(self, x, bins, range, density, weights, cumulative, bottom, histtype, align, orientation, rwidth, log, color, label, stacked, **kwargs)\u001b[0m\n\u001b[1;32m   6830\u001b[0m \u001b[38;5;28;01mfor\u001b[39;00m xi \u001b[38;5;129;01min\u001b[39;00m x:\n\u001b[1;32m   6831\u001b[0m     \u001b[38;5;28;01mif\u001b[39;00m \u001b[38;5;28mlen\u001b[39m(xi):\n\u001b[1;32m   6832\u001b[0m         \u001b[38;5;66;03m# python's min/max ignore nan,\u001b[39;00m\n\u001b[1;32m   6833\u001b[0m         \u001b[38;5;66;03m# np.minnan returns nan for all nan input\u001b[39;00m\n\u001b[0;32m-> 6834\u001b[0m         xmin \u001b[38;5;241m=\u001b[39m \u001b[38;5;28;43mmin\u001b[39;49m\u001b[43m(\u001b[49m\u001b[43mxmin\u001b[49m\u001b[43m,\u001b[49m\u001b[43m \u001b[49m\u001b[43mnp\u001b[49m\u001b[38;5;241;43m.\u001b[39;49m\u001b[43mnanmin\u001b[49m\u001b[43m(\u001b[49m\u001b[43mxi\u001b[49m\u001b[43m)\u001b[49m\u001b[43m)\u001b[49m\n\u001b[1;32m   6835\u001b[0m         xmax \u001b[38;5;241m=\u001b[39m \u001b[38;5;28mmax\u001b[39m(xmax, np\u001b[38;5;241m.\u001b[39mnanmax(xi))\n\u001b[1;32m   6836\u001b[0m \u001b[38;5;28;01mif\u001b[39;00m xmin \u001b[38;5;241m<\u001b[39m\u001b[38;5;241m=\u001b[39m xmax:  \u001b[38;5;66;03m# Only happens if we have seen a finite value.\u001b[39;00m\n",
      "\u001b[0;31mTypeError\u001b[0m: '<' not supported between instances of 'ellipsis' and 'float'"
     ]
    },
    {
     "data": {
      "image/png": "[encoded data removed]",
      "text/plain": [
       "<Figure size 800x600 with 1 Axes>"
      ]
     },
     "metadata": {},
     "output_type": "display_data"
    }
   ],
   "source": [
    "# Set up plot parameters\n",
    "plt.rcParams.update({'font.size': 14})  # Adjust the font size\n",
    "\n",
    "# Create the histogram\n",
    "plt.figure(figsize=(8, 6))\n",
    "plt.hist(school_score, bins=30, edgecolor='black')\n",
    "plt.xlabel('School Treatment Effect Estimate', fontsize=16)\n",
    "plt.ylabel('Frequency', fontsize=16)\n",
    "plt.title('')\n",
    "\n",
    "# Save the plot as a PDF\n",
    "plt.savefig('school_hist.pdf')\n",
    "\n",
    "# Close the plot\n",
    "plt.close()"
   ]
  },
  {
   "cell_type": "markdown",
   "metadata": {},
   "source": [
    "#### 2.5. Analysis ignoring clusters. How do the results change?"
   ]
  },
  {
   "cell_type": "code",
   "execution_count": null,
   "metadata": {},
   "outputs": [],
   "source": [
    "# Assuming you have already defined X, Y, W, selected.idx, Y.hat, and W.hat\n",
    "\n",
    "# Create a causal forest model\n",
    "cf_noclust = tree_model(tune_parameters=\"all\")\n",
    "cf_noclust.fit(X[:, selected.idx], Y, W, Y_hat=Y_hat, W_hat=W_hat)\n",
    "\n",
    "# Calculate the average treatment effect (ATE)\n",
    "ATE_noclust = cf_noclust.average_treatment_effect()\n",
    "\n",
    "# Print the 95% confidence interval for the ATE\n",
    "print(f\"95% CI for the ATE: {round(ATE_noclust[0], 3)} +/- {round(1.96 * ATE_noclust[1], 3)}\")\n",
    "\n",
    "# Test calibration\n",
    "cf_noclust_copy = cf_noclust.copy()\n",
    "tau_hat_noclust = cf_noclust_copy.predict(X)  # Assuming X is the same as in R\n",
    "cf_noclust_copy.predictions = tau_hat_noclust\n",
    "cf_noclust_copy.clusters = school_id\n",
    "cf_noclust_copy.test_calibration()\n",
    "\n",
    "# Calculate loss\n",
    "R_loss = ((Y - Y_hat) - tau_hat * (W - W_hat))**2\n",
    "R_loss_noclust = ((Y - Y_hat) - tau_hat_noclust * (W - W_hat))**2\n",
    "R_loss_crossfold = ((Y - Y_hat) - tau_hat_crossfold * (W - W_hat))**2\n",
    "\n",
    "# Print the differences in loss\n",
    "print(f\"Difference in loss (no clustering): {R_loss_noclust - R_loss}\")\n",
    "print(f\"Difference in loss (crossfold): {R_loss_crossfold - R_loss}\")\n",
    "\n",
    "# Summary of ANOVA\n",
    "# Assuming dr.score and school_id are defined\n",
    "summary_aov = pd.DataFrame({'dr.score': dr_score, 'school.id': school_id})\n"
   ]
  },
  {
   "cell_type": "markdown",
   "metadata": {},
   "source": [
    "#### 2.6. Analysis without fitting the propensity score"
   ]
  },
  {
   "cell_type": "code",
   "execution_count": null,
   "metadata": {},
   "outputs": [],
   "source": [
    "# Create a causal forest model\n",
    "cf_noprop = CausalForestDML(tune_parameters=\"all\", equalize_cluster_weights=True)\n",
    "cf_noprop.fit(X[:, selected.idx], Y, W, Y_hat=Y_hat, W_hat=W_hat)\n",
    "\n",
    "# Calculate the average treatment effect (ATE)\n",
    "ATE_noprop = cf_noprop.average_treatment_effect()\n",
    "\n",
    "# Print the 95% confidence interval for the ATE\n",
    "print(f\"95% CI for the ATE: {round(ATE_noprop[0], 3)} +/- {round(1.96 * ATE_noprop[1], 3)}\")\n",
    "\n",
    "# Plot the estimates\n",
    "plt.figure()\n",
    "plt.scatter(tau_hat, tau_hat_noprop)\n",
    "plt.xlim(min(tau_hat), max(tau_hat_noprop))\n",
    "plt.ylim(min(tau_hat), max(tau_hat_noprop))\n",
    "plt.xlabel(\"Orthogonalized causal forest estimates\")\n",
    "plt.ylabel(\"Non-orthogonalized causal forest\")\n",
    "plt.plot([min(tau_hat), max(tau_hat_noprop)], [min(tau_hat), max(tau_hat_noprop)], linestyle=\"--\", color=\"gray\")\n",
    "plt.show()"
   ]
  },
  {
   "cell_type": "markdown",
   "metadata": {},
   "source": [
    "#### 2.7. The code plot six plots in the Make some plots section, so explain what you find there."
   ]
  },
  {
   "cell_type": "code",
   "execution_count": null,
   "metadata": {},
   "outputs": [],
   "source": [
    "# Calculate the average treatment effect (ATE)\n",
    "ATE_noprop = statistics.mean(cf_noprop.ate())\n",
    "\n",
    "# Print the 95% confidence interval for the ATE\n",
    "print(f\"95% CI for the ATE: {round(ATE_noprop[0], 3)} +/- {round(1.96 * ATE_noprop[1], 3)}\")\n",
    "\n",
    "# Plot histograms\n",
    "plt.figure(figsize=(10, 6))\n",
    "plt.subplot(221)\n",
    "plt.hist(tau_hat, bins=25, edgecolor='black')\n",
    "plt.xlabel(\"Estimated CATE\")\n",
    "plt.title(\"Histogram (tau.hat)\")\n",
    "\n",
    "plt.subplot(222)\n",
    "plt.hist(tau_hat_noprop, bins=25, edgecolor='black')\n",
    "plt.xlabel(\"Estimated CATE\")\n",
    "plt.title(\"Histogram (tau.hat.noprop)\")\n",
    "\n",
    "plt.subplot(223)\n",
    "plt.hist(tau_hat_noclust, bins=25, edgecolor='black')\n",
    "plt.xlabel(\"Estimated CATE\")\n",
    "plt.title(\"Histogram (tau.hat.noclust)\")\n",
    "\n",
    "# Boxplots vs. X1 and X2\n",
    "plt.subplot(224)\n",
    "plt.boxplot(tau_hat, labels=[\"X1\"])\n",
    "plt.xlabel(\"X1\")\n",
    "plt.ylabel(\"Estimated CATE\")\n",
    "plt.title(\"Boxplot (tau.hat) vs. X1\")\n",
    "\n",
    "plt.tight_layout()\n",
    "plt.show()\n",
    "\n",
    "# Plot school-wise average CATE estimate\n",
    "school_avg_tauhat = (school_mat.T @ tau_hat) / school_size\n",
    "plt.figure(figsize=(8, 6))\n",
    "plt.scatter(school_avg_tauhat, school_pred, c='b', s=50)\n",
    "plt.plot([min(school_avg_tauhat), max(school_pred)], [min(school_avg_tauhat), max(school_pred)], linestyle=\"--\", color=\"gray\")\n",
    "plt.xlabel(\"Average CATE estimate in school\")\n",
    "plt.ylabel(\"School-wise forest predictions\")\n",
    "plt.title(\"School-wise Average CATE Estimate vs. Predictions\")\n",
    "plt.grid(True)\n",
    "plt.show()"
   ]
  },
  {
   "cell_type": "markdown",
   "metadata": {},
   "source": [
    "#### 2.8. Visualize school-level covariates by treatment heterogeneity"
   ]
  },
  {
   "cell_type": "code",
   "execution_count": null,
   "metadata": {},
   "outputs": [],
   "source": [
    "# Standardize school.X\n",
    "school.X_std = (school.X - school.X.mean()) / school.X.std()\n",
    "\n",
    "# Create terciles\n",
    "tercile_bins = [-np.inf, np.quantile(school.pred, 1/3), np.quantile(school.pred, 2/3), np.inf]\n",
    "school.tercile = pd.cut(school.pred, bins=tercile_bins, labels=[\"low\", \"mid\", \"high\"])\n",
    "\n",
    "# Create a design matrix for terciles\n",
    "school.tercile_mat = pd.get_dummies(school.tercile, drop_first=True)\n",
    "\n",
    "# Calculate means\n",
    "school.means = np.dot(np.linalg.pinv(school.tercile_mat.T @ school.tercile_mat), school.tercile_mat.T @ school.X_std)\n",
    "\n",
    "# Calculate MM and create color mapping\n",
    "MM = np.max(np.abs(school.means))\n",
    "school.col = [HC[1 + round(20 * (0.5 + aa))] for aa in school.means]\n",
    "\n",
    "# Create a DataFrame for plotting\n",
    "DF_plot = pd.DataFrame({\n",
    "    'tercile': np.repeat([\"low\", \"mid\", \"high\"], 9),\n",
    "    'mean': school.means.flatten(),\n",
    "    'feature': np.tile(colnames(school.X), 3)\n",
    "})\n",
    "\n",
    "# Plot the heatmap\n",
    "plt.figure(figsize=(8, 4.5))\n",
    "plt.imshow(DF_plot.pivot(index='tercile', columns='feature', values='mean'),\n",
    "           cmap='coolwarm', aspect='auto', vmin=-MM, vmax=MM)\n",
    "plt.colorbar(label='Mean')\n",
    "plt.xticks(range(len(colnames(school.X))), colnames(school.X), rotation=90)\n",
    "plt.yticks(range(3), [\"low\", \"mid\", \"high\"])\n",
    "plt.xlabel(\"Feature\")\n",
    "plt.ylabel(\"Tercile\")\n",
    "plt.title(\"Tercile Plot\")\n",
    "plt.tight_layout()\n",
    "plt.show()\n",
    "\n",
    "# Calculate mean for XC.3\n",
    "mean_XC3 = np.mean(school.X['XC.3'])\n",
    "mean_XC3_low_tercile = np.mean(school.X['XC.3'][school.tercile == \"low\"])"
   ]
  },
  {
   "cell_type": "markdown",
   "metadata": {},
   "source": [
    "#### 2.9. CATE by school"
   ]
  },
  {
   "cell_type": "code",
   "execution_count": null,
   "metadata": {},
   "outputs": [],
   "source": [
    "# Order school.pred and then order the indices\n",
    "ord = np.argsort(np.argsort(school_pred))\n",
    "school_sort = ord[school_id]\n",
    "\n",
    "# Create a boxplot and save it to a PDF file\n",
    "plt.figure(figsize=(10, 8))\n",
    "plt.boxplot([tau_hat_noclust[school_sort == i] for i in np.unique(school_sort)],\n",
    "            positions=np.unique(school_sort), widths=0.5, patch_artist=True,\n",
    "            boxprops=dict(facecolor='lightblue', color='blue'),\n",
    "            whiskerprops=dict(color='blue', linewidth=1.5),\n",
    "            capprops=dict(color='blue', linewidth=1.5),\n",
    "            medianprops=dict(color='red', linewidth=2),\n",
    "            meanprops=dict(marker='o', markerfacecolor='yellow', markeredgecolor='black', markersize=10))\n",
    "\n",
    "# Add points for school mean CATE\n",
    "school_mean_cate = [np.mean(tau_hat_noclust[school_sort == i]) for i in np.unique(school_sort)]\n",
    "plt.plot(np.unique(school_sort), school_mean_cate, marker='o', color='red', linestyle='None')\n",
    "\n",
    "# Add points for CATE w/o clustering\n",
    "plt.plot(np.arange(1, 77), np.sort(school_pred), marker='o', color='green', linestyle='None')\n",
    "\n",
    "# Labels and legend\n",
    "plt.xlabel('School', fontsize=16)\n",
    "plt.ylabel('Estimated CATE', fontsize=16)\n",
    "plt.xticks(np.unique(school_sort))\n",
    "plt.legend(['School mean CATE', 'CATE w/o clustering'], loc='upper left', fontsize=12)\n",
    "\n",
    "# Save the plot to a PDF file\n",
    "plt.savefig('school_boxplot.pdf')\n",
    "\n",
    "# Show plot\n",
    "plt.show()"
   ]
  }
 ],
 "metadata": {
  "kernelspec": {
   "display_name": "Python 3 (ipykernel)",
   "language": "python",
   "name": "python3"
  },
  "language_info": {
   "codemirror_mode": {
    "name": "ipython",
    "version": 3
   },
   "file_extension": ".py",
   "mimetype": "text/x-python",
   "name": "python",
   "nbconvert_exporter": "python",
   "pygments_lexer": "ipython3",
   "version": "3.11.4"
  }
 },
 "nbformat": 4,
 "nbformat_minor": 2
}
