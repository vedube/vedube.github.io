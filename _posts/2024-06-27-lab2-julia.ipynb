{
 "cells": [
  {
   "cell_type": "markdown",
   "metadata": {},
   "source": [
    "Workgroup 2\n",
    "\n",
    "# Potential Outcomes and RCTs\n",
    "\n",
    "#### Group 3: Dube, V., Garay, E. Guerrero, J., Villalba, M."
   ]
  },
  {
   "cell_type": "code",
   "execution_count": null,
   "metadata": {},
   "outputs": [],
   "source": [
    "import Pkg\n",
    "\n",
    "Pkg.add(\"DataFrames\")\n",
    "Pkg.add(\"FilePaths\")\n",
    "Pkg.add(\"Queryverse\")\n",
    "Pkg.add(\"GLM\")\n",
    "Pkg.add(\"StatsModels\")\n",
    "Pkg.add(\"Combinatorics\")\n",
    "Pkg.add(\"Iterators\")\n",
    "Pkg.add(\"CategoricalArrays\")\n",
    "Pkg.add(\"HypothesisTests\")\n",
    "Pkg.add(\"StatsBase\")\n",
    "Pkg.add(\"Lasso\")\n",
    "Pkg.add(\"TypedTables\")\n",
    "Pkg.add(\"MacroTools\")\n",
    "Pkg.add(\"NamedArrays\")\n",
    "Pkg.add(\"DataTables\")\n",
    "Pkg.add(\"Latexify\")\n",
    "Pkg.add(\"PrettyTables\")\n",
    "Pkg.add(\"TypedTables\")\n",
    "Pkg.add(\"TexTables\")\n",
    "Pkg.add(\"DataTables\")\n",
    "Pkg.add(\"FilePaths\")\n",
    "Pkg.add(\"Combinatorics\")\n",
    "Pkg.add(\"CategoricalArrays\")\n",
    "Pkg.add(\"TypedTables\")\n",
    "Pkg.add(\"MacroTools\")\n",
    "Pkg.add(\"HDMjl\")\n"
   ]
  },
  {
   "cell_type": "code",
   "execution_count": 5,
   "metadata": {},
   "outputs": [
    {
     "name": "stderr",
     "output_type": "stream",
     "text": [
      "\u001b[32m\u001b[1mPrecompiling\u001b[22m\u001b[39m Queryverse\n",
      "\u001b[91m  ✗ \u001b[39m\u001b[90mBinaryProvider\u001b[39m\n",
      "\u001b[91m  ✗ \u001b[39m\u001b[90mSnappy\u001b[39m\n",
      "\u001b[91m  ✗ \u001b[39m\u001b[90mParquet\u001b[39m\n",
      "\u001b[91m  ✗ \u001b[39m\u001b[90mParquetFiles\u001b[39m\n",
      "\u001b[36m\u001b[1m        Info\u001b[22m\u001b[39m Given Queryverse was explicitly requested, output will be shown live \u001b[0K\n",
      "\u001b[0K\u001b[91m\u001b[1mERROR: \u001b[22m\u001b[39mLoadError: Snappy not installed properly, run Pkg.build(\"Snappy\"), restart Julia and try again\n",
      "\u001b[0KStacktrace:\n",
      "\u001b[0K [1] \u001b[0m\u001b[1merror\u001b[22m\u001b[0m\u001b[1m(\u001b[22m\u001b[90ms\u001b[39m::\u001b[0mString\u001b[0m\u001b[1m)\u001b[22m\n",
      "\u001b[0K\u001b[90m   @\u001b[39m \u001b[90mBase\u001b[39m \u001b[90m.\\\u001b[39m\u001b[90m\u001b[4merror.jl:35\u001b[24m\u001b[39m\n",
      "\u001b[0K [2] top-level scope\n",
      "\u001b[0K\u001b[90m   @\u001b[39m \u001b[90mC:\\Users\\Erzo\\.julia\\packages\\Snappy\\O2CHr\\src\\\u001b[39m\u001b[90m\u001b[4mSnappy.jl:8\u001b[24m\u001b[39m\n",
      "\u001b[0K [3] \u001b[0m\u001b[1minclude\u001b[22m\n",
      "\u001b[0K\u001b[90m   @\u001b[39m \u001b[90m.\\\u001b[39m\u001b[90m\u001b[4mBase.jl:495\u001b[24m\u001b[39m\u001b[90m [inlined]\u001b[39m\n",
      "\u001b[0K [4] \u001b[0m\u001b[1minclude_package_for_output\u001b[22m\u001b[0m\u001b[1m(\u001b[22m\u001b[90mpkg\u001b[39m::\u001b[0mBase.PkgId, \u001b[90minput\u001b[39m::\u001b[0mString, \u001b[90mdepot_path\u001b[39m::\u001b[0mVector\u001b[90m{String}\u001b[39m, \u001b[90mdl_load_path\u001b[39m::\u001b[0mVector\u001b[90m{String}\u001b[39m, \u001b[90mload_path\u001b[39m::\u001b[0mVector\u001b[90m{String}\u001b[39m, \u001b[90mconcrete_deps\u001b[39m::\u001b[0mVector\u001b[90m{Pair{Base.PkgId, UInt128}}\u001b[39m, \u001b[90msource\u001b[39m::\u001b[0mString\u001b[0m\u001b[1m)\u001b[22m\n",
      "\u001b[0K\u001b[90m   @\u001b[39m \u001b[90mBase\u001b[39m \u001b[90m.\\\u001b[39m\u001b[90m\u001b[4mloading.jl:2222\u001b[24m\u001b[39m\n",
      "\u001b[0K [5] top-level scope\n",
      "\u001b[0K\u001b[90m   @\u001b[39m \u001b[90m\u001b[4mstdin:3\u001b[24m\u001b[39m\n",
      "\u001b[0Kin expression starting at C:\\Users\\Erzo\\.julia\\packages\\Snappy\\O2CHr\\src\\Snappy.jl:3\n",
      "\u001b[0Kin expression starting at stdin:3\n",
      "\u001b[0K\u001b[91m\u001b[1mERROR: \u001b[22m\u001b[39mLoadError: Failed to precompile Snappy [59d4ed8c-697a-5b28-a4c7-fe95c22820f9] to \"C:\\\\Users\\\\Erzo\\\\.julia\\\\compiled\\\\v1.10\\\\Snappy\\\\jl_59CB.tmp\".\n",
      "\u001b[0KStacktrace:\n",
      "\u001b[0K  [1] \u001b[0m\u001b[1merror\u001b[22m\u001b[0m\u001b[1m(\u001b[22m\u001b[90ms\u001b[39m::\u001b[0mString\u001b[0m\u001b[1m)\u001b[22m\n",
      "\u001b[0K\u001b[90m    @\u001b[39m \u001b[90mBase\u001b[39m \u001b[90m.\\\u001b[39m\u001b[90m\u001b[4merror.jl:35\u001b[24m\u001b[39m\n",
      "\u001b[0K  [2] \u001b[0m\u001b[1mcompilecache\u001b[22m\u001b[0m\u001b[1m(\u001b[22m\u001b[90mpkg\u001b[39m::\u001b[0mBase.PkgId, \u001b[90mpath\u001b[39m::\u001b[0mString, \u001b[90minternal_stderr\u001b[39m::\u001b[0mIO, \u001b[90minternal_stdout\u001b[39m::\u001b[0mIO, \u001b[90mkeep_loaded_modules\u001b[39m::\u001b[0mBool\u001b[0m\u001b[1m)\u001b[22m\n",
      "\u001b[0K\u001b[90m    @\u001b[39m \u001b[90mBase\u001b[39m \u001b[90m.\\\u001b[39m\u001b[90m\u001b[4mloading.jl:2468\u001b[24m\u001b[39m\n",
      "\u001b[0K  [3] \u001b[0m\u001b[1mcompilecache\u001b[22m\n",
      "\u001b[0K\u001b[90m    @\u001b[39m \u001b[90m.\\\u001b[39m\u001b[90m\u001b[4mloading.jl:2340\u001b[24m\u001b[39m\u001b[90m [inlined]\u001b[39m\n",
      "\u001b[0K  [4] \u001b[0m\u001b[1m(::Base.var\"#968#969\"{Base.PkgId})\u001b[22m\u001b[0m\u001b[1m(\u001b[22m\u001b[0m\u001b[1m)\u001b[22m\n",
      "\u001b[0K\u001b[90m    @\u001b[39m \u001b[90mBase\u001b[39m \u001b[90m.\\\u001b[39m\u001b[90m\u001b[4mloading.jl:1974\u001b[24m\u001b[39m\n",
      "\u001b[0K  [5] \u001b[0m\u001b[1mmkpidlock\u001b[22m\u001b[0m\u001b[1m(\u001b[22m\u001b[90mf\u001b[39m::\u001b[0mBase.var\"#968#969\"\u001b[90m{Base.PkgId}\u001b[39m, \u001b[90mat\u001b[39m::\u001b[0mString, \u001b[90mpid\u001b[39m::\u001b[0mInt32; \u001b[90mkwopts\u001b[39m::\u001b[0m@Kwargs\u001b[90m{stale_age::Int64, wait::Bool}\u001b[39m\u001b[0m\u001b[1m)\u001b[22m\n",
      "\u001b[0K\u001b[90m    @\u001b[39m \u001b[35mFileWatching.Pidfile\u001b[39m \u001b[90mC:\\Users\\Erzo\\AppData\\Local\\Programs\\Julia-1.10.2\\share\\julia\\stdlib\\v1.10\\FileWatching\\src\\\u001b[39m\u001b[90m\u001b[4mpidfile.jl:93\u001b[24m\u001b[39m\n",
      "\u001b[0K  [6] \u001b[0m\u001b[1m#mkpidlock#6\u001b[22m\n",
      "\u001b[0K\u001b[90m    @\u001b[39m \u001b[90mC:\\Users\\Erzo\\AppData\\Local\\Programs\\Julia-1.10.2\\share\\julia\\stdlib\\v1.10\\FileWatching\\src\\\u001b[39m\u001b[90m\u001b[4mpidfile.jl:88\u001b[24m\u001b[39m\u001b[90m [inlined]\u001b[39m\n",
      "\u001b[0K  [7] \u001b[0m\u001b[1mtrymkpidlock\u001b[22m\u001b[0m\u001b[1m(\u001b[22m::\u001b[0mFunction, ::\u001b[0mVararg\u001b[90m{Any}\u001b[39m; \u001b[90mkwargs\u001b[39m::\u001b[0m@Kwargs\u001b[90m{stale_age::Int64}\u001b[39m\u001b[0m\u001b[1m)\u001b[22m\n",
      "\u001b[0K\u001b[90m    @\u001b[39m \u001b[35mFileWatching.Pidfile\u001b[39m \u001b[90mC:\\Users\\Erzo\\AppData\\Local\\Programs\\Julia-1.10.2\\share\\julia\\stdlib\\v1.10\\FileWatching\\src\\\u001b[39m\u001b[90m\u001b[4mpidfile.jl:111\u001b[24m\u001b[39m\n",
      "\u001b[0K  [8] \u001b[0m\u001b[1m#invokelatest#2\u001b[22m\n",
      "\u001b[0K\u001b[90m    @\u001b[39m \u001b[90m.\\\u001b[39m\u001b[90m\u001b[4messentials.jl:894\u001b[24m\u001b[39m\u001b[90m [inlined]\u001b[39m\n",
      "\u001b[0K  [9] \u001b[0m\u001b[1minvokelatest\u001b[22m\n",
      "\u001b[0K\u001b[90m    @\u001b[39m \u001b[90m.\\\u001b[39m\u001b[90m\u001b[4messentials.jl:889\u001b[24m\u001b[39m\u001b[90m [inlined]\u001b[39m\n",
      "\u001b[0K [10] \u001b[0m\u001b[1mmaybe_cachefile_lock\u001b[22m\u001b[0m\u001b[1m(\u001b[22m\u001b[90mf\u001b[39m::\u001b[0mBase.var\"#968#969\"\u001b[90m{Base.PkgId}\u001b[39m, \u001b[90mpkg\u001b[39m::\u001b[0mBase.PkgId, \u001b[90msrcpath\u001b[39m::\u001b[0mString; \u001b[90mstale_age\u001b[39m::\u001b[0mInt64\u001b[0m\u001b[1m)\u001b[22m\n",
      "\u001b[0K\u001b[90m    @\u001b[39m \u001b[90mBase\u001b[39m \u001b[90m.\\\u001b[39m\u001b[90m\u001b[4mloading.jl:2983\u001b[24m\u001b[39m\n",
      "\u001b[0K [11] \u001b[0m\u001b[1mmaybe_cachefile_lock\u001b[22m\n",
      "\u001b[0K\u001b[90m    @\u001b[39m \u001b[90m.\\\u001b[39m\u001b[90m\u001b[4mloading.jl:2980\u001b[24m\u001b[39m\u001b[90m [inlined]\u001b[39m\n",
      "\u001b[0K [12] \u001b[0m\u001b[1m_require\u001b[22m\u001b[0m\u001b[1m(\u001b[22m\u001b[90mpkg\u001b[39m::\u001b[0mBase.PkgId, \u001b[90menv\u001b[39m::\u001b[0mString\u001b[0m\u001b[1m)\u001b[22m\n",
      "\u001b[0K\u001b[90m    @\u001b[39m \u001b[90mBase\u001b[39m \u001b[90m.\\\u001b[39m\u001b[90m\u001b[4mloading.jl:1970\u001b[24m\u001b[39m\n",
      "\u001b[0K [13] \u001b[0m\u001b[1m__require_prelocked\u001b[22m\u001b[0m\u001b[1m(\u001b[22m\u001b[90muuidkey\u001b[39m::\u001b[0mBase.PkgId, \u001b[90menv\u001b[39m::\u001b[0mString\u001b[0m\u001b[1m)\u001b[22m\n",
      "\u001b[0K\u001b[90m    @\u001b[39m \u001b[90mBase\u001b[39m \u001b[90m.\\\u001b[39m\u001b[90m\u001b[4mloading.jl:1812\u001b[24m\u001b[39m\n",
      "\u001b[0K [14] \u001b[0m\u001b[1m#invoke_in_world#3\u001b[22m\n",
      "\u001b[0K\u001b[90m    @\u001b[39m \u001b[90m.\\\u001b[39m\u001b[90m\u001b[4messentials.jl:926\u001b[24m\u001b[39m\u001b[90m [inlined]\u001b[39m\n",
      "\u001b[0K [15] \u001b[0m\u001b[1minvoke_in_world\u001b[22m\n",
      "\u001b[0K\u001b[90m    @\u001b[39m \u001b[90m.\\\u001b[39m\u001b[90m\u001b[4messentials.jl:923\u001b[24m\u001b[39m\u001b[90m [inlined]\u001b[39m\n",
      "\u001b[0K [16] \u001b[0m\u001b[1m_require_prelocked\u001b[22m\u001b[0m\u001b[1m(\u001b[22m\u001b[90muuidkey\u001b[39m::\u001b[0mBase.PkgId, \u001b[90menv\u001b[39m::\u001b[0mString\u001b[0m\u001b[1m)\u001b[22m\n",
      "\u001b[0K\u001b[90m    @\u001b[39m \u001b[90mBase\u001b[39m \u001b[90m.\\\u001b[39m\u001b[90m\u001b[4mloading.jl:1803\u001b[24m\u001b[39m\n",
      "\u001b[0K [17] \u001b[0m\u001b[1mmacro expansion\u001b[22m\n",
      "\u001b[0K\u001b[90m    @\u001b[39m \u001b[90m.\\\u001b[39m\u001b[90m\u001b[4mloading.jl:1790\u001b[24m\u001b[39m\u001b[90m [inlined]\u001b[39m\n",
      "\u001b[0K [18] \u001b[0m\u001b[1mmacro expansion\u001b[22m\n",
      "\u001b[0K\u001b[90m    @\u001b[39m \u001b[90m.\\\u001b[39m\u001b[90m\u001b[4mlock.jl:267\u001b[24m\u001b[39m\u001b[90m [inlined]\u001b[39m\n",
      "\u001b[0K [19] \u001b[0m\u001b[1m__require\u001b[22m\u001b[0m\u001b[1m(\u001b[22m\u001b[90minto\u001b[39m::\u001b[0mModule, \u001b[90mmod\u001b[39m::\u001b[0mSymbol\u001b[0m\u001b[1m)\u001b[22m\n",
      "\u001b[0K\u001b[90m    @\u001b[39m \u001b[90mBase\u001b[39m \u001b[90m.\\\u001b[39m\u001b[90m\u001b[4mloading.jl:1753\u001b[24m\u001b[39m\n",
      "\u001b[0K [20] \u001b[0m\u001b[1m#invoke_in_world#3\u001b[22m\n",
      "\u001b[0K\u001b[90m    @\u001b[39m \u001b[90m.\\\u001b[39m\u001b[90m\u001b[4messentials.jl:926\u001b[24m\u001b[39m\u001b[90m [inlined]\u001b[39m\n",
      "\u001b[0K [21] \u001b[0m\u001b[1minvoke_in_world\u001b[22m\n",
      "\u001b[0K\u001b[90m    @\u001b[39m \u001b[90m.\\\u001b[39m\u001b[90m\u001b[4messentials.jl:923\u001b[24m\u001b[39m\u001b[90m [inlined]\u001b[39m\n",
      "\u001b[0K [22] \u001b[0m\u001b[1mrequire\u001b[22m\u001b[0m\u001b[1m(\u001b[22m\u001b[90minto\u001b[39m::\u001b[0mModule, \u001b[90mmod\u001b[39m::\u001b[0mSymbol\u001b[0m\u001b[1m)\u001b[22m\n",
      "\u001b[0K\u001b[90m    @\u001b[39m \u001b[90mBase\u001b[39m \u001b[90m.\\\u001b[39m\u001b[90m\u001b[4mloading.jl:1746\u001b[24m\u001b[39m\n",
      "\u001b[0K [23] \u001b[0m\u001b[1minclude\u001b[22m\n",
      "\u001b[0K\u001b[90m    @\u001b[39m \u001b[90m.\\\u001b[39m\u001b[90m\u001b[4mBase.jl:495\u001b[24m\u001b[39m\u001b[90m [inlined]\u001b[39m\n",
      "\u001b[0K [24] \u001b[0m\u001b[1minclude_package_for_output\u001b[22m\u001b[0m\u001b[1m(\u001b[22m\u001b[90mpkg\u001b[39m::\u001b[0mBase.PkgId, \u001b[90minput\u001b[39m::\u001b[0mString, \u001b[90mdepot_path\u001b[39m::\u001b[0mVector\u001b[90m{String}\u001b[39m, \u001b[90mdl_load_path\u001b[39m::\u001b[0mVector\u001b[90m{String}\u001b[39m, \u001b[90mload_path\u001b[39m::\u001b[0mVector\u001b[90m{String}\u001b[39m, \u001b[90mconcrete_deps\u001b[39m::\u001b[0mVector\u001b[90m{Pair{Base.PkgId, UInt128}}\u001b[39m, \u001b[90msource\u001b[39m::\u001b[0mString\u001b[0m\u001b[1m)\u001b[22m\n",
      "\u001b[0K\u001b[90m    @\u001b[39m \u001b[90mBase\u001b[39m \u001b[90m.\\\u001b[39m\u001b[90m\u001b[4mloading.jl:2222\u001b[24m\u001b[39m\n",
      "\u001b[0K [25] top-level scope\n",
      "\u001b[0K\u001b[90m    @\u001b[39m \u001b[90m\u001b[4mstdin:3\u001b[24m\u001b[39m\n",
      "\u001b[0Kin expression starting at C:\\Users\\Erzo\\.julia\\packages\\Parquet\\gHhvB\\src\\Parquet.jl:1\n",
      "\u001b[0Kin expression starting at stdin:3\n",
      "\u001b[0K\u001b[91m\u001b[1mERROR: \u001b[22m\u001b[39mLoadError: Failed to precompile Parquet [626c502c-15b0-58ad-a749-f091afb673ae] to \"C:\\\\Users\\\\Erzo\\\\.julia\\\\compiled\\\\v1.10\\\\Parquet\\\\jl_57B8.tmp\".\n",
      "\u001b[0KStacktrace:\n",
      "\u001b[0K  [1] \u001b[0m\u001b[1merror\u001b[22m\u001b[0m\u001b[1m(\u001b[22m\u001b[90ms\u001b[39m::\u001b[0mString\u001b[0m\u001b[1m)\u001b[22m\n",
      "\u001b[0K\u001b[90m    @\u001b[39m \u001b[90mBase\u001b[39m \u001b[90m.\\\u001b[39m\u001b[90m\u001b[4merror.jl:35\u001b[24m\u001b[39m\n",
      "\u001b[0K  [2] \u001b[0m\u001b[1mcompilecache\u001b[22m\u001b[0m\u001b[1m(\u001b[22m\u001b[90mpkg\u001b[39m::\u001b[0mBase.PkgId, \u001b[90mpath\u001b[39m::\u001b[0mString, \u001b[90minternal_stderr\u001b[39m::\u001b[0mIO, \u001b[90minternal_stdout\u001b[39m::\u001b[0mIO, \u001b[90mkeep_loaded_modules\u001b[39m::\u001b[0mBool\u001b[0m\u001b[1m)\u001b[22m\n",
      "\u001b[0K\u001b[90m    @\u001b[39m \u001b[90mBase\u001b[39m \u001b[90m.\\\u001b[39m\u001b[90m\u001b[4mloading.jl:2468\u001b[24m\u001b[39m\n",
      "\u001b[0K  [3] \u001b[0m\u001b[1mcompilecache\u001b[22m\n",
      "\u001b[0K\u001b[90m    @\u001b[39m \u001b[90m.\\\u001b[39m\u001b[90m\u001b[4mloading.jl:2340\u001b[24m\u001b[39m\u001b[90m [inlined]\u001b[39m\n",
      "\u001b[0K  [4] \u001b[0m\u001b[1m(::Base.var\"#968#969\"{Base.PkgId})\u001b[22m\u001b[0m\u001b[1m(\u001b[22m\u001b[0m\u001b[1m)\u001b[22m\n",
      "\u001b[0K\u001b[90m    @\u001b[39m \u001b[90mBase\u001b[39m \u001b[90m.\\\u001b[39m\u001b[90m\u001b[4mloading.jl:1974\u001b[24m\u001b[39m\n",
      "\u001b[0K  [5] \u001b[0m\u001b[1mmkpidlock\u001b[22m\u001b[0m\u001b[1m(\u001b[22m\u001b[90mf\u001b[39m::\u001b[0mBase.var\"#968#969\"\u001b[90m{Base.PkgId}\u001b[39m, \u001b[90mat\u001b[39m::\u001b[0mString, \u001b[90mpid\u001b[39m::\u001b[0mInt32; \u001b[90mkwopts\u001b[39m::\u001b[0m@Kwargs\u001b[90m{stale_age::Int64, wait::Bool}\u001b[39m\u001b[0m\u001b[1m)\u001b[22m\n",
      "\u001b[0K\u001b[90m    @\u001b[39m \u001b[35mFileWatching.Pidfile\u001b[39m \u001b[90mC:\\Users\\Erzo\\AppData\\Local\\Programs\\Julia-1.10.2\\share\\julia\\stdlib\\v1.10\\FileWatching\\src\\\u001b[39m\u001b[90m\u001b[4mpidfile.jl:93\u001b[24m\u001b[39m\n",
      "\u001b[0K  [6] \u001b[0m\u001b[1m#mkpidlock#6\u001b[22m\n",
      "\u001b[0K\u001b[90m    @\u001b[39m \u001b[90mC:\\Users\\Erzo\\AppData\\Local\\Programs\\Julia-1.10.2\\share\\julia\\stdlib\\v1.10\\FileWatching\\src\\\u001b[39m\u001b[90m\u001b[4mpidfile.jl:88\u001b[24m\u001b[39m\u001b[90m [inlined]\u001b[39m\n",
      "\u001b[0K  [7] \u001b[0m\u001b[1mtrymkpidlock\u001b[22m\u001b[0m\u001b[1m(\u001b[22m::\u001b[0mFunction, ::\u001b[0mVararg\u001b[90m{Any}\u001b[39m; \u001b[90mkwargs\u001b[39m::\u001b[0m@Kwargs\u001b[90m{stale_age::Int64}\u001b[39m\u001b[0m\u001b[1m)\u001b[22m\n",
      "\u001b[0K\u001b[90m    @\u001b[39m \u001b[35mFileWatching.Pidfile\u001b[39m \u001b[90mC:\\Users\\Erzo\\AppData\\Local\\Programs\\Julia-1.10.2\\share\\julia\\stdlib\\v1.10\\FileWatching\\src\\\u001b[39m\u001b[90m\u001b[4mpidfile.jl:111\u001b[24m\u001b[39m\n",
      "\u001b[0K  [8] \u001b[0m\u001b[1m#invokelatest#2\u001b[22m\n"
     ]
    },
    {
     "name": "stderr",
     "output_type": "stream",
     "text": [
      "\u001b[0K\u001b[90m    @\u001b[39m \u001b[90m.\\\u001b[39m\u001b[90m\u001b[4messentials.jl:894\u001b[24m\u001b[39m\u001b[90m [inlined]\u001b[39m\n",
      "\u001b[0K  [9] \u001b[0m\u001b[1minvokelatest\u001b[22m\n",
      "\u001b[0K\u001b[90m    @\u001b[39m \u001b[90m.\\\u001b[39m\u001b[90m\u001b[4messentials.jl:889\u001b[24m\u001b[39m\u001b[90m [inlined]\u001b[39m\n",
      "\u001b[0K [10] \u001b[0m\u001b[1mmaybe_cachefile_lock\u001b[22m\u001b[0m\u001b[1m(\u001b[22m\u001b[90mf\u001b[39m::\u001b[0mBase.var\"#968#969\"\u001b[90m{Base.PkgId}\u001b[39m, \u001b[90mpkg\u001b[39m::\u001b[0mBase.PkgId, \u001b[90msrcpath\u001b[39m::\u001b[0mString; \u001b[90mstale_age\u001b[39m::\u001b[0mInt64\u001b[0m\u001b[1m)\u001b[22m\n",
      "\u001b[0K\u001b[90m    @\u001b[39m \u001b[90mBase\u001b[39m \u001b[90m.\\\u001b[39m\u001b[90m\u001b[4mloading.jl:2983\u001b[24m\u001b[39m\n",
      "\u001b[0K [11] \u001b[0m\u001b[1mmaybe_cachefile_lock\u001b[22m\n",
      "\u001b[0K\u001b[90m    @\u001b[39m \u001b[90m.\\\u001b[39m\u001b[90m\u001b[4mloading.jl:2980\u001b[24m\u001b[39m\u001b[90m [inlined]\u001b[39m\n",
      "\u001b[0K [12] \u001b[0m\u001b[1m_require\u001b[22m\u001b[0m\u001b[1m(\u001b[22m\u001b[90mpkg\u001b[39m::\u001b[0mBase.PkgId, \u001b[90menv\u001b[39m::\u001b[0mString\u001b[0m\u001b[1m)\u001b[22m\n",
      "\u001b[0K\u001b[90m    @\u001b[39m \u001b[90mBase\u001b[39m \u001b[90m.\\\u001b[39m\u001b[90m\u001b[4mloading.jl:1970\u001b[24m\u001b[39m\n",
      "\u001b[0K [13] \u001b[0m\u001b[1m__require_prelocked\u001b[22m\u001b[0m\u001b[1m(\u001b[22m\u001b[90muuidkey\u001b[39m::\u001b[0mBase.PkgId, \u001b[90menv\u001b[39m::\u001b[0mString\u001b[0m\u001b[1m)\u001b[22m\n",
      "\u001b[0K\u001b[90m    @\u001b[39m \u001b[90mBase\u001b[39m \u001b[90m.\\\u001b[39m\u001b[90m\u001b[4mloading.jl:1812\u001b[24m\u001b[39m\n",
      "\u001b[0K [14] \u001b[0m\u001b[1m#invoke_in_world#3\u001b[22m\n",
      "\u001b[0K\u001b[90m    @\u001b[39m \u001b[90m.\\\u001b[39m\u001b[90m\u001b[4messentials.jl:926\u001b[24m\u001b[39m\u001b[90m [inlined]\u001b[39m\n",
      "\u001b[0K [15] \u001b[0m\u001b[1minvoke_in_world\u001b[22m\n",
      "\u001b[0K\u001b[90m    @\u001b[39m \u001b[90m.\\\u001b[39m\u001b[90m\u001b[4messentials.jl:923\u001b[24m\u001b[39m\u001b[90m [inlined]\u001b[39m\n",
      "\u001b[0K [16] \u001b[0m\u001b[1m_require_prelocked\u001b[22m\u001b[0m\u001b[1m(\u001b[22m\u001b[90muuidkey\u001b[39m::\u001b[0mBase.PkgId, \u001b[90menv\u001b[39m::\u001b[0mString\u001b[0m\u001b[1m)\u001b[22m\n",
      "\u001b[0K\u001b[90m    @\u001b[39m \u001b[90mBase\u001b[39m \u001b[90m.\\\u001b[39m\u001b[90m\u001b[4mloading.jl:1803\u001b[24m\u001b[39m\n",
      "\u001b[0K [17] \u001b[0m\u001b[1mmacro expansion\u001b[22m\n",
      "\u001b[0K\u001b[90m    @\u001b[39m \u001b[90m.\\\u001b[39m\u001b[90m\u001b[4mloading.jl:1790\u001b[24m\u001b[39m\u001b[90m [inlined]\u001b[39m\n",
      "\u001b[0K [18] \u001b[0m\u001b[1mmacro expansion\u001b[22m\n",
      "\u001b[0K\u001b[90m    @\u001b[39m \u001b[90m.\\\u001b[39m\u001b[90m\u001b[4mlock.jl:267\u001b[24m\u001b[39m\u001b[90m [inlined]\u001b[39m\n",
      "\u001b[0K [19] \u001b[0m\u001b[1m__require\u001b[22m\u001b[0m\u001b[1m(\u001b[22m\u001b[90minto\u001b[39m::\u001b[0mModule, \u001b[90mmod\u001b[39m::\u001b[0mSymbol\u001b[0m\u001b[1m)\u001b[22m\n",
      "\u001b[0K\u001b[90m    @\u001b[39m \u001b[90mBase\u001b[39m \u001b[90m.\\\u001b[39m\u001b[90m\u001b[4mloading.jl:1753\u001b[24m\u001b[39m\n",
      "\u001b[0K [20] \u001b[0m\u001b[1m#invoke_in_world#3\u001b[22m\n",
      "\u001b[0K\u001b[90m    @\u001b[39m \u001b[90m.\\\u001b[39m\u001b[90m\u001b[4messentials.jl:926\u001b[24m\u001b[39m\u001b[90m [inlined]\u001b[39m\n",
      "\u001b[0K [21] \u001b[0m\u001b[1minvoke_in_world\u001b[22m\n",
      "\u001b[0K\u001b[90m    @\u001b[39m \u001b[90m.\\\u001b[39m\u001b[90m\u001b[4messentials.jl:923\u001b[24m\u001b[39m\u001b[90m [inlined]\u001b[39m\n",
      "\u001b[0K [22] \u001b[0m\u001b[1mrequire\u001b[22m\u001b[0m\u001b[1m(\u001b[22m\u001b[90minto\u001b[39m::\u001b[0mModule, \u001b[90mmod\u001b[39m::\u001b[0mSymbol\u001b[0m\u001b[1m)\u001b[22m\n",
      "\u001b[0K\u001b[90m    @\u001b[39m \u001b[90mBase\u001b[39m \u001b[90m.\\\u001b[39m\u001b[90m\u001b[4mloading.jl:1746\u001b[24m\u001b[39m\n",
      "\u001b[0K [23] \u001b[0m\u001b[1minclude\u001b[22m\n",
      "\u001b[0K\u001b[90m    @\u001b[39m \u001b[90m.\\\u001b[39m\u001b[90m\u001b[4mBase.jl:495\u001b[24m\u001b[39m\u001b[90m [inlined]\u001b[39m\n",
      "\u001b[0K [24] \u001b[0m\u001b[1minclude_package_for_output\u001b[22m\u001b[0m\u001b[1m(\u001b[22m\u001b[90mpkg\u001b[39m::\u001b[0mBase.PkgId, \u001b[90minput\u001b[39m::\u001b[0mString, \u001b[90mdepot_path\u001b[39m::\u001b[0mVector\u001b[90m{String}\u001b[39m, \u001b[90mdl_load_path\u001b[39m::\u001b[0mVector\u001b[90m{String}\u001b[39m, \u001b[90mload_path\u001b[39m::\u001b[0mVector\u001b[90m{String}\u001b[39m, \u001b[90mconcrete_deps\u001b[39m::\u001b[0mVector\u001b[90m{Pair{Base.PkgId, UInt128}}\u001b[39m, \u001b[90msource\u001b[39m::\u001b[0mString\u001b[0m\u001b[1m)\u001b[22m\n",
      "\u001b[0K\u001b[90m    @\u001b[39m \u001b[90mBase\u001b[39m \u001b[90m.\\\u001b[39m\u001b[90m\u001b[4mloading.jl:2222\u001b[24m\u001b[39m\n",
      "\u001b[0K [25] top-level scope\n",
      "\u001b[0K\u001b[90m    @\u001b[39m \u001b[90m\u001b[4mstdin:3\u001b[24m\u001b[39m\n",
      "\u001b[0Kin expression starting at C:\\Users\\Erzo\\.julia\\packages\\ParquetFiles\\cLLFb\\src\\ParquetFiles.jl:1\n",
      "\u001b[0Kin expression starting at stdin:3\n",
      "\u001b[0K\u001b[91m\u001b[1mERROR: \u001b[22m\u001b[39mLoadError: Failed to precompile ParquetFiles [46a55296-af5a-53b0-aaa0-97023b66127f] to \"C:\\\\Users\\\\Erzo\\\\.julia\\\\compiled\\\\v1.10\\\\ParquetFiles\\\\jl_5602.tmp\".\n",
      "\u001b[0KStacktrace:\n",
      "\u001b[0K  [1] \u001b[0m\u001b[1merror\u001b[22m\u001b[0m\u001b[1m(\u001b[22m\u001b[90ms\u001b[39m::\u001b[0mString\u001b[0m\u001b[1m)\u001b[22m\n",
      "\u001b[0K\u001b[90m    @\u001b[39m \u001b[90mBase\u001b[39m \u001b[90m.\\\u001b[39m\u001b[90m\u001b[4merror.jl:35\u001b[24m\u001b[39m\n",
      "\u001b[0K  [2] \u001b[0m\u001b[1mcompilecache\u001b[22m\u001b[0m\u001b[1m(\u001b[22m\u001b[90mpkg\u001b[39m::\u001b[0mBase.PkgId, \u001b[90mpath\u001b[39m::\u001b[0mString, \u001b[90minternal_stderr\u001b[39m::\u001b[0mIO, \u001b[90minternal_stdout\u001b[39m::\u001b[0mIO, \u001b[90mkeep_loaded_modules\u001b[39m::\u001b[0mBool\u001b[0m\u001b[1m)\u001b[22m\n",
      "\u001b[0K\u001b[90m    @\u001b[39m \u001b[90mBase\u001b[39m \u001b[90m.\\\u001b[39m\u001b[90m\u001b[4mloading.jl:2468\u001b[24m\u001b[39m\n",
      "\u001b[0K  [3] \u001b[0m\u001b[1mcompilecache\u001b[22m\n",
      "\u001b[0K\u001b[90m    @\u001b[39m \u001b[90m.\\\u001b[39m\u001b[90m\u001b[4mloading.jl:2340\u001b[24m\u001b[39m\u001b[90m [inlined]\u001b[39m\n",
      "\u001b[0K  [4] \u001b[0m\u001b[1m(::Base.var\"#968#969\"{Base.PkgId})\u001b[22m\u001b[0m\u001b[1m(\u001b[22m\u001b[0m\u001b[1m)\u001b[22m\n",
      "\u001b[0K\u001b[90m    @\u001b[39m \u001b[90mBase\u001b[39m \u001b[90m.\\\u001b[39m\u001b[90m\u001b[4mloading.jl:1974\u001b[24m\u001b[39m\n",
      "\u001b[0K  [5] \u001b[0m\u001b[1mmkpidlock\u001b[22m\u001b[0m\u001b[1m(\u001b[22m\u001b[90mf\u001b[39m::\u001b[0mBase.var\"#968#969\"\u001b[90m{Base.PkgId}\u001b[39m, \u001b[90mat\u001b[39m::\u001b[0mString, \u001b[90mpid\u001b[39m::\u001b[0mInt32; \u001b[90mkwopts\u001b[39m::\u001b[0m@Kwargs\u001b[90m{stale_age::Int64, wait::Bool}\u001b[39m\u001b[0m\u001b[1m)\u001b[22m\n",
      "\u001b[0K\u001b[90m    @\u001b[39m \u001b[35mFileWatching.Pidfile\u001b[39m \u001b[90mC:\\Users\\Erzo\\AppData\\Local\\Programs\\Julia-1.10.2\\share\\julia\\stdlib\\v1.10\\FileWatching\\src\\\u001b[39m\u001b[90m\u001b[4mpidfile.jl:93\u001b[24m\u001b[39m\n",
      "\u001b[0K  [6] \u001b[0m\u001b[1m#mkpidlock#6\u001b[22m\n",
      "\u001b[0K\u001b[90m    @\u001b[39m \u001b[90mC:\\Users\\Erzo\\AppData\\Local\\Programs\\Julia-1.10.2\\share\\julia\\stdlib\\v1.10\\FileWatching\\src\\\u001b[39m\u001b[90m\u001b[4mpidfile.jl:88\u001b[24m\u001b[39m\u001b[90m [inlined]\u001b[39m\n",
      "\u001b[0K  [7] \u001b[0m\u001b[1mtrymkpidlock\u001b[22m\u001b[0m\u001b[1m(\u001b[22m::\u001b[0mFunction, ::\u001b[0mVararg\u001b[90m{Any}\u001b[39m; \u001b[90mkwargs\u001b[39m::\u001b[0m@Kwargs\u001b[90m{stale_age::Int64}\u001b[39m\u001b[0m\u001b[1m)\u001b[22m\n",
      "\u001b[0K\u001b[90m    @\u001b[39m \u001b[35mFileWatching.Pidfile\u001b[39m \u001b[90mC:\\Users\\Erzo\\AppData\\Local\\Programs\\Julia-1.10.2\\share\\julia\\stdlib\\v1.10\\FileWatching\\src\\\u001b[39m\u001b[90m\u001b[4mpidfile.jl:111\u001b[24m\u001b[39m\n",
      "\u001b[0K  [8] \u001b[0m\u001b[1m#invokelatest#2\u001b[22m\n",
      "\u001b[0K\u001b[90m    @\u001b[39m \u001b[90m.\\\u001b[39m\u001b[90m\u001b[4messentials.jl:894\u001b[24m\u001b[39m\u001b[90m [inlined]\u001b[39m\n",
      "\u001b[0K  [9] \u001b[0m\u001b[1minvokelatest\u001b[22m\n",
      "\u001b[0K\u001b[90m    @\u001b[39m \u001b[90m.\\\u001b[39m\u001b[90m\u001b[4messentials.jl:889\u001b[24m\u001b[39m\u001b[90m [inlined]\u001b[39m\n",
      "\u001b[0K [10] \u001b[0m\u001b[1mmaybe_cachefile_lock\u001b[22m\u001b[0m\u001b[1m(\u001b[22m\u001b[90mf\u001b[39m::\u001b[0mBase.var\"#968#969\"\u001b[90m{Base.PkgId}\u001b[39m, \u001b[90mpkg\u001b[39m::\u001b[0mBase.PkgId, \u001b[90msrcpath\u001b[39m::\u001b[0mString; \u001b[90mstale_age\u001b[39m::\u001b[0mInt64\u001b[0m\u001b[1m)\u001b[22m\n",
      "\u001b[0K\u001b[90m    @\u001b[39m \u001b[90mBase\u001b[39m \u001b[90m.\\\u001b[39m\u001b[90m\u001b[4mloading.jl:2983\u001b[24m\u001b[39m\n",
      "\u001b[0K [11] \u001b[0m\u001b[1mmaybe_cachefile_lock\u001b[22m\n",
      "\u001b[0K\u001b[90m    @\u001b[39m \u001b[90m.\\\u001b[39m\u001b[90m\u001b[4mloading.jl:2980\u001b[24m\u001b[39m\u001b[90m [inlined]\u001b[39m\n",
      "\u001b[0K [12] \u001b[0m\u001b[1m_require\u001b[22m\u001b[0m\u001b[1m(\u001b[22m\u001b[90mpkg\u001b[39m::\u001b[0mBase.PkgId, \u001b[90menv\u001b[39m::\u001b[0mString\u001b[0m\u001b[1m)\u001b[22m\n",
      "\u001b[0K\u001b[90m    @\u001b[39m \u001b[90mBase\u001b[39m \u001b[90m.\\\u001b[39m\u001b[90m\u001b[4mloading.jl:1970\u001b[24m\u001b[39m\n",
      "\u001b[0K [13] \u001b[0m\u001b[1m__require_prelocked\u001b[22m\u001b[0m\u001b[1m(\u001b[22m\u001b[90muuidkey\u001b[39m::\u001b[0mBase.PkgId, \u001b[90menv\u001b[39m::\u001b[0mString\u001b[0m\u001b[1m)\u001b[22m\n",
      "\u001b[0K\u001b[90m    @\u001b[39m \u001b[90mBase\u001b[39m \u001b[90m.\\\u001b[39m\u001b[90m\u001b[4mloading.jl:1812\u001b[24m\u001b[39m\n",
      "\u001b[0K [14] \u001b[0m\u001b[1m#invoke_in_world#3\u001b[22m\n",
      "\u001b[0K\u001b[90m    @\u001b[39m \u001b[90m.\\\u001b[39m\u001b[90m\u001b[4messentials.jl:926\u001b[24m\u001b[39m\u001b[90m [inlined]\u001b[39m\n",
      "\u001b[0K [15] \u001b[0m\u001b[1minvoke_in_world\u001b[22m\n",
      "\u001b[0K\u001b[90m    @\u001b[39m \u001b[90m.\\\u001b[39m\u001b[90m\u001b[4messentials.jl:923\u001b[24m\u001b[39m\u001b[90m [inlined]\u001b[39m\n",
      "\u001b[0K [16] \u001b[0m\u001b[1m_require_prelocked\u001b[22m\u001b[0m\u001b[1m(\u001b[22m\u001b[90muuidkey\u001b[39m::\u001b[0mBase.PkgId, \u001b[90menv\u001b[39m::\u001b[0mString\u001b[0m\u001b[1m)\u001b[22m\n",
      "\u001b[0K\u001b[90m    @\u001b[39m \u001b[90mBase\u001b[39m \u001b[90m.\\\u001b[39m\u001b[90m\u001b[4mloading.jl:1803\u001b[24m\u001b[39m\n",
      "\u001b[0K [17] \u001b[0m\u001b[1mmacro expansion\u001b[22m\n",
      "\u001b[0K\u001b[90m    @\u001b[39m \u001b[90m.\\\u001b[39m\u001b[90m\u001b[4mloading.jl:1790\u001b[24m\u001b[39m\u001b[90m [inlined]\u001b[39m\n",
      "\u001b[0K [18] \u001b[0m\u001b[1mmacro expansion\u001b[22m\n",
      "\u001b[0K\u001b[90m    @\u001b[39m \u001b[90m.\\\u001b[39m\u001b[90m\u001b[4mlock.jl:267\u001b[24m\u001b[39m\u001b[90m [inlined]\u001b[39m\n",
      "\u001b[0K [19] \u001b[0m\u001b[1m__require\u001b[22m\u001b[0m\u001b[1m(\u001b[22m\u001b[90minto\u001b[39m::\u001b[0mModule, \u001b[90mmod\u001b[39m::\u001b[0mSymbol\u001b[0m\u001b[1m)\u001b[22m\n",
      "\u001b[0K\u001b[90m    @\u001b[39m \u001b[90mBase\u001b[39m \u001b[90m.\\\u001b[39m\u001b[90m\u001b[4mloading.jl:1753\u001b[24m\u001b[39m\n",
      "\u001b[0K [20] \u001b[0m\u001b[1m#invoke_in_world#3\u001b[22m\n",
      "\u001b[0K\u001b[90m    @\u001b[39m \u001b[90m.\\\u001b[39m\u001b[90m\u001b[4messentials.jl:926\u001b[24m\u001b[39m\u001b[90m [inlined]\u001b[39m\n",
      "\u001b[0K [21] \u001b[0m\u001b[1minvoke_in_world\u001b[22m\n",
      "\u001b[0K\u001b[90m    @\u001b[39m \u001b[90m.\\\u001b[39m\u001b[90m\u001b[4messentials.jl:923\u001b[24m\u001b[39m\u001b[90m [inlined]\u001b[39m\n",
      "\u001b[0K [22] \u001b[0m\u001b[1mrequire\u001b[22m\u001b[0m\u001b[1m(\u001b[22m\u001b[90minto\u001b[39m::\u001b[0mModule, \u001b[90mmod\u001b[39m::\u001b[0mSymbol\u001b[0m\u001b[1m)\u001b[22m\n",
      "\u001b[0K\u001b[90m    @\u001b[39m \u001b[90mBase\u001b[39m \u001b[90m.\\\u001b[39m\u001b[90m\u001b[4mloading.jl:1746\u001b[24m\u001b[39m\n",
      "\u001b[0K [23] \u001b[0m\u001b[1minclude\u001b[22m\n",
      "\u001b[0K\u001b[90m    @\u001b[39m \u001b[90m.\\\u001b[39m\u001b[90m\u001b[4mBase.jl:495\u001b[24m\u001b[39m\u001b[90m [inlined]\u001b[39m\n",
      "\u001b[0K [24] \u001b[0m\u001b[1minclude_package_for_output\u001b[22m\u001b[0m\u001b[1m(\u001b[22m\u001b[90mpkg\u001b[39m::\u001b[0mBase.PkgId, \u001b[90minput\u001b[39m::\u001b[0mString, \u001b[90mdepot_path\u001b[39m::\u001b[0mVector\u001b[90m{String}\u001b[39m, \u001b[90mdl_load_path\u001b[39m::\u001b[0mVector\u001b[90m{String}\u001b[39m, \u001b[90mload_path\u001b[39m::\u001b[0mVector\u001b[90m{String}\u001b[39m, \u001b[90mconcrete_deps\u001b[39m::\u001b[0mVector\u001b[90m{Pair{Base.PkgId, UInt128}}\u001b[39m, \u001b[90msource\u001b[39m::\u001b[0mNothing\u001b[0m\u001b[1m)\u001b[22m\n",
      "\u001b[0K\u001b[90m    @\u001b[39m \u001b[90mBase\u001b[39m \u001b[90m.\\\u001b[39m\u001b[90m\u001b[4mloading.jl:2222\u001b[24m\u001b[39m\n",
      "\u001b[0K [25] top-level scope\n",
      "\u001b[0K\u001b[90m    @\u001b[39m \u001b[90m\u001b[4mstdin:3\u001b[24m\u001b[39m\n",
      "\u001b[0Kin expression starting at C:\\Users\\Erzo\\.julia\\packages\\Queryverse\\cdTS7\\src\\Queryverse.jl:1\n",
      "\u001b[0Kin expression starting at stdin:3\n"
     ]
    },
    {
     "name": "stderr",
     "output_type": "stream",
     "text": [
      "\u001b[91m  ✗ \u001b[39mQueryverse\n",
      "  0 dependencies successfully precompiled in 27 seconds. 133 already precompiled.\n",
      "\n"
     ]
    },
    {
     "ename": "LoadError",
     "evalue": "The following 1 direct dependency failed to precompile:\n\nQueryverse [612083be-0b0f-5412-89c1-4e7c75506a58]\n\nFailed to precompile Queryverse [612083be-0b0f-5412-89c1-4e7c75506a58] to \"C:\\\\Users\\\\Erzo\\\\.julia\\\\compiled\\\\v1.10\\\\Queryverse\\\\jl_32A9.tmp\".\n\u001b[91m\u001b[1mERROR: \u001b[22m\u001b[39mLoadError: Snappy not installed properly, run Pkg.build(\"Snappy\"), restart Julia and try again\nStacktrace:\n [1] \u001b[0m\u001b[1merror\u001b[22m\u001b[0m\u001b[1m(\u001b[22m\u001b[90ms\u001b[39m::\u001b[0mString\u001b[0m\u001b[1m)\u001b[22m\n\u001b[90m   @\u001b[39m \u001b[90mBase\u001b[39m \u001b[90m.\\\u001b[39m\u001b[90m\u001b[4merror.jl:35\u001b[24m\u001b[39m\n [2] top-level scope\n\u001b[90m   @\u001b[39m \u001b[90mC:\\Users\\Erzo\\.julia\\packages\\Snappy\\O2CHr\\src\\\u001b[39m\u001b[90m\u001b[4mSnappy.jl:8\u001b[24m\u001b[39m\n [3] \u001b[0m\u001b[1minclude\u001b[22m\n\u001b[90m   @\u001b[39m \u001b[90m.\\\u001b[39m\u001b[90m\u001b[4mBase.jl:495\u001b[24m\u001b[39m\u001b[90m [inlined]\u001b[39m\n [4] \u001b[0m\u001b[1minclude_package_for_output\u001b[22m\u001b[0m\u001b[1m(\u001b[22m\u001b[90mpkg\u001b[39m::\u001b[0mBase.PkgId, \u001b[90minput\u001b[39m::\u001b[0mString, \u001b[90mdepot_path\u001b[39m::\u001b[0mVector\u001b[90m{String}\u001b[39m, \u001b[90mdl_load_path\u001b[39m::\u001b[0mVector\u001b[90m{String}\u001b[39m, \u001b[90mload_path\u001b[39m::\u001b[0mVector\u001b[90m{String}\u001b[39m, \u001b[90mconcrete_deps\u001b[39m::\u001b[0mVector\u001b[90m{Pair{Base.PkgId, UInt128}}\u001b[39m, \u001b[90msource\u001b[39m::\u001b[0mString\u001b[0m\u001b[1m)\u001b[22m\n\u001b[90m   @\u001b[39m \u001b[90mBase\u001b[39m \u001b[90m.\\\u001b[39m\u001b[90m\u001b[4mloading.jl:2222\u001b[24m\u001b[39m\n [5] top-level scope\n\u001b[90m   @\u001b[39m \u001b[90m\u001b[4mstdin:3\u001b[24m\u001b[39m\nin expression starting at C:\\Users\\Erzo\\.julia\\packages\\Snappy\\O2CHr\\src\\Snappy.jl:3\nin expression starting at stdin:3\n\u001b[91m\u001b[1mERROR: \u001b[22m\u001b[39mLoadError: Failed to precompile Snappy [59d4ed8c-697a-5b28-a4c7-fe95c22820f9] to \"C:\\\\Users\\\\Erzo\\\\.julia\\\\compiled\\\\v1.10\\\\Snappy\\\\jl_59CB.tmp\".\nStacktrace:\n  [1] \u001b[0m\u001b[1merror\u001b[22m\u001b[0m\u001b[1m(\u001b[22m\u001b[90ms\u001b[39m::\u001b[0mString\u001b[0m\u001b[1m)\u001b[22m\n\u001b[90m    @\u001b[39m \u001b[90mBase\u001b[39m \u001b[90m.\\\u001b[39m\u001b[90m\u001b[4merror.jl:35\u001b[24m\u001b[39m\n  [2] \u001b[0m\u001b[1mcompilecache\u001b[22m\u001b[0m\u001b[1m(\u001b[22m\u001b[90mpkg\u001b[39m::\u001b[0mBase.PkgId, \u001b[90mpath\u001b[39m::\u001b[0mString, \u001b[90minternal_stderr\u001b[39m::\u001b[0mIO, \u001b[90minternal_stdout\u001b[39m::\u001b[0mIO, \u001b[90mkeep_loaded_modules\u001b[39m::\u001b[0mBool\u001b[0m\u001b[1m)\u001b[22m\n\u001b[90m    @\u001b[39m \u001b[90mBase\u001b[39m \u001b[90m.\\\u001b[39m\u001b[90m\u001b[4mloading.jl:2468\u001b[24m\u001b[39m\n  [3] \u001b[0m\u001b[1mcompilecache\u001b[22m\n\u001b[90m    @\u001b[39m \u001b[90m.\\\u001b[39m\u001b[90m\u001b[4mloading.jl:2340\u001b[24m\u001b[39m\u001b[90m [inlined]\u001b[39m\n  [4] \u001b[0m\u001b[1m(::Base.var\"#968#969\"{Base.PkgId})\u001b[22m\u001b[0m\u001b[1m(\u001b[22m\u001b[0m\u001b[1m)\u001b[22m\n\u001b[90m    @\u001b[39m \u001b[90mBase\u001b[39m \u001b[90m.\\\u001b[39m\u001b[90m\u001b[4mloading.jl:1974\u001b[24m\u001b[39m\n  [5] \u001b[0m\u001b[1mmkpidlock\u001b[22m\u001b[0m\u001b[1m(\u001b[22m\u001b[90mf\u001b[39m::\u001b[0mBase.var\"#968#969\"\u001b[90m{Base.PkgId}\u001b[39m, \u001b[90mat\u001b[39m::\u001b[0mString, \u001b[90mpid\u001b[39m::\u001b[0mInt32; \u001b[90mkwopts\u001b[39m::\u001b[0m@Kwargs\u001b[90m{stale_age::Int64, wait::Bool}\u001b[39m\u001b[0m\u001b[1m)\u001b[22m\n\u001b[90m    @\u001b[39m \u001b[35mFileWatching.Pidfile\u001b[39m \u001b[90mC:\\Users\\Erzo\\AppData\\Local\\Programs\\Julia-1.10.2\\share\\julia\\stdlib\\v1.10\\FileWatching\\src\\\u001b[39m\u001b[90m\u001b[4mpidfile.jl:93\u001b[24m\u001b[39m\n  [6] \u001b[0m\u001b[1m#mkpidlock#6\u001b[22m\n\u001b[90m    @\u001b[39m \u001b[90mC:\\Users\\Erzo\\AppData\\Local\\Programs\\Julia-1.10.2\\share\\julia\\stdlib\\v1.10\\FileWatching\\src\\\u001b[39m\u001b[90m\u001b[4mpidfile.jl:88\u001b[24m\u001b[39m\u001b[90m [inlined]\u001b[39m\n  [7] \u001b[0m\u001b[1mtrymkpidlock\u001b[22m\u001b[0m\u001b[1m(\u001b[22m::\u001b[0mFunction, ::\u001b[0mVararg\u001b[90m{Any}\u001b[39m; \u001b[90mkwargs\u001b[39m::\u001b[0m@Kwargs\u001b[90m{stale_age::Int64}\u001b[39m\u001b[0m\u001b[1m)\u001b[22m\n\u001b[90m    @\u001b[39m \u001b[35mFileWatching.Pidfile\u001b[39m \u001b[90mC:\\Users\\Erzo\\AppData\\Local\\Programs\\Julia-1.10.2\\share\\julia\\stdlib\\v1.10\\FileWatching\\src\\\u001b[39m\u001b[90m\u001b[4mpidfile.jl:111\u001b[24m\u001b[39m\n  [8] \u001b[0m\u001b[1m#invokelatest#2\u001b[22m\n\u001b[90m    @\u001b[39m \u001b[90m.\\\u001b[39m\u001b[90m\u001b[4messentials.jl:894\u001b[24m\u001b[39m\u001b[90m [inlined]\u001b[39m\n  [9] \u001b[0m\u001b[1minvokelatest\u001b[22m\n\u001b[90m    @\u001b[39m \u001b[90m.\\\u001b[39m\u001b[90m\u001b[4messentials.jl:889\u001b[24m\u001b[39m\u001b[90m [inlined]\u001b[39m\n [10] \u001b[0m\u001b[1mmaybe_cachefile_lock\u001b[22m\u001b[0m\u001b[1m(\u001b[22m\u001b[90mf\u001b[39m::\u001b[0mBase.var\"#968#969\"\u001b[90m{Base.PkgId}\u001b[39m, \u001b[90mpkg\u001b[39m::\u001b[0mBase.PkgId, \u001b[90msrcpath\u001b[39m::\u001b[0mString; \u001b[90mstale_age\u001b[39m::\u001b[0mInt64\u001b[0m\u001b[1m)\u001b[22m\n\u001b[90m    @\u001b[39m \u001b[90mBase\u001b[39m \u001b[90m.\\\u001b[39m\u001b[90m\u001b[4mloading.jl:2983\u001b[24m\u001b[39m\n [11] \u001b[0m\u001b[1mmaybe_cachefile_lock\u001b[22m\n\u001b[90m    @\u001b[39m \u001b[90m.\\\u001b[39m\u001b[90m\u001b[4mloading.jl:2980\u001b[24m\u001b[39m\u001b[90m [inlined]\u001b[39m\n [12] \u001b[0m\u001b[1m_require\u001b[22m\u001b[0m\u001b[1m(\u001b[22m\u001b[90mpkg\u001b[39m::\u001b[0mBase.PkgId, \u001b[90menv\u001b[39m::\u001b[0mString\u001b[0m\u001b[1m)\u001b[22m\n\u001b[90m    @\u001b[39m \u001b[90mBase\u001b[39m \u001b[90m.\\\u001b[39m\u001b[90m\u001b[4mloading.jl:1970\u001b[24m\u001b[39m\n [13] \u001b[0m\u001b[1m__require_prelocked\u001b[22m\u001b[0m\u001b[1m(\u001b[22m\u001b[90muuidkey\u001b[39m::\u001b[0mBase.PkgId, \u001b[90menv\u001b[39m::\u001b[0mString\u001b[0m\u001b[1m)\u001b[22m\n\u001b[90m    @\u001b[39m \u001b[90mBase\u001b[39m \u001b[90m.\\\u001b[39m\u001b[90m\u001b[4mloading.jl:1812\u001b[24m\u001b[39m\n [14] \u001b[0m\u001b[1m#invoke_in_world#3\u001b[22m\n\u001b[90m    @\u001b[39m \u001b[90m.\\\u001b[39m\u001b[90m\u001b[4messentials.jl:926\u001b[24m\u001b[39m\u001b[90m [inlined]\u001b[39m\n [15] \u001b[0m\u001b[1minvoke_in_world\u001b[22m\n\u001b[90m    @\u001b[39m \u001b[90m.\\\u001b[39m\u001b[90m\u001b[4messentials.jl:923\u001b[24m\u001b[39m\u001b[90m [inlined]\u001b[39m\n [16] \u001b[0m\u001b[1m_require_prelocked\u001b[22m\u001b[0m\u001b[1m(\u001b[22m\u001b[90muuidkey\u001b[39m::\u001b[0mBase.PkgId, \u001b[90menv\u001b[39m::\u001b[0mString\u001b[0m\u001b[1m)\u001b[22m\n\u001b[90m    @\u001b[39m \u001b[90mBase\u001b[39m \u001b[90m.\\\u001b[39m\u001b[90m\u001b[4mloading.jl:1803\u001b[24m\u001b[39m\n [17] \u001b[0m\u001b[1mmacro expansion\u001b[22m\n\u001b[90m    @\u001b[39m \u001b[90m.\\\u001b[39m\u001b[90m\u001b[4mloading.jl:1790\u001b[24m\u001b[39m\u001b[90m [inlined]\u001b[39m\n [18] \u001b[0m\u001b[1mmacro expansion\u001b[22m\n\u001b[90m    @\u001b[39m \u001b[90m.\\\u001b[39m\u001b[90m\u001b[4mlock.jl:267\u001b[24m\u001b[39m\u001b[90m [inlined]\u001b[39m\n [19] \u001b[0m\u001b[1m__require\u001b[22m\u001b[0m\u001b[1m(\u001b[22m\u001b[90minto\u001b[39m::\u001b[0mModule, \u001b[90mmod\u001b[39m::\u001b[0mSymbol\u001b[0m\u001b[1m)\u001b[22m\n\u001b[90m    @\u001b[39m \u001b[90mBase\u001b[39m \u001b[90m.\\\u001b[39m\u001b[90m\u001b[4mloading.jl:1753\u001b[24m\u001b[39m\n [20] \u001b[0m\u001b[1m#invoke_in_world#3\u001b[22m\n\u001b[90m    @\u001b[39m \u001b[90m.\\\u001b[39m\u001b[90m\u001b[4messentials.jl:926\u001b[24m\u001b[39m\u001b[90m [inlined]\u001b[39m\n [21] \u001b[0m\u001b[1minvoke_in_world\u001b[22m\n\u001b[90m    @\u001b[39m \u001b[90m.\\\u001b[39m\u001b[90m\u001b[4messentials.jl:923\u001b[24m\u001b[39m\u001b[90m [inlined]\u001b[39m\n [22] \u001b[0m\u001b[1mrequire\u001b[22m\u001b[0m\u001b[1m(\u001b[22m\u001b[90minto\u001b[39m::\u001b[0mModule, \u001b[90mmod\u001b[39m::\u001b[0mSymbol\u001b[0m\u001b[1m)\u001b[22m\n\u001b[90m    @\u001b[39m \u001b[90mBase\u001b[39m \u001b[90m.\\\u001b[39m\u001b[90m\u001b[4mloading.jl:1746\u001b[24m\u001b[39m\n [23] \u001b[0m\u001b[1minclude\u001b[22m\n\u001b[90m    @\u001b[39m \u001b[90m.\\\u001b[39m\u001b[90m\u001b[4mBase.jl:495\u001b[24m\u001b[39m\u001b[90m [inlined]\u001b[39m\n [24] \u001b[0m\u001b[1minclude_package_for_output\u001b[22m\u001b[0m\u001b[1m(\u001b[22m\u001b[90mpkg\u001b[39m::\u001b[0mBase.PkgId, \u001b[90minput\u001b[39m::\u001b[0mString, \u001b[90mdepot_path\u001b[39m::\u001b[0mVector\u001b[90m{String}\u001b[39m, \u001b[90mdl_load_path\u001b[39m::\u001b[0mVector\u001b[90m{String}\u001b[39m, \u001b[90mload_path\u001b[39m::\u001b[0mVector\u001b[90m{String}\u001b[39m, \u001b[90mconcrete_deps\u001b[39m::\u001b[0mVector\u001b[90m{Pair{Base.PkgId, UInt128}}\u001b[39m, \u001b[90msource\u001b[39m::\u001b[0mString\u001b[0m\u001b[1m)\u001b[22m\n\u001b[90m    @\u001b[39m \u001b[90mBase\u001b[39m \u001b[90m.\\\u001b[39m\u001b[90m\u001b[4mloading.jl:2222\u001b[24m\u001b[39m\n [25] top-level scope\n\u001b[90m    @\u001b[39m \u001b[90m\u001b[4mstdin:3\u001b[24m\u001b[39m\nin expression starting at C:\\Users\\Erzo\\.julia\\packages\\Parquet\\gHhvB\\src\\Parquet.jl:1\nin expression starting at stdin:3\n\u001b[91m\u001b[1mERROR: \u001b[22m\u001b[39mLoadError: Failed to precompile Parquet [626c502c-15b0-58ad-a749-f091afb673ae] to \"C:\\\\Users\\\\Erzo\\\\.julia\\\\compiled\\\\v1.10\\\\Parquet\\\\jl_57B8.tmp\".\nStacktrace:\n  [1] \u001b[0m\u001b[1merror\u001b[22m\u001b[0m\u001b[1m(\u001b[22m\u001b[90ms\u001b[39m::\u001b[0mString\u001b[0m\u001b[1m)\u001b[22m\n\u001b[90m    @\u001b[39m \u001b[90mBase\u001b[39m \u001b[90m.\\\u001b[39m\u001b[90m\u001b[4merror.jl:35\u001b[24m\u001b[39m\n  [2] \u001b[0m\u001b[1mcompilecache\u001b[22m\u001b[0m\u001b[1m(\u001b[22m\u001b[90mpkg\u001b[39m::\u001b[0mBase.PkgId, \u001b[90mpath\u001b[39m::\u001b[0mString, \u001b[90minternal_stderr\u001b[39m::\u001b[0mIO, \u001b[90minternal_stdout\u001b[39m::\u001b[0mIO, \u001b[90mkeep_loaded_modules\u001b[39m::\u001b[0mBool\u001b[0m\u001b[1m)\u001b[22m\n\u001b[90m    @\u001b[39m \u001b[90mBase\u001b[39m \u001b[90m.\\\u001b[39m\u001b[90m\u001b[4mloading.jl:2468\u001b[24m\u001b[39m\n  [3] \u001b[0m\u001b[1mcompilecache\u001b[22m\n\u001b[90m    @\u001b[39m \u001b[90m.\\\u001b[39m\u001b[90m\u001b[4mloading.jl:2340\u001b[24m\u001b[39m\u001b[90m [inlined]\u001b[39m\n  [4] \u001b[0m\u001b[1m(::Base.var\"#968#969\"{Base.PkgId})\u001b[22m\u001b[0m\u001b[1m(\u001b[22m\u001b[0m\u001b[1m)\u001b[22m\n\u001b[90m    @\u001b[39m \u001b[90mBase\u001b[39m \u001b[90m.\\\u001b[39m\u001b[90m\u001b[4mloading.jl:1974\u001b[24m\u001b[39m\n  [5] \u001b[0m\u001b[1mmkpidlock\u001b[22m\u001b[0m\u001b[1m(\u001b[22m\u001b[90mf\u001b[39m::\u001b[0mBase.var\"#968#969\"\u001b[90m{Base.PkgId}\u001b[39m, \u001b[90mat\u001b[39m::\u001b[0mString, \u001b[90mpid\u001b[39m::\u001b[0mInt32; \u001b[90mkwopts\u001b[39m::\u001b[0m@Kwargs\u001b[90m{stale_age::Int64, wait::Bool}\u001b[39m\u001b[0m\u001b[1m)\u001b[22m\n\u001b[90m    @\u001b[39m \u001b[35mFileWatching.Pidfile\u001b[39m \u001b[90mC:\\Users\\Erzo\\AppData\\Local\\Programs\\Julia-1.10.2\\share\\julia\\stdlib\\v1.10\\FileWatching\\src\\\u001b[39m\u001b[90m\u001b[4mpidfile.jl:93\u001b[24m\u001b[39m\n  [6] \u001b[0m\u001b[1m#mkpidlock#6\u001b[22m\n\u001b[90m    @\u001b[39m \u001b[90mC:\\Users\\Erzo\\AppData\\Local\\Programs\\Julia-1.10.2\\share\\julia\\stdlib\\v1.10\\FileWatching\\src\\\u001b[39m\u001b[90m\u001b[4mpidfile.jl:88\u001b[24m\u001b[39m\u001b[90m [inlined]\u001b[39m\n  [7] \u001b[0m\u001b[1mtrymkpidlock\u001b[22m\u001b[0m\u001b[1m(\u001b[22m::\u001b[0mFunction, ::\u001b[0mVararg\u001b[90m{Any}\u001b[39m; \u001b[90mkwargs\u001b[39m::\u001b[0m@Kwargs\u001b[90m{stale_age::Int64}\u001b[39m\u001b[0m\u001b[1m)\u001b[22m\n\u001b[90m    @\u001b[39m \u001b[35mFileWatching.Pidfile\u001b[39m \u001b[90mC:\\Users\\Erzo\\AppData\\Local\\Programs\\Julia-1.10.2\\share\\julia\\stdlib\\v1.10\\FileWatching\\src\\\u001b[39m\u001b[90m\u001b[4mpidfile.jl:111\u001b[24m\u001b[39m\n  [8] \u001b[0m\u001b[1m#invokelatest#2\u001b[22m\n\u001b[90m    @\u001b[39m \u001b[90m.\\\u001b[39m\u001b[90m\u001b[4messentials.jl:894\u001b[24m\u001b[39m\u001b[90m [inlined]\u001b[39m\n  [9] \u001b[0m\u001b[1minvokelatest\u001b[22m\n\u001b[90m    @\u001b[39m \u001b[90m.\\\u001b[39m\u001b[90m\u001b[4messentials.jl:889\u001b[24m\u001b[39m\u001b[90m [inlined]\u001b[39m\n [10] \u001b[0m\u001b[1mmaybe_cachefile_lock\u001b[22m\u001b[0m\u001b[1m(\u001b[22m\u001b[90mf\u001b[39m::\u001b[0mBase.var\"#968#969\"\u001b[90m{Base.PkgId}\u001b[39m, \u001b[90mpkg\u001b[39m::\u001b[0mBase.PkgId, \u001b[90msrcpath\u001b[39m::\u001b[0mString; \u001b[90mstale_age\u001b[39m::\u001b[0mInt64\u001b[0m\u001b[1m)\u001b[22m\n\u001b[90m    @\u001b[39m \u001b[90mBase\u001b[39m \u001b[90m.\\\u001b[39m\u001b[90m\u001b[4mloading.jl:2983\u001b[24m\u001b[39m\n [11] \u001b[0m\u001b[1mmaybe_cachefile_lock\u001b[22m\n\u001b[90m    @\u001b[39m \u001b[90m.\\\u001b[39m\u001b[90m\u001b[4mloading.jl:2980\u001b[24m\u001b[39m\u001b[90m [inlined]\u001b[39m\n [12] \u001b[0m\u001b[1m_require\u001b[22m\u001b[0m\u001b[1m(\u001b[22m\u001b[90mpkg\u001b[39m::\u001b[0mBase.PkgId, \u001b[90menv\u001b[39m::\u001b[0mString\u001b[0m\u001b[1m)\u001b[22m\n\u001b[90m    @\u001b[39m \u001b[90mBase\u001b[39m \u001b[90m.\\\u001b[39m\u001b[90m\u001b[4mloading.jl:1970\u001b[24m\u001b[39m\n [13] \u001b[0m\u001b[1m__require_prelocked\u001b[22m\u001b[0m\u001b[1m(\u001b[22m\u001b[90muuidkey\u001b[39m::\u001b[0mBase.PkgId, \u001b[90menv\u001b[39m::\u001b[0mString\u001b[0m\u001b[1m)\u001b[22m\n\u001b[90m    @\u001b[39m \u001b[90mBase\u001b[39m \u001b[90m.\\\u001b[39m\u001b[90m\u001b[4mloading.jl:1812\u001b[24m\u001b[39m\n [14] \u001b[0m\u001b[1m#invoke_in_world#3\u001b[22m\n\u001b[90m    @\u001b[39m \u001b[90m.\\\u001b[39m\u001b[90m\u001b[4messentials.jl:926\u001b[24m\u001b[39m\u001b[90m [inlined]\u001b[39m\n [15] \u001b[0m\u001b[1minvoke_in_world\u001b[22m\n\u001b[90m    @\u001b[39m \u001b[90m.\\\u001b[39m\u001b[90m\u001b[4messentials.jl:923\u001b[24m\u001b[39m\u001b[90m [inlined]\u001b[39m\n [16] \u001b[0m\u001b[1m_require_prelocked\u001b[22m\u001b[0m\u001b[1m(\u001b[22m\u001b[90muuidkey\u001b[39m::\u001b[0mBase.PkgId, \u001b[90menv\u001b[39m::\u001b[0mString\u001b[0m\u001b[1m)\u001b[22m\n\u001b[90m    @\u001b[39m \u001b[90mBase\u001b[39m \u001b[90m.\\\u001b[39m\u001b[90m\u001b[4mloading.jl:1803\u001b[24m\u001b[39m\n [17] \u001b[0m\u001b[1mmacro expansion\u001b[22m\n\u001b[90m    @\u001b[39m \u001b[90m.\\\u001b[39m\u001b[90m\u001b[4mloading.jl:1790\u001b[24m\u001b[39m\u001b[90m [inlined]\u001b[39m\n [18] \u001b[0m\u001b[1mmacro expansion\u001b[22m\n\u001b[90m    @\u001b[39m \u001b[90m.\\\u001b[39m\u001b[90m\u001b[4mlock.jl:267\u001b[24m\u001b[39m\u001b[90m [inlined]\u001b[39m\n [19] \u001b[0m\u001b[1m__require\u001b[22m\u001b[0m\u001b[1m(\u001b[22m\u001b[90minto\u001b[39m::\u001b[0mModule, \u001b[90mmod\u001b[39m::\u001b[0mSymbol\u001b[0m\u001b[1m)\u001b[22m\n\u001b[90m    @\u001b[39m \u001b[90mBase\u001b[39m \u001b[90m.\\\u001b[39m\u001b[90m\u001b[4mloading.jl:1753\u001b[24m\u001b[39m\n [20] \u001b[0m\u001b[1m#invoke_in_world#3\u001b[22m\n\u001b[90m    @\u001b[39m \u001b[90m.\\\u001b[39m\u001b[90m\u001b[4messentials.jl:926\u001b[24m\u001b[39m\u001b[90m [inlined]\u001b[39m\n [21] \u001b[0m\u001b[1minvoke_in_world\u001b[22m\n\u001b[90m    @\u001b[39m \u001b[90m.\\\u001b[39m\u001b[90m\u001b[4messentials.jl:923\u001b[24m\u001b[39m\u001b[90m [inlined]\u001b[39m\n [22] \u001b[0m\u001b[1mrequire\u001b[22m\u001b[0m\u001b[1m(\u001b[22m\u001b[90minto\u001b[39m::\u001b[0mModule, \u001b[90mmod\u001b[39m::\u001b[0mSymbol\u001b[0m\u001b[1m)\u001b[22m\n\u001b[90m    @\u001b[39m \u001b[90mBase\u001b[39m \u001b[90m.\\\u001b[39m\u001b[90m\u001b[4mloading.jl:1746\u001b[24m\u001b[39m\n [23] \u001b[0m\u001b[1minclude\u001b[22m\n\u001b[90m    @\u001b[39m \u001b[90m.\\\u001b[39m\u001b[90m\u001b[4mBase.jl:495\u001b[24m\u001b[39m\u001b[90m [inlined]\u001b[39m\n [24] \u001b[0m\u001b[1minclude_package_for_output\u001b[22m\u001b[0m\u001b[1m(\u001b[22m\u001b[90mpkg\u001b[39m::\u001b[0mBase.PkgId, \u001b[90minput\u001b[39m::\u001b[0mString, \u001b[90mdepot_path\u001b[39m::\u001b[0mVector\u001b[90m{String}\u001b[39m, \u001b[90mdl_load_path\u001b[39m::\u001b[0mVector\u001b[90m{String}\u001b[39m, \u001b[90mload_path\u001b[39m::\u001b[0mVector\u001b[90m{String}\u001b[39m, \u001b[90mconcrete_deps\u001b[39m::\u001b[0mVector\u001b[90m{Pair{Base.PkgId, UInt128}}\u001b[39m, \u001b[90msource\u001b[39m::\u001b[0mString\u001b[0m\u001b[1m)\u001b[22m\n\u001b[90m    @\u001b[39m \u001b[90mBase\u001b[39m \u001b[90m.\\\u001b[39m\u001b[90m\u001b[4mloading.jl:2222\u001b[24m\u001b[39m\n [25] top-level scope\n\u001b[90m    @\u001b[39m \u001b[90m\u001b[4mstdin:3\u001b[24m\u001b[39m\nin expression starting at C:\\Users\\Erzo\\.julia\\packages\\ParquetFiles\\cLLFb\\src\\ParquetFiles.jl:1\nin expression starting at stdin:3\n\u001b[91m\u001b[1mERROR: \u001b[22m\u001b[39mLoadError: Failed to precompile ParquetFiles [46a55296-af5a-53b0-aaa0-97023b66127f] to \"C:\\\\Users\\\\Erzo\\\\.julia\\\\compiled\\\\v1.10\\\\ParquetFiles\\\\jl_5602.tmp\".\nStacktrace:\n  [1] \u001b[0m\u001b[1merror\u001b[22m\u001b[0m\u001b[1m(\u001b[22m\u001b[90ms\u001b[39m::\u001b[0mString\u001b[0m\u001b[1m)\u001b[22m\n\u001b[90m    @\u001b[39m \u001b[90mBase\u001b[39m \u001b[90m.\\\u001b[39m\u001b[90m\u001b[4merror.jl:35\u001b[24m\u001b[39m\n  [2] \u001b[0m\u001b[1mcompilecache\u001b[22m\u001b[0m\u001b[1m(\u001b[22m\u001b[90mpkg\u001b[39m::\u001b[0mBase.PkgId, \u001b[90mpath\u001b[39m::\u001b[0mString, \u001b[90minternal_stderr\u001b[39m::\u001b[0mIO, \u001b[90minternal_stdout\u001b[39m::\u001b[0mIO, \u001b[90mkeep_loaded_modules\u001b[39m::\u001b[0mBool\u001b[0m\u001b[1m)\u001b[22m\n\u001b[90m    @\u001b[39m \u001b[90mBase\u001b[39m \u001b[90m.\\\u001b[39m\u001b[90m\u001b[4mloading.jl:2468\u001b[24m\u001b[39m\n  [3] \u001b[0m\u001b[1mcompilecache\u001b[22m\n\u001b[90m    @\u001b[39m \u001b[90m.\\\u001b[39m\u001b[90m\u001b[4mloading.jl:2340\u001b[24m\u001b[39m\u001b[90m [inlined]\u001b[39m\n  [4] \u001b[0m\u001b[1m(::Base.var\"#968#969\"{Base.PkgId})\u001b[22m\u001b[0m\u001b[1m(\u001b[22m\u001b[0m\u001b[1m)\u001b[22m\n\u001b[90m    @\u001b[39m \u001b[90mBase\u001b[39m \u001b[90m.\\\u001b[39m\u001b[90m\u001b[4mloading.jl:1974\u001b[24m\u001b[39m\n  [5] \u001b[0m\u001b[1mmkpidlock\u001b[22m\u001b[0m\u001b[1m(\u001b[22m\u001b[90mf\u001b[39m::\u001b[0mBase.var\"#968#969\"\u001b[90m{Base.PkgId}\u001b[39m, \u001b[90mat\u001b[39m::\u001b[0mString, \u001b[90mpid\u001b[39m::\u001b[0mInt32; \u001b[90mkwopts\u001b[39m::\u001b[0m@Kwargs\u001b[90m{stale_age::Int64, wait::Bool}\u001b[39m\u001b[0m\u001b[1m)\u001b[22m\n\u001b[90m    @\u001b[39m \u001b[35mFileWatching.Pidfile\u001b[39m \u001b[90mC:\\Users\\Erzo\\AppData\\Local\\Programs\\Julia-1.10.2\\share\\julia\\stdlib\\v1.10\\FileWatching\\src\\\u001b[39m\u001b[90m\u001b[4mpidfile.jl:93\u001b[24m\u001b[39m\n  [6] \u001b[0m\u001b[1m#mkpidlock#6\u001b[22m\n\u001b[90m    @\u001b[39m \u001b[90mC:\\Users\\Erzo\\AppData\\Local\\Programs\\Julia-1.10.2\\share\\julia\\stdlib\\v1.10\\FileWatching\\src\\\u001b[39m\u001b[90m\u001b[4mpidfile.jl:88\u001b[24m\u001b[39m\u001b[90m [inlined]\u001b[39m\n  [7] \u001b[0m\u001b[1mtrymkpidlock\u001b[22m\u001b[0m\u001b[1m(\u001b[22m::\u001b[0mFunction, ::\u001b[0mVararg\u001b[90m{Any}\u001b[39m; \u001b[90mkwargs\u001b[39m::\u001b[0m@Kwargs\u001b[90m{stale_age::Int64}\u001b[39m\u001b[0m\u001b[1m)\u001b[22m\n\u001b[90m    @\u001b[39m \u001b[35mFileWatching.Pidfile\u001b[39m \u001b[90mC:\\Users\\Erzo\\AppData\\Local\\Programs\\Julia-1.10.2\\share\\julia\\stdlib\\v1.10\\FileWatching\\src\\\u001b[39m\u001b[90m\u001b[4mpidfile.jl:111\u001b[24m\u001b[39m\n  [8] \u001b[0m\u001b[1m#invokelatest#2\u001b[22m\n\u001b[90m    @\u001b[39m \u001b[90m.\\\u001b[39m\u001b[90m\u001b[4messentials.jl:894\u001b[24m\u001b[39m\u001b[90m [inlined]\u001b[39m\n  [9] \u001b[0m\u001b[1minvokelatest\u001b[22m\n\u001b[90m    @\u001b[39m \u001b[90m.\\\u001b[39m\u001b[90m\u001b[4messentials.jl:889\u001b[24m\u001b[39m\u001b[90m [inlined]\u001b[39m\n [10] \u001b[0m\u001b[1mmaybe_cachefile_lock\u001b[22m\u001b[0m\u001b[1m(\u001b[22m\u001b[90mf\u001b[39m::\u001b[0mBase.var\"#968#969\"\u001b[90m{Base.PkgId}\u001b[39m, \u001b[90mpkg\u001b[39m::\u001b[0mBase.PkgId, \u001b[90msrcpath\u001b[39m::\u001b[0mString; \u001b[90mstale_age\u001b[39m::\u001b[0mInt64\u001b[0m\u001b[1m)\u001b[22m\n\u001b[90m    @\u001b[39m \u001b[90mBase\u001b[39m \u001b[90m.\\\u001b[39m\u001b[90m\u001b[4mloading.jl:2983\u001b[24m\u001b[39m\n [11] \u001b[0m\u001b[1mmaybe_cachefile_lock\u001b[22m\n\u001b[90m    @\u001b[39m \u001b[90m.\\\u001b[39m\u001b[90m\u001b[4mloading.jl:2980\u001b[24m\u001b[39m\u001b[90m [inlined]\u001b[39m\n [12] \u001b[0m\u001b[1m_require\u001b[22m\u001b[0m\u001b[1m(\u001b[22m\u001b[90mpkg\u001b[39m::\u001b[0mBase.PkgId, \u001b[90menv\u001b[39m::\u001b[0mString\u001b[0m\u001b[1m)\u001b[22m\n\u001b[90m    @\u001b[39m \u001b[90mBase\u001b[39m \u001b[90m.\\\u001b[39m\u001b[90m\u001b[4mloading.jl:1970\u001b[24m\u001b[39m\n [13] \u001b[0m\u001b[1m__require_prelocked\u001b[22m\u001b[0m\u001b[1m(\u001b[22m\u001b[90muuidkey\u001b[39m::\u001b[0mBase.PkgId, \u001b[90menv\u001b[39m::\u001b[0mString\u001b[0m\u001b[1m)\u001b[22m\n\u001b[90m    @\u001b[39m \u001b[90mBase\u001b[39m \u001b[90m.\\\u001b[39m\u001b[90m\u001b[4mloading.jl:1812\u001b[24m\u001b[39m\n [14] \u001b[0m\u001b[1m#invoke_in_world#3\u001b[22m\n\u001b[90m    @\u001b[39m \u001b[90m.\\\u001b[39m\u001b[90m\u001b[4messentials.jl:926\u001b[24m\u001b[39m\u001b[90m [inlined]\u001b[39m\n [15] \u001b[0m\u001b[1minvoke_in_world\u001b[22m\n\u001b[90m    @\u001b[39m \u001b[90m.\\\u001b[39m\u001b[90m\u001b[4messentials.jl:923\u001b[24m\u001b[39m\u001b[90m [inlined]\u001b[39m\n [16] \u001b[0m\u001b[1m_require_prelocked\u001b[22m\u001b[0m\u001b[1m(\u001b[22m\u001b[90muuidkey\u001b[39m::\u001b[0mBase.PkgId, \u001b[90menv\u001b[39m::\u001b[0mString\u001b[0m\u001b[1m)\u001b[22m\n\u001b[90m    @\u001b[39m \u001b[90mBase\u001b[39m \u001b[90m.\\\u001b[39m\u001b[90m\u001b[4mloading.jl:1803\u001b[24m\u001b[39m\n [17] \u001b[0m\u001b[1mmacro expansion\u001b[22m\n\u001b[90m    @\u001b[39m \u001b[90m.\\\u001b[39m\u001b[90m\u001b[4mloading.jl:1790\u001b[24m\u001b[39m\u001b[90m [inlined]\u001b[39m\n [18] \u001b[0m\u001b[1mmacro expansion\u001b[22m\n\u001b[90m    @\u001b[39m \u001b[90m.\\\u001b[39m\u001b[90m\u001b[4mlock.jl:267\u001b[24m\u001b[39m\u001b[90m [inlined]\u001b[39m\n [19] \u001b[0m\u001b[1m__require\u001b[22m\u001b[0m\u001b[1m(\u001b[22m\u001b[90minto\u001b[39m::\u001b[0mModule, \u001b[90mmod\u001b[39m::\u001b[0mSymbol\u001b[0m\u001b[1m)\u001b[22m\n\u001b[90m    @\u001b[39m \u001b[90mBase\u001b[39m \u001b[90m.\\\u001b[39m\u001b[90m\u001b[4mloading.jl:1753\u001b[24m\u001b[39m\n [20] \u001b[0m\u001b[1m#invoke_in_world#3\u001b[22m\n\u001b[90m    @\u001b[39m \u001b[90m.\\\u001b[39m\u001b[90m\u001b[4messentials.jl:926\u001b[24m\u001b[39m\u001b[90m [inlined]\u001b[39m\n [21] \u001b[0m\u001b[1minvoke_in_world\u001b[22m\n\u001b[90m    @\u001b[39m \u001b[90m.\\\u001b[39m\u001b[90m\u001b[4messentials.jl:923\u001b[24m\u001b[39m\u001b[90m [inlined]\u001b[39m\n [22] \u001b[0m\u001b[1mrequire\u001b[22m\u001b[0m\u001b[1m(\u001b[22m\u001b[90minto\u001b[39m::\u001b[0mModule, \u001b[90mmod\u001b[39m::\u001b[0mSymbol\u001b[0m\u001b[1m)\u001b[22m\n\u001b[90m    @\u001b[39m \u001b[90mBase\u001b[39m \u001b[90m.\\\u001b[39m\u001b[90m\u001b[4mloading.jl:1746\u001b[24m\u001b[39m\n [23] \u001b[0m\u001b[1minclude\u001b[22m\n\u001b[90m    @\u001b[39m \u001b[90m.\\\u001b[39m\u001b[90m\u001b[4mBase.jl:495\u001b[24m\u001b[39m\u001b[90m [inlined]\u001b[39m\n [24] \u001b[0m\u001b[1minclude_package_for_output\u001b[22m\u001b[0m\u001b[1m(\u001b[22m\u001b[90mpkg\u001b[39m::\u001b[0mBase.PkgId, \u001b[90minput\u001b[39m::\u001b[0mString, \u001b[90mdepot_path\u001b[39m::\u001b[0mVector\u001b[90m{String}\u001b[39m, \u001b[90mdl_load_path\u001b[39m::\u001b[0mVector\u001b[90m{String}\u001b[39m, \u001b[90mload_path\u001b[39m::\u001b[0mVector\u001b[90m{String}\u001b[39m, \u001b[90mconcrete_deps\u001b[39m::\u001b[0mVector\u001b[90m{Pair{Base.PkgId, UInt128}}\u001b[39m, \u001b[90msource\u001b[39m::\u001b[0mNothing\u001b[0m\u001b[1m)\u001b[22m\n\u001b[90m    @\u001b[39m \u001b[90mBase\u001b[39m \u001b[90m.\\\u001b[39m\u001b[90m\u001b[4mloading.jl:2222\u001b[24m\u001b[39m\n [25] top-level scope\n\u001b[90m    @\u001b[39m \u001b[90m\u001b[4mstdin:3\u001b[24m\u001b[39m\nin expression starting at C:\\Users\\Erzo\\.julia\\packages\\Queryverse\\cdTS7\\src\\Queryverse.jl:1\nin expression starting at stdin:",
     "output_type": "error",
     "traceback": [
      "The following 1 direct dependency failed to precompile:\n\nQueryverse [612083be-0b0f-5412-89c1-4e7c75506a58]\n\nFailed to precompile Queryverse [612083be-0b0f-5412-89c1-4e7c75506a58] to \"C:\\\\Users\\\\Erzo\\\\.julia\\\\compiled\\\\v1.10\\\\Queryverse\\\\jl_32A9.tmp\".\n\u001b[91m\u001b[1mERROR: \u001b[22m\u001b[39mLoadError: Snappy not installed properly, run Pkg.build(\"Snappy\"), restart Julia and try again\nStacktrace:\n [1] \u001b[0m\u001b[1merror\u001b[22m\u001b[0m\u001b[1m(\u001b[22m\u001b[90ms\u001b[39m::\u001b[0mString\u001b[0m\u001b[1m)\u001b[22m\n\u001b[90m   @\u001b[39m \u001b[90mBase\u001b[39m \u001b[90m.\\\u001b[39m\u001b[90m\u001b[4merror.jl:35\u001b[24m\u001b[39m\n [2] top-level scope\n\u001b[90m   @\u001b[39m \u001b[90mC:\\Users\\Erzo\\.julia\\packages\\Snappy\\O2CHr\\src\\\u001b[39m\u001b[90m\u001b[4mSnappy.jl:8\u001b[24m\u001b[39m\n [3] \u001b[0m\u001b[1minclude\u001b[22m\n\u001b[90m   @\u001b[39m \u001b[90m.\\\u001b[39m\u001b[90m\u001b[4mBase.jl:495\u001b[24m\u001b[39m\u001b[90m [inlined]\u001b[39m\n [4] \u001b[0m\u001b[1minclude_package_for_output\u001b[22m\u001b[0m\u001b[1m(\u001b[22m\u001b[90mpkg\u001b[39m::\u001b[0mBase.PkgId, \u001b[90minput\u001b[39m::\u001b[0mString, \u001b[90mdepot_path\u001b[39m::\u001b[0mVector\u001b[90m{String}\u001b[39m, \u001b[90mdl_load_path\u001b[39m::\u001b[0mVector\u001b[90m{String}\u001b[39m, \u001b[90mload_path\u001b[39m::\u001b[0mVector\u001b[90m{String}\u001b[39m, \u001b[90mconcrete_deps\u001b[39m::\u001b[0mVector\u001b[90m{Pair{Base.PkgId, UInt128}}\u001b[39m, \u001b[90msource\u001b[39m::\u001b[0mString\u001b[0m\u001b[1m)\u001b[22m\n\u001b[90m   @\u001b[39m \u001b[90mBase\u001b[39m \u001b[90m.\\\u001b[39m\u001b[90m\u001b[4mloading.jl:2222\u001b[24m\u001b[39m\n [5] top-level scope\n\u001b[90m   @\u001b[39m \u001b[90m\u001b[4mstdin:3\u001b[24m\u001b[39m\nin expression starting at C:\\Users\\Erzo\\.julia\\packages\\Snappy\\O2CHr\\src\\Snappy.jl:3\nin expression starting at stdin:3\n\u001b[91m\u001b[1mERROR: \u001b[22m\u001b[39mLoadError: Failed to precompile Snappy [59d4ed8c-697a-5b28-a4c7-fe95c22820f9] to \"C:\\\\Users\\\\Erzo\\\\.julia\\\\compiled\\\\v1.10\\\\Snappy\\\\jl_59CB.tmp\".\nStacktrace:\n  [1] \u001b[0m\u001b[1merror\u001b[22m\u001b[0m\u001b[1m(\u001b[22m\u001b[90ms\u001b[39m::\u001b[0mString\u001b[0m\u001b[1m)\u001b[22m\n\u001b[90m    @\u001b[39m \u001b[90mBase\u001b[39m \u001b[90m.\\\u001b[39m\u001b[90m\u001b[4merror.jl:35\u001b[24m\u001b[39m\n  [2] \u001b[0m\u001b[1mcompilecache\u001b[22m\u001b[0m\u001b[1m(\u001b[22m\u001b[90mpkg\u001b[39m::\u001b[0mBase.PkgId, \u001b[90mpath\u001b[39m::\u001b[0mString, \u001b[90minternal_stderr\u001b[39m::\u001b[0mIO, \u001b[90minternal_stdout\u001b[39m::\u001b[0mIO, \u001b[90mkeep_loaded_modules\u001b[39m::\u001b[0mBool\u001b[0m\u001b[1m)\u001b[22m\n\u001b[90m    @\u001b[39m \u001b[90mBase\u001b[39m \u001b[90m.\\\u001b[39m\u001b[90m\u001b[4mloading.jl:2468\u001b[24m\u001b[39m\n  [3] \u001b[0m\u001b[1mcompilecache\u001b[22m\n\u001b[90m    @\u001b[39m \u001b[90m.\\\u001b[39m\u001b[90m\u001b[4mloading.jl:2340\u001b[24m\u001b[39m\u001b[90m [inlined]\u001b[39m\n  [4] \u001b[0m\u001b[1m(::Base.var\"#968#969\"{Base.PkgId})\u001b[22m\u001b[0m\u001b[1m(\u001b[22m\u001b[0m\u001b[1m)\u001b[22m\n\u001b[90m    @\u001b[39m \u001b[90mBase\u001b[39m \u001b[90m.\\\u001b[39m\u001b[90m\u001b[4mloading.jl:1974\u001b[24m\u001b[39m\n  [5] \u001b[0m\u001b[1mmkpidlock\u001b[22m\u001b[0m\u001b[1m(\u001b[22m\u001b[90mf\u001b[39m::\u001b[0mBase.var\"#968#969\"\u001b[90m{Base.PkgId}\u001b[39m, \u001b[90mat\u001b[39m::\u001b[0mString, \u001b[90mpid\u001b[39m::\u001b[0mInt32; \u001b[90mkwopts\u001b[39m::\u001b[0m@Kwargs\u001b[90m{stale_age::Int64, wait::Bool}\u001b[39m\u001b[0m\u001b[1m)\u001b[22m\n\u001b[90m    @\u001b[39m \u001b[35mFileWatching.Pidfile\u001b[39m \u001b[90mC:\\Users\\Erzo\\AppData\\Local\\Programs\\Julia-1.10.2\\share\\julia\\stdlib\\v1.10\\FileWatching\\src\\\u001b[39m\u001b[90m\u001b[4mpidfile.jl:93\u001b[24m\u001b[39m\n  [6] \u001b[0m\u001b[1m#mkpidlock#6\u001b[22m\n\u001b[90m    @\u001b[39m \u001b[90mC:\\Users\\Erzo\\AppData\\Local\\Programs\\Julia-1.10.2\\share\\julia\\stdlib\\v1.10\\FileWatching\\src\\\u001b[39m\u001b[90m\u001b[4mpidfile.jl:88\u001b[24m\u001b[39m\u001b[90m [inlined]\u001b[39m\n  [7] \u001b[0m\u001b[1mtrymkpidlock\u001b[22m\u001b[0m\u001b[1m(\u001b[22m::\u001b[0mFunction, ::\u001b[0mVararg\u001b[90m{Any}\u001b[39m; \u001b[90mkwargs\u001b[39m::\u001b[0m@Kwargs\u001b[90m{stale_age::Int64}\u001b[39m\u001b[0m\u001b[1m)\u001b[22m\n\u001b[90m    @\u001b[39m \u001b[35mFileWatching.Pidfile\u001b[39m \u001b[90mC:\\Users\\Erzo\\AppData\\Local\\Programs\\Julia-1.10.2\\share\\julia\\stdlib\\v1.10\\FileWatching\\src\\\u001b[39m\u001b[90m\u001b[4mpidfile.jl:111\u001b[24m\u001b[39m\n  [8] \u001b[0m\u001b[1m#invokelatest#2\u001b[22m\n\u001b[90m    @\u001b[39m \u001b[90m.\\\u001b[39m\u001b[90m\u001b[4messentials.jl:894\u001b[24m\u001b[39m\u001b[90m [inlined]\u001b[39m\n  [9] \u001b[0m\u001b[1minvokelatest\u001b[22m\n\u001b[90m    @\u001b[39m \u001b[90m.\\\u001b[39m\u001b[90m\u001b[4messentials.jl:889\u001b[24m\u001b[39m\u001b[90m [inlined]\u001b[39m\n [10] \u001b[0m\u001b[1mmaybe_cachefile_lock\u001b[22m\u001b[0m\u001b[1m(\u001b[22m\u001b[90mf\u001b[39m::\u001b[0mBase.var\"#968#969\"\u001b[90m{Base.PkgId}\u001b[39m, \u001b[90mpkg\u001b[39m::\u001b[0mBase.PkgId, \u001b[90msrcpath\u001b[39m::\u001b[0mString; \u001b[90mstale_age\u001b[39m::\u001b[0mInt64\u001b[0m\u001b[1m)\u001b[22m\n\u001b[90m    @\u001b[39m \u001b[90mBase\u001b[39m \u001b[90m.\\\u001b[39m\u001b[90m\u001b[4mloading.jl:2983\u001b[24m\u001b[39m\n [11] \u001b[0m\u001b[1mmaybe_cachefile_lock\u001b[22m\n\u001b[90m    @\u001b[39m \u001b[90m.\\\u001b[39m\u001b[90m\u001b[4mloading.jl:2980\u001b[24m\u001b[39m\u001b[90m [inlined]\u001b[39m\n [12] \u001b[0m\u001b[1m_require\u001b[22m\u001b[0m\u001b[1m(\u001b[22m\u001b[90mpkg\u001b[39m::\u001b[0mBase.PkgId, \u001b[90menv\u001b[39m::\u001b[0mString\u001b[0m\u001b[1m)\u001b[22m\n\u001b[90m    @\u001b[39m \u001b[90mBase\u001b[39m \u001b[90m.\\\u001b[39m\u001b[90m\u001b[4mloading.jl:1970\u001b[24m\u001b[39m\n [13] \u001b[0m\u001b[1m__require_prelocked\u001b[22m\u001b[0m\u001b[1m(\u001b[22m\u001b[90muuidkey\u001b[39m::\u001b[0mBase.PkgId, \u001b[90menv\u001b[39m::\u001b[0mString\u001b[0m\u001b[1m)\u001b[22m\n\u001b[90m    @\u001b[39m \u001b[90mBase\u001b[39m \u001b[90m.\\\u001b[39m\u001b[90m\u001b[4mloading.jl:1812\u001b[24m\u001b[39m\n [14] \u001b[0m\u001b[1m#invoke_in_world#3\u001b[22m\n\u001b[90m    @\u001b[39m \u001b[90m.\\\u001b[39m\u001b[90m\u001b[4messentials.jl:926\u001b[24m\u001b[39m\u001b[90m [inlined]\u001b[39m\n [15] \u001b[0m\u001b[1minvoke_in_world\u001b[22m\n\u001b[90m    @\u001b[39m \u001b[90m.\\\u001b[39m\u001b[90m\u001b[4messentials.jl:923\u001b[24m\u001b[39m\u001b[90m [inlined]\u001b[39m\n [16] \u001b[0m\u001b[1m_require_prelocked\u001b[22m\u001b[0m\u001b[1m(\u001b[22m\u001b[90muuidkey\u001b[39m::\u001b[0mBase.PkgId, \u001b[90menv\u001b[39m::\u001b[0mString\u001b[0m\u001b[1m)\u001b[22m\n\u001b[90m    @\u001b[39m \u001b[90mBase\u001b[39m \u001b[90m.\\\u001b[39m\u001b[90m\u001b[4mloading.jl:1803\u001b[24m\u001b[39m\n [17] \u001b[0m\u001b[1mmacro expansion\u001b[22m\n\u001b[90m    @\u001b[39m \u001b[90m.\\\u001b[39m\u001b[90m\u001b[4mloading.jl:1790\u001b[24m\u001b[39m\u001b[90m [inlined]\u001b[39m\n [18] \u001b[0m\u001b[1mmacro expansion\u001b[22m\n\u001b[90m    @\u001b[39m \u001b[90m.\\\u001b[39m\u001b[90m\u001b[4mlock.jl:267\u001b[24m\u001b[39m\u001b[90m [inlined]\u001b[39m\n [19] \u001b[0m\u001b[1m__require\u001b[22m\u001b[0m\u001b[1m(\u001b[22m\u001b[90minto\u001b[39m::\u001b[0mModule, \u001b[90mmod\u001b[39m::\u001b[0mSymbol\u001b[0m\u001b[1m)\u001b[22m\n\u001b[90m    @\u001b[39m \u001b[90mBase\u001b[39m \u001b[90m.\\\u001b[39m\u001b[90m\u001b[4mloading.jl:1753\u001b[24m\u001b[39m\n [20] \u001b[0m\u001b[1m#invoke_in_world#3\u001b[22m\n\u001b[90m    @\u001b[39m \u001b[90m.\\\u001b[39m\u001b[90m\u001b[4messentials.jl:926\u001b[24m\u001b[39m\u001b[90m [inlined]\u001b[39m\n [21] \u001b[0m\u001b[1minvoke_in_world\u001b[22m\n\u001b[90m    @\u001b[39m \u001b[90m.\\\u001b[39m\u001b[90m\u001b[4messentials.jl:923\u001b[24m\u001b[39m\u001b[90m [inlined]\u001b[39m\n [22] \u001b[0m\u001b[1mrequire\u001b[22m\u001b[0m\u001b[1m(\u001b[22m\u001b[90minto\u001b[39m::\u001b[0mModule, \u001b[90mmod\u001b[39m::\u001b[0mSymbol\u001b[0m\u001b[1m)\u001b[22m\n\u001b[90m    @\u001b[39m \u001b[90mBase\u001b[39m \u001b[90m.\\\u001b[39m\u001b[90m\u001b[4mloading.jl:1746\u001b[24m\u001b[39m\n [23] \u001b[0m\u001b[1minclude\u001b[22m\n\u001b[90m    @\u001b[39m \u001b[90m.\\\u001b[39m\u001b[90m\u001b[4mBase.jl:495\u001b[24m\u001b[39m\u001b[90m [inlined]\u001b[39m\n [24] \u001b[0m\u001b[1minclude_package_for_output\u001b[22m\u001b[0m\u001b[1m(\u001b[22m\u001b[90mpkg\u001b[39m::\u001b[0mBase.PkgId, \u001b[90minput\u001b[39m::\u001b[0mString, \u001b[90mdepot_path\u001b[39m::\u001b[0mVector\u001b[90m{String}\u001b[39m, \u001b[90mdl_load_path\u001b[39m::\u001b[0mVector\u001b[90m{String}\u001b[39m, \u001b[90mload_path\u001b[39m::\u001b[0mVector\u001b[90m{String}\u001b[39m, \u001b[90mconcrete_deps\u001b[39m::\u001b[0mVector\u001b[90m{Pair{Base.PkgId, UInt128}}\u001b[39m, \u001b[90msource\u001b[39m::\u001b[0mString\u001b[0m\u001b[1m)\u001b[22m\n\u001b[90m    @\u001b[39m \u001b[90mBase\u001b[39m \u001b[90m.\\\u001b[39m\u001b[90m\u001b[4mloading.jl:2222\u001b[24m\u001b[39m\n [25] top-level scope\n\u001b[90m    @\u001b[39m \u001b[90m\u001b[4mstdin:3\u001b[24m\u001b[39m\nin expression starting at C:\\Users\\Erzo\\.julia\\packages\\Parquet\\gHhvB\\src\\Parquet.jl:1\nin expression starting at stdin:3\n\u001b[91m\u001b[1mERROR: \u001b[22m\u001b[39mLoadError: Failed to precompile Parquet [626c502c-15b0-58ad-a749-f091afb673ae] to \"C:\\\\Users\\\\Erzo\\\\.julia\\\\compiled\\\\v1.10\\\\Parquet\\\\jl_57B8.tmp\".\nStacktrace:\n  [1] \u001b[0m\u001b[1merror\u001b[22m\u001b[0m\u001b[1m(\u001b[22m\u001b[90ms\u001b[39m::\u001b[0mString\u001b[0m\u001b[1m)\u001b[22m\n\u001b[90m    @\u001b[39m \u001b[90mBase\u001b[39m \u001b[90m.\\\u001b[39m\u001b[90m\u001b[4merror.jl:35\u001b[24m\u001b[39m\n  [2] \u001b[0m\u001b[1mcompilecache\u001b[22m\u001b[0m\u001b[1m(\u001b[22m\u001b[90mpkg\u001b[39m::\u001b[0mBase.PkgId, \u001b[90mpath\u001b[39m::\u001b[0mString, \u001b[90minternal_stderr\u001b[39m::\u001b[0mIO, \u001b[90minternal_stdout\u001b[39m::\u001b[0mIO, \u001b[90mkeep_loaded_modules\u001b[39m::\u001b[0mBool\u001b[0m\u001b[1m)\u001b[22m\n\u001b[90m    @\u001b[39m \u001b[90mBase\u001b[39m \u001b[90m.\\\u001b[39m\u001b[90m\u001b[4mloading.jl:2468\u001b[24m\u001b[39m\n  [3] \u001b[0m\u001b[1mcompilecache\u001b[22m\n\u001b[90m    @\u001b[39m \u001b[90m.\\\u001b[39m\u001b[90m\u001b[4mloading.jl:2340\u001b[24m\u001b[39m\u001b[90m [inlined]\u001b[39m\n  [4] \u001b[0m\u001b[1m(::Base.var\"#968#969\"{Base.PkgId})\u001b[22m\u001b[0m\u001b[1m(\u001b[22m\u001b[0m\u001b[1m)\u001b[22m\n\u001b[90m    @\u001b[39m \u001b[90mBase\u001b[39m \u001b[90m.\\\u001b[39m\u001b[90m\u001b[4mloading.jl:1974\u001b[24m\u001b[39m\n  [5] \u001b[0m\u001b[1mmkpidlock\u001b[22m\u001b[0m\u001b[1m(\u001b[22m\u001b[90mf\u001b[39m::\u001b[0mBase.var\"#968#969\"\u001b[90m{Base.PkgId}\u001b[39m, \u001b[90mat\u001b[39m::\u001b[0mString, \u001b[90mpid\u001b[39m::\u001b[0mInt32; \u001b[90mkwopts\u001b[39m::\u001b[0m@Kwargs\u001b[90m{stale_age::Int64, wait::Bool}\u001b[39m\u001b[0m\u001b[1m)\u001b[22m\n\u001b[90m    @\u001b[39m \u001b[35mFileWatching.Pidfile\u001b[39m \u001b[90mC:\\Users\\Erzo\\AppData\\Local\\Programs\\Julia-1.10.2\\share\\julia\\stdlib\\v1.10\\FileWatching\\src\\\u001b[39m\u001b[90m\u001b[4mpidfile.jl:93\u001b[24m\u001b[39m\n  [6] \u001b[0m\u001b[1m#mkpidlock#6\u001b[22m\n\u001b[90m    @\u001b[39m \u001b[90mC:\\Users\\Erzo\\AppData\\Local\\Programs\\Julia-1.10.2\\share\\julia\\stdlib\\v1.10\\FileWatching\\src\\\u001b[39m\u001b[90m\u001b[4mpidfile.jl:88\u001b[24m\u001b[39m\u001b[90m [inlined]\u001b[39m\n  [7] \u001b[0m\u001b[1mtrymkpidlock\u001b[22m\u001b[0m\u001b[1m(\u001b[22m::\u001b[0mFunction, ::\u001b[0mVararg\u001b[90m{Any}\u001b[39m; \u001b[90mkwargs\u001b[39m::\u001b[0m@Kwargs\u001b[90m{stale_age::Int64}\u001b[39m\u001b[0m\u001b[1m)\u001b[22m\n\u001b[90m    @\u001b[39m \u001b[35mFileWatching.Pidfile\u001b[39m \u001b[90mC:\\Users\\Erzo\\AppData\\Local\\Programs\\Julia-1.10.2\\share\\julia\\stdlib\\v1.10\\FileWatching\\src\\\u001b[39m\u001b[90m\u001b[4mpidfile.jl:111\u001b[24m\u001b[39m\n  [8] \u001b[0m\u001b[1m#invokelatest#2\u001b[22m\n\u001b[90m    @\u001b[39m \u001b[90m.\\\u001b[39m\u001b[90m\u001b[4messentials.jl:894\u001b[24m\u001b[39m\u001b[90m [inlined]\u001b[39m\n  [9] \u001b[0m\u001b[1minvokelatest\u001b[22m\n\u001b[90m    @\u001b[39m \u001b[90m.\\\u001b[39m\u001b[90m\u001b[4messentials.jl:889\u001b[24m\u001b[39m\u001b[90m [inlined]\u001b[39m\n [10] \u001b[0m\u001b[1mmaybe_cachefile_lock\u001b[22m\u001b[0m\u001b[1m(\u001b[22m\u001b[90mf\u001b[39m::\u001b[0mBase.var\"#968#969\"\u001b[90m{Base.PkgId}\u001b[39m, \u001b[90mpkg\u001b[39m::\u001b[0mBase.PkgId, \u001b[90msrcpath\u001b[39m::\u001b[0mString; \u001b[90mstale_age\u001b[39m::\u001b[0mInt64\u001b[0m\u001b[1m)\u001b[22m\n\u001b[90m    @\u001b[39m \u001b[90mBase\u001b[39m \u001b[90m.\\\u001b[39m\u001b[90m\u001b[4mloading.jl:2983\u001b[24m\u001b[39m\n [11] \u001b[0m\u001b[1mmaybe_cachefile_lock\u001b[22m\n\u001b[90m    @\u001b[39m \u001b[90m.\\\u001b[39m\u001b[90m\u001b[4mloading.jl:2980\u001b[24m\u001b[39m\u001b[90m [inlined]\u001b[39m\n [12] \u001b[0m\u001b[1m_require\u001b[22m\u001b[0m\u001b[1m(\u001b[22m\u001b[90mpkg\u001b[39m::\u001b[0mBase.PkgId, \u001b[90menv\u001b[39m::\u001b[0mString\u001b[0m\u001b[1m)\u001b[22m\n\u001b[90m    @\u001b[39m \u001b[90mBase\u001b[39m \u001b[90m.\\\u001b[39m\u001b[90m\u001b[4mloading.jl:1970\u001b[24m\u001b[39m\n [13] \u001b[0m\u001b[1m__require_prelocked\u001b[22m\u001b[0m\u001b[1m(\u001b[22m\u001b[90muuidkey\u001b[39m::\u001b[0mBase.PkgId, \u001b[90menv\u001b[39m::\u001b[0mString\u001b[0m\u001b[1m)\u001b[22m\n\u001b[90m    @\u001b[39m \u001b[90mBase\u001b[39m \u001b[90m.\\\u001b[39m\u001b[90m\u001b[4mloading.jl:1812\u001b[24m\u001b[39m\n [14] \u001b[0m\u001b[1m#invoke_in_world#3\u001b[22m\n\u001b[90m    @\u001b[39m \u001b[90m.\\\u001b[39m\u001b[90m\u001b[4messentials.jl:926\u001b[24m\u001b[39m\u001b[90m [inlined]\u001b[39m\n [15] \u001b[0m\u001b[1minvoke_in_world\u001b[22m\n\u001b[90m    @\u001b[39m \u001b[90m.\\\u001b[39m\u001b[90m\u001b[4messentials.jl:923\u001b[24m\u001b[39m\u001b[90m [inlined]\u001b[39m\n [16] \u001b[0m\u001b[1m_require_prelocked\u001b[22m\u001b[0m\u001b[1m(\u001b[22m\u001b[90muuidkey\u001b[39m::\u001b[0mBase.PkgId, \u001b[90menv\u001b[39m::\u001b[0mString\u001b[0m\u001b[1m)\u001b[22m\n\u001b[90m    @\u001b[39m \u001b[90mBase\u001b[39m \u001b[90m.\\\u001b[39m\u001b[90m\u001b[4mloading.jl:1803\u001b[24m\u001b[39m\n [17] \u001b[0m\u001b[1mmacro expansion\u001b[22m\n\u001b[90m    @\u001b[39m \u001b[90m.\\\u001b[39m\u001b[90m\u001b[4mloading.jl:1790\u001b[24m\u001b[39m\u001b[90m [inlined]\u001b[39m\n [18] \u001b[0m\u001b[1mmacro expansion\u001b[22m\n\u001b[90m    @\u001b[39m \u001b[90m.\\\u001b[39m\u001b[90m\u001b[4mlock.jl:267\u001b[24m\u001b[39m\u001b[90m [inlined]\u001b[39m\n [19] \u001b[0m\u001b[1m__require\u001b[22m\u001b[0m\u001b[1m(\u001b[22m\u001b[90minto\u001b[39m::\u001b[0mModule, \u001b[90mmod\u001b[39m::\u001b[0mSymbol\u001b[0m\u001b[1m)\u001b[22m\n\u001b[90m    @\u001b[39m \u001b[90mBase\u001b[39m \u001b[90m.\\\u001b[39m\u001b[90m\u001b[4mloading.jl:1753\u001b[24m\u001b[39m\n [20] \u001b[0m\u001b[1m#invoke_in_world#3\u001b[22m\n\u001b[90m    @\u001b[39m \u001b[90m.\\\u001b[39m\u001b[90m\u001b[4messentials.jl:926\u001b[24m\u001b[39m\u001b[90m [inlined]\u001b[39m\n [21] \u001b[0m\u001b[1minvoke_in_world\u001b[22m\n\u001b[90m    @\u001b[39m \u001b[90m.\\\u001b[39m\u001b[90m\u001b[4messentials.jl:923\u001b[24m\u001b[39m\u001b[90m [inlined]\u001b[39m\n [22] \u001b[0m\u001b[1mrequire\u001b[22m\u001b[0m\u001b[1m(\u001b[22m\u001b[90minto\u001b[39m::\u001b[0mModule, \u001b[90mmod\u001b[39m::\u001b[0mSymbol\u001b[0m\u001b[1m)\u001b[22m\n\u001b[90m    @\u001b[39m \u001b[90mBase\u001b[39m \u001b[90m.\\\u001b[39m\u001b[90m\u001b[4mloading.jl:1746\u001b[24m\u001b[39m\n [23] \u001b[0m\u001b[1minclude\u001b[22m\n\u001b[90m    @\u001b[39m \u001b[90m.\\\u001b[39m\u001b[90m\u001b[4mBase.jl:495\u001b[24m\u001b[39m\u001b[90m [inlined]\u001b[39m\n [24] \u001b[0m\u001b[1minclude_package_for_output\u001b[22m\u001b[0m\u001b[1m(\u001b[22m\u001b[90mpkg\u001b[39m::\u001b[0mBase.PkgId, \u001b[90minput\u001b[39m::\u001b[0mString, \u001b[90mdepot_path\u001b[39m::\u001b[0mVector\u001b[90m{String}\u001b[39m, \u001b[90mdl_load_path\u001b[39m::\u001b[0mVector\u001b[90m{String}\u001b[39m, \u001b[90mload_path\u001b[39m::\u001b[0mVector\u001b[90m{String}\u001b[39m, \u001b[90mconcrete_deps\u001b[39m::\u001b[0mVector\u001b[90m{Pair{Base.PkgId, UInt128}}\u001b[39m, \u001b[90msource\u001b[39m::\u001b[0mString\u001b[0m\u001b[1m)\u001b[22m\n\u001b[90m    @\u001b[39m \u001b[90mBase\u001b[39m \u001b[90m.\\\u001b[39m\u001b[90m\u001b[4mloading.jl:2222\u001b[24m\u001b[39m\n [25] top-level scope\n\u001b[90m    @\u001b[39m \u001b[90m\u001b[4mstdin:3\u001b[24m\u001b[39m\nin expression starting at C:\\Users\\Erzo\\.julia\\packages\\ParquetFiles\\cLLFb\\src\\ParquetFiles.jl:1\nin expression starting at stdin:3\n\u001b[91m\u001b[1mERROR: \u001b[22m\u001b[39mLoadError: Failed to precompile ParquetFiles [46a55296-af5a-53b0-aaa0-97023b66127f] to \"C:\\\\Users\\\\Erzo\\\\.julia\\\\compiled\\\\v1.10\\\\ParquetFiles\\\\jl_5602.tmp\".\nStacktrace:\n  [1] \u001b[0m\u001b[1merror\u001b[22m\u001b[0m\u001b[1m(\u001b[22m\u001b[90ms\u001b[39m::\u001b[0mString\u001b[0m\u001b[1m)\u001b[22m\n\u001b[90m    @\u001b[39m \u001b[90mBase\u001b[39m \u001b[90m.\\\u001b[39m\u001b[90m\u001b[4merror.jl:35\u001b[24m\u001b[39m\n  [2] \u001b[0m\u001b[1mcompilecache\u001b[22m\u001b[0m\u001b[1m(\u001b[22m\u001b[90mpkg\u001b[39m::\u001b[0mBase.PkgId, \u001b[90mpath\u001b[39m::\u001b[0mString, \u001b[90minternal_stderr\u001b[39m::\u001b[0mIO, \u001b[90minternal_stdout\u001b[39m::\u001b[0mIO, \u001b[90mkeep_loaded_modules\u001b[39m::\u001b[0mBool\u001b[0m\u001b[1m)\u001b[22m\n\u001b[90m    @\u001b[39m \u001b[90mBase\u001b[39m \u001b[90m.\\\u001b[39m\u001b[90m\u001b[4mloading.jl:2468\u001b[24m\u001b[39m\n  [3] \u001b[0m\u001b[1mcompilecache\u001b[22m\n\u001b[90m    @\u001b[39m \u001b[90m.\\\u001b[39m\u001b[90m\u001b[4mloading.jl:2340\u001b[24m\u001b[39m\u001b[90m [inlined]\u001b[39m\n  [4] \u001b[0m\u001b[1m(::Base.var\"#968#969\"{Base.PkgId})\u001b[22m\u001b[0m\u001b[1m(\u001b[22m\u001b[0m\u001b[1m)\u001b[22m\n\u001b[90m    @\u001b[39m \u001b[90mBase\u001b[39m \u001b[90m.\\\u001b[39m\u001b[90m\u001b[4mloading.jl:1974\u001b[24m\u001b[39m\n  [5] \u001b[0m\u001b[1mmkpidlock\u001b[22m\u001b[0m\u001b[1m(\u001b[22m\u001b[90mf\u001b[39m::\u001b[0mBase.var\"#968#969\"\u001b[90m{Base.PkgId}\u001b[39m, \u001b[90mat\u001b[39m::\u001b[0mString, \u001b[90mpid\u001b[39m::\u001b[0mInt32; \u001b[90mkwopts\u001b[39m::\u001b[0m@Kwargs\u001b[90m{stale_age::Int64, wait::Bool}\u001b[39m\u001b[0m\u001b[1m)\u001b[22m\n\u001b[90m    @\u001b[39m \u001b[35mFileWatching.Pidfile\u001b[39m \u001b[90mC:\\Users\\Erzo\\AppData\\Local\\Programs\\Julia-1.10.2\\share\\julia\\stdlib\\v1.10\\FileWatching\\src\\\u001b[39m\u001b[90m\u001b[4mpidfile.jl:93\u001b[24m\u001b[39m\n  [6] \u001b[0m\u001b[1m#mkpidlock#6\u001b[22m\n\u001b[90m    @\u001b[39m \u001b[90mC:\\Users\\Erzo\\AppData\\Local\\Programs\\Julia-1.10.2\\share\\julia\\stdlib\\v1.10\\FileWatching\\src\\\u001b[39m\u001b[90m\u001b[4mpidfile.jl:88\u001b[24m\u001b[39m\u001b[90m [inlined]\u001b[39m\n  [7] \u001b[0m\u001b[1mtrymkpidlock\u001b[22m\u001b[0m\u001b[1m(\u001b[22m::\u001b[0mFunction, ::\u001b[0mVararg\u001b[90m{Any}\u001b[39m; \u001b[90mkwargs\u001b[39m::\u001b[0m@Kwargs\u001b[90m{stale_age::Int64}\u001b[39m\u001b[0m\u001b[1m)\u001b[22m\n\u001b[90m    @\u001b[39m \u001b[35mFileWatching.Pidfile\u001b[39m \u001b[90mC:\\Users\\Erzo\\AppData\\Local\\Programs\\Julia-1.10.2\\share\\julia\\stdlib\\v1.10\\FileWatching\\src\\\u001b[39m\u001b[90m\u001b[4mpidfile.jl:111\u001b[24m\u001b[39m\n  [8] \u001b[0m\u001b[1m#invokelatest#2\u001b[22m\n\u001b[90m    @\u001b[39m \u001b[90m.\\\u001b[39m\u001b[90m\u001b[4messentials.jl:894\u001b[24m\u001b[39m\u001b[90m [inlined]\u001b[39m\n  [9] \u001b[0m\u001b[1minvokelatest\u001b[22m\n\u001b[90m    @\u001b[39m \u001b[90m.\\\u001b[39m\u001b[90m\u001b[4messentials.jl:889\u001b[24m\u001b[39m\u001b[90m [inlined]\u001b[39m\n [10] \u001b[0m\u001b[1mmaybe_cachefile_lock\u001b[22m\u001b[0m\u001b[1m(\u001b[22m\u001b[90mf\u001b[39m::\u001b[0mBase.var\"#968#969\"\u001b[90m{Base.PkgId}\u001b[39m, \u001b[90mpkg\u001b[39m::\u001b[0mBase.PkgId, \u001b[90msrcpath\u001b[39m::\u001b[0mString; \u001b[90mstale_age\u001b[39m::\u001b[0mInt64\u001b[0m\u001b[1m)\u001b[22m\n\u001b[90m    @\u001b[39m \u001b[90mBase\u001b[39m \u001b[90m.\\\u001b[39m\u001b[90m\u001b[4mloading.jl:2983\u001b[24m\u001b[39m\n [11] \u001b[0m\u001b[1mmaybe_cachefile_lock\u001b[22m\n\u001b[90m    @\u001b[39m \u001b[90m.\\\u001b[39m\u001b[90m\u001b[4mloading.jl:2980\u001b[24m\u001b[39m\u001b[90m [inlined]\u001b[39m\n [12] \u001b[0m\u001b[1m_require\u001b[22m\u001b[0m\u001b[1m(\u001b[22m\u001b[90mpkg\u001b[39m::\u001b[0mBase.PkgId, \u001b[90menv\u001b[39m::\u001b[0mString\u001b[0m\u001b[1m)\u001b[22m\n\u001b[90m    @\u001b[39m \u001b[90mBase\u001b[39m \u001b[90m.\\\u001b[39m\u001b[90m\u001b[4mloading.jl:1970\u001b[24m\u001b[39m\n [13] \u001b[0m\u001b[1m__require_prelocked\u001b[22m\u001b[0m\u001b[1m(\u001b[22m\u001b[90muuidkey\u001b[39m::\u001b[0mBase.PkgId, \u001b[90menv\u001b[39m::\u001b[0mString\u001b[0m\u001b[1m)\u001b[22m\n\u001b[90m    @\u001b[39m \u001b[90mBase\u001b[39m \u001b[90m.\\\u001b[39m\u001b[90m\u001b[4mloading.jl:1812\u001b[24m\u001b[39m\n [14] \u001b[0m\u001b[1m#invoke_in_world#3\u001b[22m\n\u001b[90m    @\u001b[39m \u001b[90m.\\\u001b[39m\u001b[90m\u001b[4messentials.jl:926\u001b[24m\u001b[39m\u001b[90m [inlined]\u001b[39m\n [15] \u001b[0m\u001b[1minvoke_in_world\u001b[22m\n\u001b[90m    @\u001b[39m \u001b[90m.\\\u001b[39m\u001b[90m\u001b[4messentials.jl:923\u001b[24m\u001b[39m\u001b[90m [inlined]\u001b[39m\n [16] \u001b[0m\u001b[1m_require_prelocked\u001b[22m\u001b[0m\u001b[1m(\u001b[22m\u001b[90muuidkey\u001b[39m::\u001b[0mBase.PkgId, \u001b[90menv\u001b[39m::\u001b[0mString\u001b[0m\u001b[1m)\u001b[22m\n\u001b[90m    @\u001b[39m \u001b[90mBase\u001b[39m \u001b[90m.\\\u001b[39m\u001b[90m\u001b[4mloading.jl:1803\u001b[24m\u001b[39m\n [17] \u001b[0m\u001b[1mmacro expansion\u001b[22m\n\u001b[90m    @\u001b[39m \u001b[90m.\\\u001b[39m\u001b[90m\u001b[4mloading.jl:1790\u001b[24m\u001b[39m\u001b[90m [inlined]\u001b[39m\n [18] \u001b[0m\u001b[1mmacro expansion\u001b[22m\n\u001b[90m    @\u001b[39m \u001b[90m.\\\u001b[39m\u001b[90m\u001b[4mlock.jl:267\u001b[24m\u001b[39m\u001b[90m [inlined]\u001b[39m\n [19] \u001b[0m\u001b[1m__require\u001b[22m\u001b[0m\u001b[1m(\u001b[22m\u001b[90minto\u001b[39m::\u001b[0mModule, \u001b[90mmod\u001b[39m::\u001b[0mSymbol\u001b[0m\u001b[1m)\u001b[22m\n\u001b[90m    @\u001b[39m \u001b[90mBase\u001b[39m \u001b[90m.\\\u001b[39m\u001b[90m\u001b[4mloading.jl:1753\u001b[24m\u001b[39m\n [20] \u001b[0m\u001b[1m#invoke_in_world#3\u001b[22m\n\u001b[90m    @\u001b[39m \u001b[90m.\\\u001b[39m\u001b[90m\u001b[4messentials.jl:926\u001b[24m\u001b[39m\u001b[90m [inlined]\u001b[39m\n [21] \u001b[0m\u001b[1minvoke_in_world\u001b[22m\n\u001b[90m    @\u001b[39m \u001b[90m.\\\u001b[39m\u001b[90m\u001b[4messentials.jl:923\u001b[24m\u001b[39m\u001b[90m [inlined]\u001b[39m\n [22] \u001b[0m\u001b[1mrequire\u001b[22m\u001b[0m\u001b[1m(\u001b[22m\u001b[90minto\u001b[39m::\u001b[0mModule, \u001b[90mmod\u001b[39m::\u001b[0mSymbol\u001b[0m\u001b[1m)\u001b[22m\n\u001b[90m    @\u001b[39m \u001b[90mBase\u001b[39m \u001b[90m.\\\u001b[39m\u001b[90m\u001b[4mloading.jl:1746\u001b[24m\u001b[39m\n [23] \u001b[0m\u001b[1minclude\u001b[22m\n\u001b[90m    @\u001b[39m \u001b[90m.\\\u001b[39m\u001b[90m\u001b[4mBase.jl:495\u001b[24m\u001b[39m\u001b[90m [inlined]\u001b[39m\n [24] \u001b[0m\u001b[1minclude_package_for_output\u001b[22m\u001b[0m\u001b[1m(\u001b[22m\u001b[90mpkg\u001b[39m::\u001b[0mBase.PkgId, \u001b[90minput\u001b[39m::\u001b[0mString, \u001b[90mdepot_path\u001b[39m::\u001b[0mVector\u001b[90m{String}\u001b[39m, \u001b[90mdl_load_path\u001b[39m::\u001b[0mVector\u001b[90m{String}\u001b[39m, \u001b[90mload_path\u001b[39m::\u001b[0mVector\u001b[90m{String}\u001b[39m, \u001b[90mconcrete_deps\u001b[39m::\u001b[0mVector\u001b[90m{Pair{Base.PkgId, UInt128}}\u001b[39m, \u001b[90msource\u001b[39m::\u001b[0mNothing\u001b[0m\u001b[1m)\u001b[22m\n\u001b[90m    @\u001b[39m \u001b[90mBase\u001b[39m \u001b[90m.\\\u001b[39m\u001b[90m\u001b[4mloading.jl:2222\u001b[24m\u001b[39m\n [25] top-level scope\n\u001b[90m    @\u001b[39m \u001b[90m\u001b[4mstdin:3\u001b[24m\u001b[39m\nin expression starting at C:\\Users\\Erzo\\.julia\\packages\\Queryverse\\cdTS7\\src\\Queryverse.jl:1\nin expression starting at stdin:",
      "",
      "Stacktrace:",
      "  [1] pkgerror(msg::String)",
      "    @ Pkg.Types C:\\Users\\Erzo\\AppData\\Local\\Programs\\Julia-1.10.2\\share\\julia\\stdlib\\v1.10\\Pkg\\src\\Types.jl:70",
      "  [2] precompile(ctx::Pkg.Types.Context, pkgs::Vector{Pkg.Types.PackageSpec}; internal_call::Bool, strict::Bool, warn_loaded::Bool, already_instantiated::Bool, timing::Bool, _from_loading::Bool, kwargs::@Kwargs{io::IJulia.IJuliaStdio{Base.PipeEndpoint}})",
      "    @ Pkg.API C:\\Users\\Erzo\\AppData\\Local\\Programs\\Julia-1.10.2\\share\\julia\\stdlib\\v1.10\\Pkg\\src\\API.jl:1659",
      "  [3] precompile(pkgs::Vector{Pkg.Types.PackageSpec}; io::IJulia.IJuliaStdio{Base.PipeEndpoint}, kwargs::@Kwargs{_from_loading::Bool})",
      "    @ Pkg.API C:\\Users\\Erzo\\AppData\\Local\\Programs\\Julia-1.10.2\\share\\julia\\stdlib\\v1.10\\Pkg\\src\\API.jl:159",
      "  [4] precompile",
      "    @ C:\\Users\\Erzo\\AppData\\Local\\Programs\\Julia-1.10.2\\share\\julia\\stdlib\\v1.10\\Pkg\\src\\API.jl:147 [inlined]",
      "  [5] #precompile#114",
      "    @ C:\\Users\\Erzo\\AppData\\Local\\Programs\\Julia-1.10.2\\share\\julia\\stdlib\\v1.10\\Pkg\\src\\API.jl:146 [inlined]",
      "  [6] #invokelatest#2",
      "    @ .\\essentials.jl:894 [inlined]",
      "  [7] invokelatest",
      "    @ .\\essentials.jl:889 [inlined]",
      "  [8] _require(pkg::Base.PkgId, env::String)",
      "    @ Base .\\loading.jl:1963",
      "  [9] __require_prelocked(uuidkey::Base.PkgId, env::String)",
      "    @ Base .\\loading.jl:1812",
      " [10] #invoke_in_world#3",
      "    @ .\\essentials.jl:926 [inlined]",
      " [11] invoke_in_world",
      "    @ .\\essentials.jl:923 [inlined]",
      " [12] _require_prelocked(uuidkey::Base.PkgId, env::String)",
      "    @ Base .\\loading.jl:1803",
      " [13] macro expansion",
      "    @ .\\loading.jl:1790 [inlined]",
      " [14] macro expansion",
      "    @ .\\lock.jl:267 [inlined]",
      " [15] __require(into::Module, mod::Symbol)",
      "    @ Base .\\loading.jl:1753",
      " [16] #invoke_in_world#3",
      "    @ .\\essentials.jl:926 [inlined]",
      " [17] invoke_in_world",
      "    @ .\\essentials.jl:923 [inlined]",
      " [18] require(into::Module, mod::Symbol)",
      "    @ Base .\\loading.jl:1746"
     ]
    }
   ],
   "source": [
    "using DataFrames\n",
    "using FilePaths\n",
    "using Queryverse\n",
    "using GLM\n",
    "using StatsModels\n",
    "using Combinatorics\n",
    "using Iterators\n",
    "using CategoricalArrays\n",
    "using HypothesisTests\n",
    "using StatsBase\n",
    "using Lasso\n",
    "using TypedTables\n",
    "using MacroTools\n",
    "using NamedArrays\n",
    "using DataTables\n",
    "using Latexify\n",
    "using PrettyTables\n",
    "using TypedTables\n",
    "using TexTables\n",
    "using DataTables\n",
    "using FilePaths\n",
    "using Combinatorics\n",
    "using CategoricalArrays\n",
    "using TypedTables\n",
    "using MacroTools\n",
    "using HDMjl\n"
   ]
  },
  {
   "cell_type": "markdown",
   "metadata": {},
   "source": [
    "## Multicollinearity"
   ]
  },
  {
   "cell_type": "markdown",
   "metadata": {},
   "source": [
    "Multicolinearity occurs when two or more predictors in a regresion model are highly correlated to one another, causing a higher variance our the estimated coefficients. To understand the way multicollinearity affects our regresion we can examine the composition of the variance of our estimates. \n",
    "\n",
    "Suppose some Data Generating Process follows:\n",
    "\n",
    "\\begin{equation*}\n",
    "  Y = X_1\\beta_1 +\\epsilon\n",
    "\\end{equation*}\n",
    "\n",
    "Considering the partitioned regression model:\n",
    "\n",
    "\\begin{align*}\n",
    "  Y &= X\\beta + e \\\\\n",
    "  Y &= X_1\\beta_1 + X_2\\beta_2 + e\n",
    "\\end{align*}\n",
    "\n",
    "We know that the OLS estimator will solve this equation:\n",
    "\n",
    "\\begin{align*}\n",
    "(X'X)\\hat{\\beta} &=X'Y \\\\\n",
    "\n",
    "\\begin{bmatrix}\n",
    "  X_1'X_1      & X_1'X_2   \\\\\n",
    "  X_2'X_1      & X_2'X_2 \n",
    "\\end{bmatrix}\n",
    "\\begin{bmatrix}\n",
    "\\hat{\\beta_1} \\\\\n",
    "\\hat{\\beta_2}\n",
    "\\end{bmatrix}\n",
    "& =\n",
    "\\begin{bmatrix}\n",
    "X_1'Y \\\\\n",
    "X_2'Y\n",
    "\\end{bmatrix}\n",
    "\\end{align*}\n",
    "\n",
    "This, because of the Frisch-Whaugh-Lovell Theorem, yields:\n",
    "\n",
    "\\begin{align*}\n",
    "  \\hat{\\beta_1} &= (X_1'M_2X_1)^{-1}X_1'M_2Y\n",
    "\\end{align*}\n",
    "\n",
    "Where $M_2 = I - X_2(X_2'X_2)^{-1}X_2'$, is the orthogonal projection matrix to $X_2$.\n",
    "\n",
    "Note that $M_2$ is symmetric, idempotent, and that any variable premultiplied by it yields the residual from from running $X_2$ on that variable. For an arbitrary variable $Z$:\n",
    "\n",
    "\\begin{align*}\n",
    "  M_2Z &= (I - X_2(X_2'X_2)^{-1}X_2')Z \\\\\n",
    "  &= Z - X_2(X_2'X_2)^{-1}X_2'Z \\\\\n",
    "  &= Z - X_2\\hat{\\omega} \\\\\n",
    "  &= Z - \\hat{Z} \\\\\n",
    "  &= e_{Z}\n",
    "\\end{align*}\n",
    "\n",
    "Where $e_{Z}$ and $\\hat{\\omega} \\equiv (X_2'X_2)^{-1}X_2'Z$ come from the regresion: $$ Z = X_2\\hat{\\omega} + e_{Z}$$\n",
    "\n",
    "In a sense, the $M_2$ matrix cleanses or \"filters out\" our $Z$ variable, keeping only the part which is orthogonal to $X_2$.\n",
    "\n",
    "Returning to $\\hat{\\beta_1}$:\n",
    "\n",
    "\\begin{align*}\n",
    "  \\hat{\\beta_1} &= (X_1'M_2X_1)^{-1}X_1'M_2Y \\\\\n",
    "  &= (X_1'M_2X_1)^{-1}X_1'M_2(X_1\\beta_1 + \\epsilon) \\\\\n",
    "  &= \\beta_1 + (X_1'M_2X_1)^{-1}X_1'M_2\\epsilon \n",
    "\\end{align*}\n",
    "\n",
    "For the conditional variance of $\\hat{\\beta_1}$ this has great implications:\n",
    "\n",
    "\\begin{align*}\n",
    "  Var(\\hat{\\beta_1}|X) &= Var(\\beta_1 + (X_1'M_2X_1)^{-1}X_1'M_2\\epsilon|X) \\\\\n",
    "  &= Var((X_1'M_2X_1)^{-1}X_1'M_2\\epsilon|X) \\\\\n",
    "  &= E[((X_1'M_2X_1)^{-1}X_1'M_2\\epsilon)((X_1'M_2X_1)^{-1}X_1'M_2\\epsilon)'|X] \\\\\n",
    "  &= E[(X_1'M_2X_1)^{-1}X_1'M_2\\epsilon\\epsilon'M_2'X_1(X_1'M_2'X_1)^{-1}|X] \\\\\n",
    "  &= (X_1'M_2X_1)^{-1}X_1'M_2E[\\epsilon\\epsilon'|X]M_2'X_1(X_1'M_2'X_1)^{-1}\n",
    "\\end{align*}\n",
    "\n",
    "Under the traditional assumption that $E[\\epsilon\\epsilon'|X] = \\sigma^2I$:\n",
    "\n",
    "\\begin{align*}\n",
    " Var(\\hat{\\beta_1}|X) &= \\sigma^2(X_1'M_2X_1)^{-1}X_1'M_2M_2'X_1(X_1'M_2'X_1)^{-1} \\\\\n",
    "&= \\sigma^2(X_1'M_2'X_1)^{-1}\n",
    "\\end{align*}\n",
    "\n",
    "Remembering that the variance of $X_1$ can be decomposed into two positive components:\n",
    "\n",
    "\\begin{align*}\n",
    "  X_1 &= X_2\\alpha + v \\\\\n",
    "  Var(X_1) &= Var(X_2\\alpha) + Var(v) \\\\\n",
    "  Var(X_1) - Var(X_2\\alpha) &= Var(v) \\\\\n",
    "  E[X_1'X_1] - Var(X_2\\alpha) &= E[X_1'M_2'X_1]\n",
    "\\end{align*}\n",
    "\n",
    "Thus, necessarily: $$E[X_1'M_2X_1] \\leq E[X_1'X_1]$$ \n",
    "\n",
    "Altogether this means: $$\\sigma^2(X_1'X_1)^{-1} \\leq \\sigma^2(X_1'M_2'X_1)^{-1}$$\n",
    "\n",
    "This shows that controlling for the irrelevant variables $X_2$ will in fact increase the variance of $\\hat{\\beta_1}$ by limiting us to the \"usable\" variance of $X_1$ which is orthogonal to $X_2$. \n",
    "\n",
    "Suppose we want to estimate the impact of years of schooling on future salary. Imagine as well that we have a vast array of possible control variables at our disposal. Someone who is not familiar with the concept of multicollinearity might think that to avoid any possibility of ommited variable bias and ensure consistency it is best to control for everything we can. We now know this is not the case and that this approach can inadvertently introduce multicollinearity. \n",
    "\n",
    "Consider that we have as a possible control variable the total number of courses taken by each student. Intuitively, years of schooling are likely to correlate strongly with the number of total courses taken (more years in school tipically leads to more courses completed) and so controlling for this variable may result in the problem described above, inflating the variance of the estimated coefficients and potentially distorting our understanding of the true effect of schooling on salary. \n",
    "\n",
    "The same rationale applies to many other examples. For instance, imagine estimating the impact of marketing expenditure on sales. Controlling for variable such as number of marketing campaigns will probably cause the same issue."
   ]
  },
  {
   "cell_type": "markdown",
   "metadata": {},
   "source": [
    "### Perfectly collinear regressors"
   ]
  },
  {
   "cell_type": "markdown",
   "metadata": {},
   "source": [
    "A special case of the previously mentioned concept of multicollinearity arises when a variable is a linear combination of some other variables from our dataset, so not only are these variables highly correlated, but we say that they are perfectly collinear.\n",
    "\n",
    "Considering the partitioned regression model:\n",
    "\n",
    "\\begin{align*}\n",
    "    Y &= x_1\\beta_1 + X_2\\beta_2 + \\epsilon \\\\\n",
    "    x_1 &= X_2 \\alpha\n",
    "\\end{align*}\n",
    "\n",
    "where the second equation is deterministic.\n",
    "\n",
    "We know that the OLS estimator will solve this equation:\n",
    "\n",
    "\\begin{align*}\n",
    "(X'X)\\hat{\\beta} &=X'Y \\\\\n",
    "\n",
    "\\begin{bmatrix}\n",
    "  X_1'X_1      & X_1'X_2   \\\\\n",
    "  X_2'X_1      & X_2'X_2 \n",
    "\\end{bmatrix}\n",
    "\\begin{bmatrix}\n",
    "\\hat{\\beta_1} \\\\\n",
    "\\hat{\\beta_2}\n",
    "\\end{bmatrix}\n",
    "& =\n",
    "\\begin{bmatrix}\n",
    "X_1'Y \\\\\n",
    "X_2'Y\n",
    "\\end{bmatrix}\n",
    "\\end{align*}\n",
    "\n",
    "Substituting $X_1 = X_2 \\alpha$ on the $(X'X)$ matrix:\n",
    "\n",
    "\\begin{align*}\n",
    "(X'X) &=\n",
    "\\begin{bmatrix}\n",
    "  (X_2\\alpha)'X_2\\alpha      & (X_2\\alpha)'X_2   \\\\\n",
    "  X_2'(X_2\\alpha)      & X_2'X_2 \n",
    "\\end{bmatrix} \\\\\n",
    "\n",
    "&=\n",
    "\\begin{bmatrix}\n",
    "  \\alpha'X_2'X_2\\alpha      & \\alpha'X_2'X_2   \\\\\n",
    "  X_2'X_2\\alpha      & X_2'X_2 \n",
    "\\end{bmatrix}\n",
    "\\end{align*}\n",
    "\n",
    "This yields the determinant:\n",
    "\n",
    "\\begin{align*}\n",
    "\\det (X'X) &= \\det\\left(\n",
    "\\begin{bmatrix}\n",
    "  \\alpha'X_2'X_2\\alpha      & \\alpha'X_2'X_2   \\\\\n",
    "  X_2'X_2\\alpha      & X_2'X_2 \n",
    "\\end{bmatrix} \\right) \\\\\n",
    "\\end{align*}\n",
    "\n",
    "Transforming the matrix using row operations:\n",
    "\\begin{align*}\n",
    "\\det (X'X) &= \\det\\left(\n",
    "\\begin{bmatrix}\n",
    "  I      & -\\alpha'   \\\\\n",
    "  0      & I \n",
    "\\end{bmatrix}\n",
    "\\begin{bmatrix}\n",
    "  \\alpha'X_2'X_2\\alpha      & \\alpha'X_2'X_2   \\\\\n",
    "  X_2'X_2\\alpha      & X_2'X_2 \n",
    "\\end{bmatrix} \\right) \\\\\n",
    "&= \\det\\left(\n",
    "\\begin{bmatrix}\n",
    "  0      & 0   \\\\\n",
    "  X_2'X_2\\alpha      & X_2'X_2 \n",
    "\\end{bmatrix} \\right)\n",
    "\\end{align*}\n",
    "\n",
    "Like this, we can see that:\n",
    "\\begin{align*}\n",
    "\\det (X'X) &= 0\n",
    "\\end{align*}\n",
    "\n",
    "Because of this, $(X'X)$ is not invertible and there is no solution for the OLS estimation\n"
   ]
  },
  {
   "cell_type": "markdown",
   "metadata": {},
   "source": [
    "### Practical application\n",
    "\n",
    "We can easily show what we have theoretically explained with a practical application. We will create a dataset simulating the regressors that we may want to include in the estimation of a linear model.\n",
    "\n",
    "The first 9 variables follow a normal distribution."
   ]
  },
  {
   "cell_type": "code",
   "execution_count": 11,
   "metadata": {},
   "outputs": [
    {
     "data": {
      "text/plain": [
       "10×9 Matrix{Float64}:\n",
       " -0.231909   -0.269885  -1.07458   …  -0.57796     0.27262    0.849341\n",
       "  0.94039     0.578004  -1.38197      -1.78676     1.23521   -0.210716\n",
       "  0.596762    1.16034    0.951853     -1.36705     1.11072   -0.143171\n",
       "  1.99782     0.287888  -0.292291      0.660498    1.85158   -0.121578\n",
       " -0.0515618  -0.441193   0.328946      0.0371086  -0.131821   0.47354\n",
       "  1.17224     0.134576  -0.495999  …   0.877644   -0.406776  -0.0923911\n",
       " -1.69681     0.165543   0.22277       1.79296    -0.379297  -0.550621\n",
       " -2.11615    -1.0721    -1.66125      -1.35785    -0.499403  -0.474732\n",
       "  0.558366   -1.26016    1.92524      -1.48326    -0.635276   0.237598\n",
       " -0.86473     0.196408  -1.04847       0.475453    2.28402    0.100588"
      ]
     },
     "metadata": {},
     "output_type": "display_data"
    }
   ],
   "source": [
    "using LinearAlgebra\n",
    "using Random\n",
    "\n",
    "Random.seed!(0)\n",
    "matrix = randn(10, 9)"
   ]
  },
  {
   "cell_type": "markdown",
   "metadata": {},
   "source": [
    "However, the 10th variable is a linear combination (the sum) of variables 1, 5 and 9."
   ]
  },
  {
   "cell_type": "code",
   "execution_count": 12,
   "metadata": {},
   "outputs": [
    {
     "data": {
      "text/plain": [
       "10×10 Matrix{Float64}:\n",
       " -0.231909   -0.269885  -1.07458   …   0.27262    0.849341    0.100641\n",
       "  0.94039     0.578004  -1.38197       1.23521   -0.210716   -0.828557\n",
       "  0.596762    1.16034    0.951853      1.11072   -0.143171   -0.510355\n",
       "  1.99782     0.287888  -0.292291      1.85158   -0.121578    3.1357\n",
       " -0.0515618  -0.441193   0.328946     -0.131821   0.47354    -0.951298\n",
       "  1.17224     0.134576  -0.495999  …  -0.406776  -0.0923911   0.815082\n",
       " -1.69681     0.165543   0.22277      -0.379297  -0.550621   -1.00174\n",
       " -2.11615    -1.0721    -1.66125      -0.499403  -0.474732   -2.84605\n",
       "  0.558366   -1.26016    1.92524      -0.635276   0.237598    2.11939\n",
       " -0.86473     0.196408  -1.04847       2.28402    0.100588   -0.864591"
      ]
     },
     "metadata": {},
     "output_type": "display_data"
    }
   ],
   "source": [
    "coefficients = [1, 1, 1]\n",
    "selected_columns = [1, 5, 9]\n",
    "matrix = hcat(matrix, matrix[:, selected_columns] * coefficients)"
   ]
  },
  {
   "cell_type": "markdown",
   "metadata": {},
   "source": [
    "As we saw in theory, this should cause our dataset to have a determinant of zero. Thus, making X singular and yielding an error message when trying to invert it."
   ]
  },
  {
   "cell_type": "code",
   "execution_count": 14,
   "metadata": {},
   "outputs": [
    {
     "data": {
      "text/plain": [
       "-2.548968811760904e-14"
      ]
     },
     "metadata": {},
     "output_type": "display_data"
    }
   ],
   "source": [
    "det(matrix)"
   ]
  },
  {
   "cell_type": "code",
   "execution_count": 13,
   "metadata": {},
   "outputs": [
    {
     "data": {
      "text/plain": [
       "10×10 Matrix{Float64}:\n",
       "  4.21177e15   3.21803e15   2.84373e15  …   5.35458e15   2.48399e15\n",
       "  0.35937      0.106139     0.159937       -0.497513    -0.629165\n",
       " -1.9799      -1.79593     -0.971094       -2.79778     -1.85628\n",
       "  0.382724    -0.282216     0.588743        0.183997     0.0466157\n",
       "  4.21177e15   3.21803e15   2.84373e15      5.35458e15   2.48399e15\n",
       " -3.02412     -2.49823     -2.12259     …  -4.6385      -2.89822\n",
       " -1.40691     -1.3032      -0.896793       -2.0195      -0.996493\n",
       " -1.28789     -0.920547    -0.753483       -1.62345     -0.682825\n",
       "  4.21177e15   3.21803e15   2.84373e15      5.35458e15   2.48399e15\n",
       " -4.21177e15  -3.21803e15  -2.84373e15     -5.35458e15  -2.48399e15"
      ]
     },
     "metadata": {},
     "output_type": "display_data"
    }
   ],
   "source": [
    "inv_matrix = inv(matrix)"
   ]
  },
  {
   "cell_type": "markdown",
   "metadata": {},
   "source": [
    "We can see that this is not the case. Is this a contradiction to our theoretical proof? Julia, as well as Python, yield a determinant extremely close to cero but not equal to cero, so they are able to find a \"supposed\" inverse to the matrix. This would seem to contradict what we have proven in theory, however, this is a problem rooted in the way those languages handle float values. Thus, that is not a contradiction of theory but rather an illustration of how computational environments deal differently with the inherent limitations of floating-point arithmetic."
   ]
  },
  {
   "cell_type": "markdown",
   "metadata": {},
   "source": [
    "# Analyzing RCT data with Precision Adjustment"
   ]
  },
  {
   "cell_type": "code",
   "execution_count": null,
   "metadata": {},
   "outputs": [],
   "source": [
    "mat, head = readdlm(\"../../../data/penn_jae.dat\", header=true, Float64)\n",
    "mat\n",
    "df =DataFrame(mat, vec(head))"
   ]
  },
  {
   "cell_type": "code",
   "execution_count": null,
   "metadata": {},
   "outputs": [],
   "source": [
    "penn = filter(row -> row[:tg] in [2,0], df)"
   ]
  },
  {
   "cell_type": "code",
   "execution_count": null,
   "metadata": {},
   "outputs": [],
   "source": [
    "# Treatment group n°2\n",
    "replace!(penn.tg, 2 => 1)\n",
    "\n",
    "rename!(penn, \"tg\" => \"T2\")\n",
    "\n",
    "# from float to string\n",
    "penn[!,:dep] = string.(penn[!,:dep]) \n",
    "\n",
    "# dep varaible in categorical format \n",
    "penn[!,:dep] = categorical(penn[!,:dep])\n"
   ]
  },
  {
   "cell_type": "markdown",
   "metadata": {},
   "source": [
    "# Histogram"
   ]
  },
  {
   "cell_type": "code",
   "execution_count": null,
   "metadata": {},
   "outputs": [],
   "source": [
    "treat = filter(row -> row[:T2] in [1], penn)\n",
    "treat= select(treat, [:inuidur1])\n",
    "treatmat=Matrix(treat)\n",
    "\n",
    "notreat = filter(row -> row[:T2] in [0], penn)\n",
    "notreat= select(notreat, [:inuidur1])\n",
    "notreatmat=Matrix(notreat)\n"
   ]
  },
  {
   "cell_type": "markdown",
   "metadata": {},
   "source": [
    "Treated individuals"
   ]
  },
  {
   "cell_type": "code",
   "execution_count": null,
   "metadata": {},
   "outputs": [],
   "source": [
    "histogram(treatmat, bins=15, normalize=:pdf, color=:gray)\n",
    "xlims!(0,60)\n",
    "title!(\"Distribution of weeks unemployed for treated individuals\")\n",
    "xlabel!(\"Weeks unemployed\")\n",
    "ylabel!(\"P(x)\")"
   ]
  },
  {
   "cell_type": "markdown",
   "metadata": {},
   "source": [
    "Control individuals"
   ]
  },
  {
   "cell_type": "code",
   "execution_count": null,
   "metadata": {},
   "outputs": [],
   "source": [
    "\n",
    "histogram(notreatmat, bins=15, normalize=:pdf, color=:gray)\n",
    "xlims!(0,60)\n",
    "title!(\"Distribution of weeks unemployed for control individuals\")\n",
    "xlabel!(\"Weeks unemployed\")\n",
    "ylabel!(\"P(x)\")"
   ]
  },
  {
   "cell_type": "markdown",
   "metadata": {},
   "source": [
    "1 Classical 2-Sample Approach (CL)"
   ]
  },
  {
   "cell_type": "code",
   "execution_count": null,
   "metadata": {},
   "outputs": [],
   "source": [
    "alpha=0.05\n",
    "# Calculate the t-statistic and p-value\n",
    "p_value = pvalue(UnequalVarianceTTest(vec(treatmat), vec(notreatmat)))\n",
    "\n",
    "reject_H0 = p_value < alpha\n",
    "alpha, p_value, reject_H0\n"
   ]
  },
  {
   "cell_type": "code",
   "execution_count": null,
   "metadata": {},
   "outputs": [],
   "source": [
    "ols_cl = lm(@formula(log(inuidur1) ~ T2), penn)\n",
    "\n",
    "table1 = regtable( \"No adjustment model\" => ols_cl)  \n",
    "#coefic=coef(ols_cl)"
   ]
  },
  {
   "cell_type": "markdown",
   "metadata": {},
   "source": [
    "2 Classical Linear Regression Adjustment (CRA)"
   ]
  },
  {
   "cell_type": "code",
   "execution_count": null,
   "metadata": {},
   "outputs": [],
   "source": [
    "reg2 = @formula(log(inuidur1) ~ T2 + (female+black+othrace+dep+q2+q3+q4+q5+q6+agelt35+agegt54+durable+lusd+husd)^2)\n",
    "reg2 = apply_schema(reg2, schema(reg2, penn))\n",
    "\n",
    "ols_cra = lm(reg2, penn)\n",
    "table2 = regtable(\"CRA model\" => ols_cra)"
   ]
  },
  {
   "cell_type": "markdown",
   "metadata": {},
   "source": [
    "3 Interactive Regression Adjustment (IRA)"
   ]
  },
  {
   "cell_type": "code",
   "execution_count": null,
   "metadata": {},
   "outputs": [],
   "source": [
    "# demean function\n",
    "function desv_mean(a)\n",
    "    A = mean(a, dims = 1)\n",
    "    M = zeros(Float64, size(X,1), size(X,2))\n",
    "    \n",
    "    for i in 1:size(a,2)\n",
    "          M[:,i] = a[:,i] .- A[i]\n",
    "    end\n",
    "    return M\n",
    "end    \n",
    "reg1 = @formula(T2 ~ (female+black+othrace+dep+q2+q3+q4+q5+q6+agelt35+agegt54+durable+lusd+husd)^2)\n",
    "reg1 = apply_schema(reg1, schema(reg1, penn))\n",
    "# Matrix Model & demean\n",
    "X = StatsModels.modelmatrix(reg1.rhs,penn)\n",
    "X = desv_mean(X) # matrix format "
   ]
  },
  {
   "cell_type": "code",
   "execution_count": null,
   "metadata": {},
   "outputs": [],
   "source": [
    "Y = select(penn, [:inuidur1,:T2]) # select inuidur1 y T2\n",
    "\n",
    "X = DataFrame(hcat(X, Matrix(select(penn, [:T2])).*X))  # Joint X, (T2*X)\n",
    "\n",
    "base = hcat(Y, X) # Joint inuidur1, T2, X y (T2*X)\n",
    "\n",
    "base.inuidur1 = log.(base.inuidur1)  # log(inuidur1)\n",
    "\n",
    "terms = term.(names(base)) # term.() let us to get all variables as objects\n",
    "\n",
    "#interactive regression model\n",
    "\n",
    "ols_ira  = lm(terms[1] ~ sum(terms[2:end]), base)\n",
    "\n",
    "\n",
    "table3 = regtable(\"Interactive model\" => ols_ira)\n",
    "\n",
    "#terms[1] : select first variable. In this case, oucome of interest \n",
    "#sum(terms[2:end]) : independent variables as regresors in the linear regression   "
   ]
  },
  {
   "cell_type": "markdown",
   "metadata": {},
   "source": [
    "4 Interactive Regression Adjustment Using Lasso (IRA using Lasso)"
   ]
  },
  {
   "cell_type": "code",
   "execution_count": null,
   "metadata": {},
   "outputs": [],
   "source": [
    "\n",
    "X = StatsModels.modelmatrix(reg2.rhs,penn)\n",
    "X = desv_mean(X)\n",
    "D = DataFrame([X[:,1]])  # Treatment varaible\n",
    "\n",
    "\n",
    "\n",
    "rename!(D, Dict(:x1 => :T2)) #rename x1 -> T2\n",
    "\n",
    "X = DataFrame(hcat(X[:,2:end], X[:,1].*X[:,2:end]))  # Join Controls (X) + T2*X \"interactive\"\n",
    "\n",
    "Y = select(penn, [:inuidur1]) #select just inuidur1\n",
    "\n",
    "Y.inuidur1 = log.(Y.inuidur1)  # log(inuidur1)\n",
    "\n",
    "\n",
    "\n",
    "\n",
    "\n",
    "#terms = term.(names(base)) # all terms  \n",
    "#model = terms[1] ~ sum(terms[2:end])\n",
    "#lazso = fit(LassoModel,terms[1] ~ sum(terms[2:end]), base; standardize=false, α = 0.1)\n",
    "#coef(lasso)[2]\n",
    "#table3 = regtable(\"Lasso adjustment model\" => lasso)"
   ]
  },
  {
   "cell_type": "code",
   "execution_count": null,
   "metadata": {},
   "outputs": [],
   "source": [
    "D_reg_0  = rlasso_arg( X, D, nothing, true, true, true, false, false, \n",
    "                    nothing, 1.1, nothing, 5000, 15, 10^(-5), -Inf, true, Inf, true )\n",
    "D_resid = rlasso(D_reg_0)\n",
    "D_resid = rlasso(D_reg_0)[\"residuals\"]\n",
    "Y_reg_0  = rlasso_arg( X, Y, nothing, true, true, true, false, false, \n",
    "                    nothing, 1.1, nothing, 5000, 15, 10^(-5), -Inf, true, Inf, true )\n",
    "Y_resid = rlasso(Y_reg_0)[\"residuals\"]\n",
    "D_resid = reshape(D_resid, length(D_resid), 1)\n",
    "Lasso_ira = lm(D_resid, Y_resid)"
   ]
  },
  {
   "cell_type": "markdown",
   "metadata": {},
   "source": [
    "# Plot coefficients "
   ]
  },
  {
   "cell_type": "code",
   "execution_count": null,
   "metadata": {},
   "outputs": [],
   "source": [
    "#T2*female      1\n",
    "#T2*black       2\n",
    "#T2*agelt35     4\n",
    "#T2*factor(dep)1  11\n",
    "# 23 var:\n",
    "# Intercept, T2, 120INTERACTIONS ...,T2*female,T2*black, ... T2*INTERACTION\n",
    "# 1        ,  2,         ...     122,  123    ,   124  ,    ...          240\n",
    "#coef(ols_ira)[1]     "
   ]
  },
  {
   "cell_type": "markdown",
   "metadata": {},
   "source": [
    "95% confidence"
   ]
  },
  {
   "cell_type": "code",
   "execution_count": null,
   "metadata": {},
   "outputs": [],
   "source": [
    "\n",
    "\n",
    "# Extraer los coeficientes para sex y los errores estándar de las últimas dos regresiones\n",
    "coefs = Dict(\"T2*fem\" => coef(ols_ira)[122],\n",
    "             \"T2*black\" => coef(ols_ira)[123],\n",
    "             \"T2*agelt35\" => coef(ols_ira)[125],\n",
    "             \"T2*f(dep)1\" => coef(ols_ira)[132])  \n",
    "\n",
    "ses = Dict(\"T2*fem\" => stderror(ols_ira)[122],\n",
    "             \"T2*black\" => stderror(ols_ira)[123],\n",
    "             \"T2*agelt35\" => stderror(ols_ira)[125],\n",
    "             \"T2*f(dep)1\" => stderror(ols_ira)[132]) \n",
    "\n",
    "# Gráfico de dispersión con barras de error\n",
    "scatter_plot = scatter(coefs, yerr=1.96 .* collect(values(ses)), legend=false, \n",
    "    xlabel=\"Coefficient\", ylabel=\"Value\", title=\"Coefficients using IRA(95%)\",\n",
    "    markershape=:circle, markercolor=:blue, markerstrokecolor=:black,\n",
    "    markersize=8, markeralpha=0.8)\n",
    "\n",
    "# Línea horizontal en y=0\n",
    "hline!(scatter_plot, [0], color=\"gray\", linestyle=:dash)\n"
   ]
  },
  {
   "cell_type": "markdown",
   "metadata": {},
   "source": [
    "90% confidence"
   ]
  },
  {
   "cell_type": "code",
   "execution_count": null,
   "metadata": {},
   "outputs": [],
   "source": [
    "\n",
    "\n",
    "# Extraer los coeficientes para sex y los errores estándar de las últimas dos regresiones\n",
    "coefs = Dict(\"T2*fem\" => coef(ols_ira)[122],\n",
    "             \"T2*black\" => coef(ols_ira)[123],\n",
    "             \"T2*agelt35\" => coef(ols_ira)[125],\n",
    "             \"T2*f(dep)1\" => coef(ols_ira)[132])  \n",
    "\n",
    "ses = Dict(\"T2*fem\" => stderror(ols_ira)[122],\n",
    "             \"T2*black\" => stderror(ols_ira)[123],\n",
    "             \"T2*agelt35\" => stderror(ols_ira)[125],\n",
    "             \"T2*f(dep)1\" => stderror(ols_ira)[132]) \n",
    "\n",
    "# Gráfico de dispersión con barras de error\n",
    "scatter_plot = scatter(coefs, yerr=1.645 .* collect(values(ses)), legend=false, \n",
    "    xlabel=\"Coefficient\", ylabel=\"Value\", title=\"Coefficients using IRA(90%)\",\n",
    "    markershape=:circle, markercolor=:blue, markerstrokecolor=:black,\n",
    "    markersize=8, markeralpha=0.8)\n",
    "\n",
    "# Línea horizontal en y=0\n",
    "hline!(scatter_plot, [0], color=\"gray\", linestyle=:dash)\n"
   ]
  },
  {
   "cell_type": "markdown",
   "metadata": {},
   "source": [
    "No Significant Interaction Effects:\n",
    "\n",
    "Our analysis found no statistically significant interaction effects between the incentive program and other factors at the 90% or 95% confidence level. This suggests there's no evidence of heterogeneity (variation in effects) within subgroups defined by these factors.\n",
    "\n",
    "Marginally Positive Effect for Dependents = 1:\n",
    "\n",
    "However, there's a trend worth mentioning. Individuals with one dependent (e.g., one child) showed a marginally positive (but not statistically significant) effect. This could tentatively suggest they might be slightly more likely to remain unemployed when receiving the incentive.\n",
    "\n",
    "Similar Trend for Under 35:\n",
    "\n",
    "A similar trend was observed for individuals under 35.\n",
    "\n",
    "Negative Estimates for Women and Black People:\n",
    "\n",
    "Interestingly, women and Black people displayed negative point estimates. This means they might be more inclined to seek employment sooner upon receiving the incentive program's benefits.\n",
    "\n",
    "Key Points:\n",
    "\n",
    "No statistically significant interaction effects were found between the incentive program and other factors.\n",
    "Individuals with one dependent and those under 35 showed a slight (not significant) tendency to remain unemployed longer with the incentive.\n",
    "Women and Black people seemed more likely to seek employment sooner when offered the incentive."
   ]
  },
  {
   "cell_type": "markdown",
   "metadata": {},
   "source": [
    "## A crash course in good and bad controls"
   ]
  },
  {
   "cell_type": "markdown",
   "metadata": {},
   "source": [
    "In this section, we will explore different scenarios where we need to decide whether the inclusion of a control variable, denoted by _Z_, will help (or not) to improve the estimation of the **average treatment effect** (ATE) of treatment _X_ on outcome _Y_. The effect of observed variables will be represented by a continuous line, while that of unobserved variables will be represented by and discontinuous line."
   ]
  },
  {
   "cell_type": "code",
   "execution_count": 11,
   "metadata": {},
   "outputs": [
    {
     "name": "stderr",
     "output_type": "stream",
     "text": [
      "\u001b[32m\u001b[1m   Resolving\u001b[22m\u001b[39m package versions...\n",
      "\u001b[32m\u001b[1m  No Changes\u001b[22m\u001b[39m to `~/.julia/environments/v1.10/Project.toml`\n",
      "\u001b[32m\u001b[1m  No Changes\u001b[22m\u001b[39m to `~/.julia/environments/v1.10/Manifest.toml`\n",
      "\u001b[32m\u001b[1mPrecompiling\u001b[22m\u001b[39m project...\n",
      "\u001b[33m  ? \u001b[39mMLJ\n"
     ]
    }
   ],
   "source": [
    "# import Pkg; Pkg.add(\"GraphPlot\")\n",
    "# import Pkg; Pkg.add(\"Compose\")\n",
    "# import Pkg; Pkg.add(\"Cairo\")\n",
    "# import Pkg; Pkg.add(\"Fontconfig\")\n",
    "# import Pkg; Pkg.add(\"Colors\")\n",
    "# import Pkg; Pkg.add(\"Graphs\")\n",
    "# Pkg.add(\"CausalInference\")"
   ]
  },
  {
   "cell_type": "code",
   "execution_count": 1,
   "metadata": {},
   "outputs": [],
   "source": [
    "# Libraries\n",
    "using Graphs, GraphPlot\n",
    "using Compose, Cairo, Fontconfig\n",
    "using Colors\n",
    "using DataFrames, GLM\n",
    "\n",
    "import Random"
   ]
  },
  {
   "cell_type": "markdown",
   "metadata": {},
   "source": [
    "#### Good control (Blocking back-door paths)"
   ]
  },
  {
   "cell_type": "markdown",
   "metadata": {},
   "source": [
    "**Model 1** \n",
    "\n",
    "We will assume that _X_ measures whether or not the student attends the extra tutoring session, that affects the student's grade (_Y_). Then, we have another observable variable, as hours of the student sleep (_Z_), that impacts _X_ and _Y_. Theory says that when controlling by _Z_, we block the back-door path from _X_ to _Y_. Thus, we see that in the second regression, the coefficient of _X_ is closer to the real one (3.03339 ≈ 3)."
   ]
  },
  {
   "cell_type": "code",
   "execution_count": 5,
   "metadata": {},
   "outputs": [
    {
     "data": {
      "image/svg+xml": [
       "<?xml version=\"1.0\" encoding=\"UTF-8\" standalone=\"no\"?>\n",
       "<!DOCTYPE svg PUBLIC \"-//W3C//DTD SVG 1.1//EN\"\n",
       " \"http://www.w3.org/Graphics/SVG/1.1/DTD/svg11.dtd\">\n",
       "<!-- Generated by graphviz version 2.50.0 (0)\n",
       " -->\n",
       "<!-- Pages: 1 -->\n",
       "<svg width=\"89pt\" height=\"188pt\"\n",
       " viewBox=\"0.00 0.00 89.00 188.00\" xmlns=\"http://www.w3.org/2000/svg\" xmlns:xlink=\"http://www.w3.org/1999/xlink\">\n",
       "<g id=\"graph0\" class=\"graph\" transform=\"scale(1 1) rotate(0) translate(4 184)\">\n",
       "<polygon fill=\"white\" stroke=\"transparent\" points=\"-4,4 -4,-184 85,-184 85,4 -4,4\"/>\n",
       "<!-- Z -->\n",
       "<g id=\"node1\" class=\"node\">\n",
       "<title>Z</title>\n",
       "<ellipse fill=\"none\" stroke=\"black\" cx=\"54\" cy=\"-162\" rx=\"27\" ry=\"18\"/>\n",
       "<text text-anchor=\"middle\" x=\"54\" y=\"-158.3\" font-family=\"Times,serif\" font-size=\"14.00\">Z</text>\n",
       "</g>\n",
       "<!-- X -->\n",
       "<g id=\"node2\" class=\"node\">\n",
       "<title>X</title>\n",
       "<ellipse fill=\"none\" stroke=\"black\" cx=\"27\" cy=\"-90\" rx=\"27\" ry=\"18\"/>\n",
       "<text text-anchor=\"middle\" x=\"27\" y=\"-86.3\" font-family=\"Times,serif\" font-size=\"14.00\">X</text>\n",
       "</g>\n",
       "<!-- Z&#45;&gt;X -->\n",
       "<g id=\"edge1\" class=\"edge\">\n",
       "<title>Z&#45;&gt;X</title>\n",
       "<path fill=\"none\" stroke=\"black\" d=\"M47.6,-144.41C44.49,-136.34 40.67,-126.43 37.17,-117.35\"/>\n",
       "<polygon fill=\"black\" stroke=\"black\" points=\"40.4,-116.03 33.54,-107.96 33.87,-118.55 40.4,-116.03\"/>\n",
       "</g>\n",
       "<!-- Y -->\n",
       "<g id=\"node3\" class=\"node\">\n",
       "<title>Y</title>\n",
       "<ellipse fill=\"none\" stroke=\"black\" cx=\"54\" cy=\"-18\" rx=\"27\" ry=\"18\"/>\n",
       "<text text-anchor=\"middle\" x=\"54\" y=\"-14.3\" font-family=\"Times,serif\" font-size=\"14.00\">Y</text>\n",
       "</g>\n",
       "<!-- Z&#45;&gt;Y -->\n",
       "<g id=\"edge2\" class=\"edge\">\n",
       "<title>Z&#45;&gt;Y</title>\n",
       "<path fill=\"none\" stroke=\"black\" d=\"M57.65,-143.91C59.68,-133.57 61.98,-120.09 63,-108 64.34,-92.06 64.34,-87.94 63,-72 62.28,-63.5 60.93,-54.31 59.49,-46.01\"/>\n",
       "<polygon fill=\"black\" stroke=\"black\" points=\"62.91,-45.29 57.65,-36.09 56.03,-46.56 62.91,-45.29\"/>\n",
       "</g>\n",
       "<!-- X&#45;&gt;Y -->\n",
       "<g id=\"edge3\" class=\"edge\">\n",
       "<title>X&#45;&gt;Y</title>\n",
       "<path fill=\"none\" stroke=\"black\" d=\"M33.4,-72.41C36.51,-64.34 40.33,-54.43 43.83,-45.35\"/>\n",
       "<polygon fill=\"black\" stroke=\"black\" points=\"47.13,-46.55 47.46,-35.96 40.6,-44.03 47.13,-46.55\"/>\n",
       "</g>\n",
       "</g>\n",
       "</svg>\n"
      ],
      "text/plain": [
       "<graphviz.graphs.Digraph at 0x7f9511816a00>"
      ]
     },
     "execution_count": 5,
     "metadata": {},
     "output_type": "execute_result"
    }
   ],
   "source": [
    "# Define the graph with 3 nodes\n",
    "g = SimpleDiGraph(3)\n",
    "add_edge!(g, 1, 2)  # X -> Y\n",
    "add_edge!(g, 3, 1)  # Z -> X\n",
    "add_edge!(g, 3, 2)  # Z -> Y\n",
    "\n",
    "# Node labels for X, Y, Z\n",
    "nodelabel = [\"X\", \"Y\", \"Z\"]\n",
    "\n",
    "# Define node colors based on labels\n",
    "nodefillc_dict = Dict(\"X\" => colorant\"turquoise\",\n",
    "                      \"Y\" => colorant\"turquoise\",\n",
    "                      \"Z\" => colorant\"turquoise\")\n",
    "\n",
    "nodefillc = [nodefillc_dict[label] for label in nodelabel]\n",
    "\n",
    "# Create the graph plot\n",
    "g_plot = gplot(g,\n",
    "               nodefillc = nodefillc,\n",
    "               nodestrokec = \"black\",\n",
    "               nodestrokelw = 0,\n",
    "               nodelabel = nodelabel,\n",
    "               NODESIZE = 0.15,\n",
    "               NODELABELSIZE = 10,\n",
    "               edgestrokec = \"black\")\n",
    "\n",
    "# Save and display the plot\n",
    "draw(PNG(\"causal_discovery_1.png\", 13cm, 13cm), g_plot)\n",
    "g_plot"
   ]
  },
  {
   "cell_type": "code",
   "execution_count": 2,
   "metadata": {},
   "outputs": [
    {
     "data": {
      "text/html": [
       "<table class=\"data-frame\"><thead><tr><th></th><th>Z</th><th>X</th><th>Y</th></tr><tr><th></th><th>Float64</th><th>Float64</th><th>Float64</th></tr></thead><tbody><p>1,000 rows × 3 columns</p><tr><th>1</th><td>0.121698</td><td>-0.646629</td><td>-2.17627</td></tr><tr><th>2</th><td>-0.0329104</td><td>2.15083</td><td>5.12964</td></tr><tr><th>3</th><td>-1.86593</td><td>-8.56013</td><td>-28.4291</td></tr><tr><th>4</th><td>-0.402004</td><td>-3.37725</td><td>-10.4183</td></tr><tr><th>5</th><td>0.298821</td><td>2.03012</td><td>5.97373</td></tr><tr><th>6</th><td>1.88838</td><td>8.48632</td><td>29.592</td></tr><tr><th>7</th><td>-0.998066</td><td>-4.56851</td><td>-14.6436</td></tr><tr><th>8</th><td>-1.11586</td><td>-4.5261</td><td>-15.5884</td></tr><tr><th>9</th><td>-0.558549</td><td>-2.6828</td><td>-10.8751</td></tr><tr><th>10</th><td>0.376278</td><td>2.72978</td><td>8.67289</td></tr><tr><th>11</th><td>1.73838</td><td>7.59541</td><td>25.222</td></tr><tr><th>12</th><td>-0.222023</td><td>-1.21483</td><td>-3.54479</td></tr><tr><th>13</th><td>1.05565</td><td>5.00518</td><td>15.7835</td></tr><tr><th>14</th><td>-0.293296</td><td>-2.40651</td><td>-8.40434</td></tr><tr><th>15</th><td>-0.653213</td><td>-4.72798</td><td>-14.8385</td></tr><tr><th>16</th><td>-0.426636</td><td>-1.59728</td><td>-5.77415</td></tr><tr><th>17</th><td>-0.875714</td><td>-6.23685</td><td>-20.3148</td></tr><tr><th>18</th><td>-0.625727</td><td>-2.71617</td><td>-7.12168</td></tr><tr><th>19</th><td>-1.90824</td><td>-10.5502</td><td>-35.426</td></tr><tr><th>20</th><td>-0.753929</td><td>-1.1718</td><td>-5.8239</td></tr><tr><th>21</th><td>-1.46926</td><td>-5.98103</td><td>-21.324</td></tr><tr><th>22</th><td>1.36688</td><td>4.56468</td><td>15.0488</td></tr><tr><th>23</th><td>2.25611</td><td>11.473</td><td>37.9483</td></tr><tr><th>24</th><td>0.617481</td><td>2.54765</td><td>8.29642</td></tr><tr><th>25</th><td>0.39143</td><td>0.59849</td><td>1.8718</td></tr><tr><th>26</th><td>-2.14499</td><td>-11.1892</td><td>-37.0807</td></tr><tr><th>27</th><td>0.833313</td><td>4.25772</td><td>15.3056</td></tr><tr><th>28</th><td>-0.947989</td><td>-4.69399</td><td>-17.6018</td></tr><tr><th>29</th><td>-0.0380226</td><td>0.180093</td><td>-1.74691</td></tr><tr><th>30</th><td>0.581013</td><td>3.39011</td><td>12.4434</td></tr><tr><th>&vellip;</th><td>&vellip;</td><td>&vellip;</td><td>&vellip;</td></tr></tbody></table>"
      ],
      "text/latex": [
       "\\begin{tabular}{r|ccc}\n",
       "\t& Z & X & Y\\\\\n",
       "\t\\hline\n",
       "\t& Float64 & Float64 & Float64\\\\\n",
       "\t\\hline\n",
       "\t1 & 0.121698 & -0.646629 & -2.17627 \\\\\n",
       "\t2 & -0.0329104 & 2.15083 & 5.12964 \\\\\n",
       "\t3 & -1.86593 & -8.56013 & -28.4291 \\\\\n",
       "\t4 & -0.402004 & -3.37725 & -10.4183 \\\\\n",
       "\t5 & 0.298821 & 2.03012 & 5.97373 \\\\\n",
       "\t6 & 1.88838 & 8.48632 & 29.592 \\\\\n",
       "\t7 & -0.998066 & -4.56851 & -14.6436 \\\\\n",
       "\t8 & -1.11586 & -4.5261 & -15.5884 \\\\\n",
       "\t9 & -0.558549 & -2.6828 & -10.8751 \\\\\n",
       "\t10 & 0.376278 & 2.72978 & 8.67289 \\\\\n",
       "\t11 & 1.73838 & 7.59541 & 25.222 \\\\\n",
       "\t12 & -0.222023 & -1.21483 & -3.54479 \\\\\n",
       "\t13 & 1.05565 & 5.00518 & 15.7835 \\\\\n",
       "\t14 & -0.293296 & -2.40651 & -8.40434 \\\\\n",
       "\t15 & -0.653213 & -4.72798 & -14.8385 \\\\\n",
       "\t16 & -0.426636 & -1.59728 & -5.77415 \\\\\n",
       "\t17 & -0.875714 & -6.23685 & -20.3148 \\\\\n",
       "\t18 & -0.625727 & -2.71617 & -7.12168 \\\\\n",
       "\t19 & -1.90824 & -10.5502 & -35.426 \\\\\n",
       "\t20 & -0.753929 & -1.1718 & -5.8239 \\\\\n",
       "\t21 & -1.46926 & -5.98103 & -21.324 \\\\\n",
       "\t22 & 1.36688 & 4.56468 & 15.0488 \\\\\n",
       "\t23 & 2.25611 & 11.473 & 37.9483 \\\\\n",
       "\t24 & 0.617481 & 2.54765 & 8.29642 \\\\\n",
       "\t25 & 0.39143 & 0.59849 & 1.8718 \\\\\n",
       "\t26 & -2.14499 & -11.1892 & -37.0807 \\\\\n",
       "\t27 & 0.833313 & 4.25772 & 15.3056 \\\\\n",
       "\t28 & -0.947989 & -4.69399 & -17.6018 \\\\\n",
       "\t29 & -0.0380226 & 0.180093 & -1.74691 \\\\\n",
       "\t30 & 0.581013 & 3.39011 & 12.4434 \\\\\n",
       "\t$\\dots$ & $\\dots$ & $\\dots$ & $\\dots$ \\\\\n",
       "\\end{tabular}\n"
      ],
      "text/plain": [
       "1000×3 typename(DataFrame)\n",
       "│ Row  │ Z          │ X         │ Y        │\n",
       "│      │ \u001b[90mFloat64\u001b[39m    │ \u001b[90mFloat64\u001b[39m   │ \u001b[90mFloat64\u001b[39m  │\n",
       "├──────┼────────────┼───────────┼──────────┤\n",
       "│ 1    │ 0.121698   │ -0.646629 │ -2.17627 │\n",
       "│ 2    │ -0.0329104 │ 2.15083   │ 5.12964  │\n",
       "│ 3    │ -1.86593   │ -8.56013  │ -28.4291 │\n",
       "│ 4    │ -0.402004  │ -3.37725  │ -10.4183 │\n",
       "│ 5    │ 0.298821   │ 2.03012   │ 5.97373  │\n",
       "│ 6    │ 1.88838    │ 8.48632   │ 29.592   │\n",
       "│ 7    │ -0.998066  │ -4.56851  │ -14.6436 │\n",
       "│ 8    │ -1.11586   │ -4.5261   │ -15.5884 │\n",
       "│ 9    │ -0.558549  │ -2.6828   │ -10.8751 │\n",
       "│ 10   │ 0.376278   │ 2.72978   │ 8.67289  │\n",
       "⋮\n",
       "│ 990  │ 0.511736   │ 2.19837   │ 8.51534  │\n",
       "│ 991  │ -0.414298  │ -2.65654  │ -9.153   │\n",
       "│ 992  │ 0.409026   │ 0.929877  │ 3.43171  │\n",
       "│ 993  │ -3.28082   │ -17.1779  │ -55.4052 │\n",
       "│ 994  │ 1.40124    │ 7.17753   │ 24.558   │\n",
       "│ 995  │ 0.834262   │ 5.43227   │ 16.441   │\n",
       "│ 996  │ -0.695846  │ -4.21887  │ -14.8065 │\n",
       "│ 997  │ -0.532479  │ -2.4846   │ -8.55517 │\n",
       "│ 998  │ 1.81796    │ 9.48347   │ 29.8232  │\n",
       "│ 999  │ 1.12942    │ 5.75758   │ 18.6553  │\n",
       "│ 1000 │ -0.614838  │ -2.64345  │ -9.5324  │"
      ]
     },
     "execution_count": 2,
     "metadata": {},
     "output_type": "execute_result"
    }
   ],
   "source": [
    "# Set seed\n",
    "Random.seed!(24)\n",
    "\n",
    "# Generate data\n",
    "n = 1000\n",
    "Z = rand(Normal(0, 1), n)\n",
    "X = 5 * Z + rand(Normal(0, 1), n)\n",
    "Y = 3 * X + 1.5 * Z + rand(Normal(0, 1), n)\n",
    "\n",
    "# Create dataframe\n",
    "df = DataFrame(Z = Z, X = X, Y = Y)"
   ]
  },
  {
   "cell_type": "code",
   "execution_count": 3,
   "metadata": {},
   "outputs": [
    {
     "data": {
      "text/plain": [
       "StatsModels.TableRegressionModel{LinearModel{GLM.LmResp{Vector{Float64}}, GLM.DensePredChol{Float64, LinearAlgebra.CholeskyPivoted{Float64, Matrix{Float64}, Vector{Int64}}}}, Matrix{Float64}}\n",
       "\n",
       "Y ~ 1 + X\n",
       "\n",
       "Coefficients:\n",
       "──────────────────────────────────────────────────────────────────────────\n",
       "                Coef.  Std. Error       t  Pr(>|t|)   Lower 95%  Upper 95%\n",
       "──────────────────────────────────────────────────────────────────────────\n",
       "(Intercept)  0.021246  0.032701      0.65    0.5160  -0.0429246  0.0854166\n",
       "X            3.29515   0.00623332  528.63    <1e-99   3.28291    3.30738\n",
       "──────────────────────────────────────────────────────────────────────────"
      ]
     },
     "execution_count": 3,
     "metadata": {},
     "output_type": "execute_result"
    }
   ],
   "source": [
    "# Wrong regression, not controlling by the confounder Z\n",
    "lm(@formula(Y ~ X), df)"
   ]
  },
  {
   "cell_type": "code",
   "execution_count": 4,
   "metadata": {},
   "outputs": [
    {
     "data": {
      "text/plain": [
       "StatsModels.TableRegressionModel{LinearModel{GLM.LmResp{Vector{Float64}}, GLM.DensePredChol{Float64, LinearAlgebra.CholeskyPivoted{Float64, Matrix{Float64}, Vector{Int64}}}}, Matrix{Float64}}\n",
       "\n",
       "Y ~ 1 + X + Z\n",
       "\n",
       "Coefficients:\n",
       "──────────────────────────────────────────────────────────────────────────\n",
       "                 Coef.  Std. Error      t  Pr(>|t|)   Lower 95%  Upper 95%\n",
       "──────────────────────────────────────────────────────────────────────────\n",
       "(Intercept)  0.0102651   0.0315753   0.33    0.7452  -0.0516965  0.0722268\n",
       "X            3.03339     0.0307871  98.53    <1e-99   2.97297    3.0938\n",
       "Z            1.35458     0.156251    8.67    <1e-16   1.04796    1.6612\n",
       "──────────────────────────────────────────────────────────────────────────"
      ]
     },
     "execution_count": 4,
     "metadata": {},
     "output_type": "execute_result"
    }
   ],
   "source": [
    "# Correct regression\n",
    "lm(@formula(Y ~ X + Z), df)"
   ]
  },
  {
   "cell_type": "markdown",
   "metadata": {},
   "source": [
    "**Model 2** \n",
    "\n",
    "We will assume that _X_ stands for the police salaries that affect the crime rate (_Y_). Then, we have another observable variable, as the policemen's supply (_Z_), that impacts _X_ but not _Y_. And, additionally, we know that there is an unobservable variable (_U_), as the preference for maintaining civil order, that affects _Z_ and _Y_. The theory says that when controlling by _Z_, we block (some) of the unobservable variable’s back-door path from _X_ to _Y_. Thus, we see that in the second regression, the coefficient of _X_ is equal to the real one (0.5)."
   ]
  },
  {
   "cell_type": "code",
   "execution_count": 8,
   "metadata": {},
   "outputs": [
    {
     "data": {
      "image/svg+xml": [
       "<?xml version=\"1.0\" encoding=\"UTF-8\" standalone=\"no\"?>\n",
       "<!DOCTYPE svg PUBLIC \"-//W3C//DTD SVG 1.1//EN\"\n",
       " \"http://www.w3.org/Graphics/SVG/1.1/DTD/svg11.dtd\">\n",
       "<!-- Generated by graphviz version 2.50.0 (0)\n",
       " -->\n",
       "<!-- Pages: 1 -->\n",
       "<svg width=\"89pt\" height=\"228pt\"\n",
       " viewBox=\"0.00 0.00 89.00 227.60\" xmlns=\"http://www.w3.org/2000/svg\" xmlns:xlink=\"http://www.w3.org/1999/xlink\">\n",
       "<g id=\"graph0\" class=\"graph\" transform=\"scale(1 1) rotate(0) translate(4 223.6)\">\n",
       "<polygon fill=\"white\" stroke=\"transparent\" points=\"-4,4 -4,-223.6 85,-223.6 85,4 -4,4\"/>\n",
       "<!-- Z -->\n",
       "<g id=\"node1\" class=\"node\">\n",
       "<title>Z</title>\n",
       "<ellipse fill=\"none\" stroke=\"black\" cx=\"27\" cy=\"-162\" rx=\"27\" ry=\"18\"/>\n",
       "<text text-anchor=\"middle\" x=\"27\" y=\"-158.3\" font-family=\"Times,serif\" font-size=\"14.00\">Z</text>\n",
       "</g>\n",
       "<!-- X -->\n",
       "<g id=\"node2\" class=\"node\">\n",
       "<title>X</title>\n",
       "<ellipse fill=\"none\" stroke=\"black\" cx=\"27\" cy=\"-90\" rx=\"27\" ry=\"18\"/>\n",
       "<text text-anchor=\"middle\" x=\"27\" y=\"-86.3\" font-family=\"Times,serif\" font-size=\"14.00\">X</text>\n",
       "</g>\n",
       "<!-- Z&#45;&gt;X -->\n",
       "<g id=\"edge1\" class=\"edge\">\n",
       "<title>Z&#45;&gt;X</title>\n",
       "<path fill=\"none\" stroke=\"black\" d=\"M27,-143.7C27,-135.98 27,-126.71 27,-118.11\"/>\n",
       "<polygon fill=\"black\" stroke=\"black\" points=\"30.5,-118.1 27,-108.1 23.5,-118.1 30.5,-118.1\"/>\n",
       "</g>\n",
       "<!-- Y -->\n",
       "<g id=\"node3\" class=\"node\">\n",
       "<title>Y</title>\n",
       "<ellipse fill=\"none\" stroke=\"black\" cx=\"54\" cy=\"-18\" rx=\"27\" ry=\"18\"/>\n",
       "<text text-anchor=\"middle\" x=\"54\" y=\"-14.3\" font-family=\"Times,serif\" font-size=\"14.00\">Y</text>\n",
       "</g>\n",
       "<!-- X&#45;&gt;Y -->\n",
       "<g id=\"edge2\" class=\"edge\">\n",
       "<title>X&#45;&gt;Y</title>\n",
       "<path fill=\"none\" stroke=\"black\" d=\"M33.4,-72.41C36.51,-64.34 40.33,-54.43 43.83,-45.35\"/>\n",
       "<polygon fill=\"black\" stroke=\"black\" points=\"47.13,-46.55 47.46,-35.96 40.6,-44.03 47.13,-46.55\"/>\n",
       "</g>\n",
       "<!-- Unobserved_0 -->\n",
       "<g id=\"node4\" class=\"node\">\n",
       "<title>Unobserved_0</title>\n",
       "<ellipse fill=\"black\" stroke=\"black\" cx=\"54\" cy=\"-217.8\" rx=\"1.8\" ry=\"1.8\"/>\n",
       "</g>\n",
       "<!-- Unobserved_0&#45;&gt;Z -->\n",
       "<g id=\"edge3\" class=\"edge\">\n",
       "<title>Unobserved_0&#45;&gt;Z</title>\n",
       "<path fill=\"none\" stroke=\"black\" stroke-dasharray=\"5,2\" d=\"M53.53,-215.87C51.82,-212.45 45.69,-200.23 39.75,-188.4\"/>\n",
       "<polygon fill=\"black\" stroke=\"black\" points=\"42.73,-186.54 35.12,-179.17 36.47,-189.68 42.73,-186.54\"/>\n",
       "</g>\n",
       "<!-- Unobserved_0&#45;&gt;Y -->\n",
       "<g id=\"edge4\" class=\"edge\">\n",
       "<title>Unobserved_0&#45;&gt;Y</title>\n",
       "<path fill=\"none\" stroke=\"black\" stroke-dasharray=\"5,2\" d=\"M54.3,-215.9C55.67,-211.83 61.24,-194.63 63,-180 68.74,-132.34 67.03,-119.83 63,-72 62.28,-63.5 60.93,-54.31 59.49,-46.01\"/>\n",
       "<polygon fill=\"black\" stroke=\"black\" points=\"62.91,-45.29 57.65,-36.09 56.03,-46.56 62.91,-45.29\"/>\n",
       "</g>\n",
       "</g>\n",
       "</svg>\n"
      ],
      "text/plain": [
       "<graphviz.graphs.Digraph at 0x7f9511816790>"
      ]
     },
     "execution_count": 8,
     "metadata": {},
     "output_type": "execute_result"
    }
   ],
   "source": [
    "# Define the graph with 4 nodes: U, Z, X, Y\n",
    "g = SimpleDiGraph(4)\n",
    "add_edge!(g, 1, 4)  # U -> Y\n",
    "add_edge!(g, 1, 2)  # U -> Z\n",
    "add_edge!(g, 2, 3)  # Z -> X\n",
    "add_edge!(g, 3, 4)  # X -> Y\n",
    "\n",
    "# Node labels for U, Z, X, Y\n",
    "nodelabel = [\"U\", \"Z\", \"X\", \"Y\"]\n",
    "\n",
    "# Define node colors based on labels\n",
    "nodefillc_dict = Dict(\"U\" => colorant\"lightgrey\",\n",
    "                      \"Z\" => colorant\"turquoise\",\n",
    "                      \"X\" => colorant\"turquoise\",\n",
    "                      \"Y\" => colorant\"turquoise\")\n",
    "\n",
    "nodefillc = [nodefillc_dict[label] for label in nodelabel]\n",
    "\n",
    "# Create the graph plot\n",
    "g_plot = gplot(g,\n",
    "               nodefillc = nodefillc,\n",
    "               nodestrokec = \"black\",\n",
    "               nodestrokelw = 0,\n",
    "               nodelabel = nodelabel,\n",
    "               NODESIZE = 0.15,\n",
    "               NODELABELSIZE = 10,\n",
    "               edgestrokec = \"black\")\n",
    "\n",
    "# Save and display the plot\n",
    "draw(PNG(\"causal_graph.png\", 13cm, 13cm), g_plot)\n",
    "g_plot"
   ]
  },
  {
   "cell_type": "code",
   "execution_count": 26,
   "metadata": {},
   "outputs": [
    {
     "data": {
      "text/html": [
       "<table class=\"data-frame\"><thead><tr><th></th><th>Z</th><th>X</th><th>Y</th><th>U</th></tr><tr><th></th><th>Float64</th><th>Float64</th><th>Float64</th><th>Float64</th></tr></thead><tbody><p>1,000 rows × 4 columns</p><tr><th>1</th><td>-0.403233</td><td>-1.2254</td><td>-2.2511</td><td>0.121698</td></tr><tr><th>2</th><td>2.08501</td><td>2.89654</td><td>1.13287</td><td>-0.0329104</td></tr><tr><th>3</th><td>-12.292</td><td>-24.5338</td><td>-12.1042</td><td>-1.86593</td></tr><tr><th>4</th><td>-4.18126</td><td>-8.04607</td><td>-4.90671</td><td>-0.402004</td></tr><tr><th>5</th><td>2.62777</td><td>4.69066</td><td>2.44994</td><td>0.298821</td></tr><tr><th>6</th><td>12.2631</td><td>25.8266</td><td>13.0174</td><td>1.88838</td></tr><tr><th>7</th><td>-6.56464</td><td>-12.5702</td><td>-6.84891</td><td>-0.998066</td></tr><tr><th>8</th><td>-6.75783</td><td>-13.8519</td><td>-7.02647</td><td>-1.11586</td></tr><tr><th>9</th><td>-3.7999</td><td>-9.58863</td><td>-4.76023</td><td>-0.558549</td></tr><tr><th>10</th><td>3.48233</td><td>6.8838</td><td>4.36792</td><td>0.376278</td></tr><tr><th>11</th><td>11.0722</td><td>21.9725</td><td>10.9841</td><td>1.73838</td></tr><tr><th>12</th><td>-1.65888</td><td>-2.88502</td><td>-1.31234</td><td>-0.222023</td></tr><tr><th>13</th><td>7.11649</td><td>13.4175</td><td>7.98643</td><td>1.05565</td></tr><tr><th>14</th><td>-2.9931</td><td>-6.73107</td><td>-3.86902</td><td>-0.293296</td></tr><tr><th>15</th><td>-6.03441</td><td>-11.7435</td><td>-5.76025</td><td>-0.653213</td></tr><tr><th>16</th><td>-2.45055</td><td>-5.24346</td><td>-2.72531</td><td>-0.426636</td></tr><tr><th>17</th><td>-7.98828</td><td>-16.2672</td><td>-8.1003</td><td>-0.875714</td></tr><tr><th>18</th><td>-3.96763</td><td>-5.96982</td><td>-2.35263</td><td>-0.625727</td></tr><tr><th>19</th><td>-14.3667</td><td>-29.6464</td><td>-15.1005</td><td>-1.90824</td></tr><tr><th>20</th><td>-2.67965</td><td>-6.53693</td><td>-4.24367</td><td>-0.753929</td></tr><tr><th>21</th><td>-8.91955</td><td>-19.0161</td><td>-8.64774</td><td>-1.46926</td></tr><tr><th>22</th><td>7.29844</td><td>13.9013</td><td>6.88151</td><td>1.36688</td></tr><tr><th>23</th><td>15.9852</td><td>32.1156</td><td>16.2189</td><td>2.25611</td></tr><tr><th>24</th><td>3.78261</td><td>7.29248</td><td>2.91277</td><td>0.617481</td></tr><tr><th>25</th><td>1.38135</td><td>2.25189</td><td>1.29255</td><td>0.39143</td></tr><tr><th>26</th><td>-15.4791</td><td>-31.254</td><td>-16.412</td><td>-2.14499</td></tr><tr><th>27</th><td>5.92434</td><td>13.1312</td><td>8.51129</td><td>0.833313</td></tr><tr><th>28</th><td>-6.58996</td><td>-15.2778</td><td>-6.27984</td><td>-0.947989</td></tr><tr><th>29</th><td>0.104048</td><td>-2.02206</td><td>-0.578553</td><td>-0.0380226</td></tr><tr><th>30</th><td>4.55213</td><td>10.5058</td><td>3.95193</td><td>0.581013</td></tr><tr><th>&vellip;</th><td>&vellip;</td><td>&vellip;</td><td>&vellip;</td><td>&vellip;</td></tr></tbody></table>"
      ],
      "text/latex": [
       "\\begin{tabular}{r|cccc}\n",
       "\t& Z & X & Y & U\\\\\n",
       "\t\\hline\n",
       "\t& Float64 & Float64 & Float64 & Float64\\\\\n",
       "\t\\hline\n",
       "\t1 & -0.403233 & -1.2254 & -2.2511 & 0.121698 \\\\\n",
       "\t2 & 2.08501 & 2.89654 & 1.13287 & -0.0329104 \\\\\n",
       "\t3 & -12.292 & -24.5338 & -12.1042 & -1.86593 \\\\\n",
       "\t4 & -4.18126 & -8.04607 & -4.90671 & -0.402004 \\\\\n",
       "\t5 & 2.62777 & 4.69066 & 2.44994 & 0.298821 \\\\\n",
       "\t6 & 12.2631 & 25.8266 & 13.0174 & 1.88838 \\\\\n",
       "\t7 & -6.56464 & -12.5702 & -6.84891 & -0.998066 \\\\\n",
       "\t8 & -6.75783 & -13.8519 & -7.02647 & -1.11586 \\\\\n",
       "\t9 & -3.7999 & -9.58863 & -4.76023 & -0.558549 \\\\\n",
       "\t10 & 3.48233 & 6.8838 & 4.36792 & 0.376278 \\\\\n",
       "\t11 & 11.0722 & 21.9725 & 10.9841 & 1.73838 \\\\\n",
       "\t12 & -1.65888 & -2.88502 & -1.31234 & -0.222023 \\\\\n",
       "\t13 & 7.11649 & 13.4175 & 7.98643 & 1.05565 \\\\\n",
       "\t14 & -2.9931 & -6.73107 & -3.86902 & -0.293296 \\\\\n",
       "\t15 & -6.03441 & -11.7435 & -5.76025 & -0.653213 \\\\\n",
       "\t16 & -2.45055 & -5.24346 & -2.72531 & -0.426636 \\\\\n",
       "\t17 & -7.98828 & -16.2672 & -8.1003 & -0.875714 \\\\\n",
       "\t18 & -3.96763 & -5.96982 & -2.35263 & -0.625727 \\\\\n",
       "\t19 & -14.3667 & -29.6464 & -15.1005 & -1.90824 \\\\\n",
       "\t20 & -2.67965 & -6.53693 & -4.24367 & -0.753929 \\\\\n",
       "\t21 & -8.91955 & -19.0161 & -8.64774 & -1.46926 \\\\\n",
       "\t22 & 7.29844 & 13.9013 & 6.88151 & 1.36688 \\\\\n",
       "\t23 & 15.9852 & 32.1156 & 16.2189 & 2.25611 \\\\\n",
       "\t24 & 3.78261 & 7.29248 & 2.91277 & 0.617481 \\\\\n",
       "\t25 & 1.38135 & 2.25189 & 1.29255 & 0.39143 \\\\\n",
       "\t26 & -15.4791 & -31.254 & -16.412 & -2.14499 \\\\\n",
       "\t27 & 5.92434 & 13.1312 & 8.51129 & 0.833313 \\\\\n",
       "\t28 & -6.58996 & -15.2778 & -6.27984 & -0.947989 \\\\\n",
       "\t29 & 0.104048 & -2.02206 & -0.578553 & -0.0380226 \\\\\n",
       "\t30 & 4.55213 & 10.5058 & 3.95193 & 0.581013 \\\\\n",
       "\t$\\dots$ & $\\dots$ & $\\dots$ & $\\dots$ & $\\dots$ \\\\\n",
       "\\end{tabular}\n"
      ],
      "text/plain": [
       "1000×4 typename(DataFrame)\n",
       "│ Row  │ Z         │ X        │ Y        │ U          │\n",
       "│      │ \u001b[90mFloat64\u001b[39m   │ \u001b[90mFloat64\u001b[39m  │ \u001b[90mFloat64\u001b[39m  │ \u001b[90mFloat64\u001b[39m    │\n",
       "├──────┼───────────┼──────────┼──────────┼────────────┤\n",
       "│ 1    │ -0.403233 │ -1.2254  │ -2.2511  │ 0.121698   │\n",
       "│ 2    │ 2.08501   │ 2.89654  │ 1.13287  │ -0.0329104 │\n",
       "│ 3    │ -12.292   │ -24.5338 │ -12.1042 │ -1.86593   │\n",
       "│ 4    │ -4.18126  │ -8.04607 │ -4.90671 │ -0.402004  │\n",
       "│ 5    │ 2.62777   │ 4.69066  │ 2.44994  │ 0.298821   │\n",
       "│ 6    │ 12.2631   │ 25.8266  │ 13.0174  │ 1.88838    │\n",
       "│ 7    │ -6.56464  │ -12.5702 │ -6.84891 │ -0.998066  │\n",
       "│ 8    │ -6.75783  │ -13.8519 │ -7.02647 │ -1.11586   │\n",
       "│ 9    │ -3.7999   │ -9.58863 │ -4.76023 │ -0.558549  │\n",
       "│ 10   │ 3.48233   │ 6.8838   │ 4.36792  │ 0.376278   │\n",
       "⋮\n",
       "│ 990  │ 3.22185   │ 7.59631  │ 3.28416  │ 0.511736   │\n",
       "│ 991  │ -3.48514  │ -7.5322  │ -5.22515 │ -0.414298  │\n",
       "│ 992  │ 1.74793   │ 3.5244   │ 2.8417   │ 0.409026   │\n",
       "│ 993  │ -23.7396  │ -46.4293 │ -24.8613 │ -3.28082   │\n",
       "│ 994  │ 9.98001   │ 20.8836  │ 11.6736  │ 1.40124    │\n",
       "│ 995  │ 7.10079   │ 13.0944  │ 8.14068  │ 0.834262   │\n",
       "│ 996  │ -5.61056  │ -12.3273 │ -4.71156 │ -0.695846  │\n",
       "│ 997  │ -3.54955  │ -7.40177 │ -3.90656 │ -0.532479  │\n",
       "│ 998  │ 13.1194   │ 24.8846  │ 11.9085  │ 1.81796    │\n",
       "│ 999  │ 8.01642   │ 15.7212  │ 7.67928  │ 1.12942    │\n",
       "│ 1000 │ -3.87312  │ -8.42605 │ -2.9775  │ -0.614838  │"
      ]
     },
     "execution_count": 26,
     "metadata": {},
     "output_type": "execute_result"
    }
   ],
   "source": [
    "# Set seed\n",
    "Random.seed!(24)\n",
    "\n",
    "# Generate data\n",
    "n = 1000\n",
    "U = rand(Normal(0, 1), n)\n",
    "Z = 7 * U + rand(Normal(0, 1), n)\n",
    "X = 2 * Z + rand(Normal(0, 1), n)\n",
    "Y = 0.5 * X + 0.2 * U + rand(Normal(0, 1), n)\n",
    "\n",
    "# Create dataframe\n",
    "df = DataFrame(Z = Z, X = X, Y = Y, U = U)"
   ]
  },
  {
   "cell_type": "code",
   "execution_count": 27,
   "metadata": {},
   "outputs": [
    {
     "data": {
      "text/plain": [
       "StatsModels.TableRegressionModel{LinearModel{GLM.LmResp{Vector{Float64}}, GLM.DensePredChol{Float64, LinearAlgebra.CholeskyPivoted{Float64, Matrix{Float64}, Vector{Int64}}}}, Matrix{Float64}}\n",
       "\n",
       "Y ~ 1 + X\n",
       "\n",
       "Coefficients:\n",
       "────────────────────────────────────────────────────────────────────────────\n",
       "                  Coef.  Std. Error       t  Pr(>|t|)   Lower 95%  Upper 95%\n",
       "────────────────────────────────────────────────────────────────────────────\n",
       "(Intercept)  -0.0337287  0.0307735    -1.10    0.2733  -0.0941169  0.0266596\n",
       "X             0.514806   0.00210354  244.73    <1e-99   0.510678   0.518934\n",
       "────────────────────────────────────────────────────────────────────────────"
      ]
     },
     "execution_count": 27,
     "metadata": {},
     "output_type": "execute_result"
    }
   ],
   "source": [
    "# Wrong regression, not controlling by the confounder Z\n",
    "lm(@formula(Y ~ X), df)"
   ]
  },
  {
   "cell_type": "code",
   "execution_count": 28,
   "metadata": {},
   "outputs": [
    {
     "data": {
      "text/plain": [
       "StatsModels.TableRegressionModel{LinearModel{GLM.LmResp{Vector{Float64}}, GLM.DensePredChol{Float64, LinearAlgebra.CholeskyPivoted{Float64, Matrix{Float64}, Vector{Int64}}}}, Matrix{Float64}}\n",
       "\n",
       "Y ~ 1 + X + Z\n",
       "\n",
       "Coefficients:\n",
       "──────────────────────────────────────────────────────────────────────────\n",
       "                  Coef.  Std. Error      t  Pr(>|t|)  Lower 95%  Upper 95%\n",
       "──────────────────────────────────────────────────────────────────────────\n",
       "(Intercept)  -0.0327959   0.0306374  -1.07    0.2847  -0.092917  0.0273253\n",
       "X             0.417904    0.0307391  13.60    <1e-38   0.357583  0.478225\n",
       "Z             0.195056    0.0617315   3.16    0.0016   0.073917  0.316194\n",
       "──────────────────────────────────────────────────────────────────────────"
      ]
     },
     "execution_count": 28,
     "metadata": {},
     "output_type": "execute_result"
    }
   ],
   "source": [
    "# Controlling by the confounder Z\n",
    "lm(@formula(Y ~ X + Z), df)"
   ]
  },
  {
   "cell_type": "markdown",
   "metadata": {},
   "source": [
    "#### Bad Control (M-bias)"
   ]
  },
  {
   "cell_type": "markdown",
   "metadata": {},
   "source": [
    "**Model 7** \n",
    "\n",
    "Let us suppose that _X_ stands for a job training program aimed at reducing unemployment. Then, there is a first unobserved confounder, which could be the planning effort and good design of the job program (_U1_) that impacts directly on the participation in job training programs (_X_) and the proximity of job programs (that would be the bad control _Z_). Furthermore, we have another unobserved confounder (_U2_), as the soft skills of the unemployed, that affects the employment status of individuals (_Y_) and the likelihood of beeing in a job training program that is closer (_Z_). That is why including _Z_ in the second regression makes _X_ coefficient value further to the real one."
   ]
  },
  {
   "cell_type": "code",
   "execution_count": 11,
   "metadata": {},
   "outputs": [
    {
     "data": {
      "image/svg+xml": [
       "<?xml version=\"1.0\" encoding=\"UTF-8\" standalone=\"no\"?>\n",
       "<!DOCTYPE svg PUBLIC \"-//W3C//DTD SVG 1.1//EN\"\n",
       " \"http://www.w3.org/Graphics/SVG/1.1/DTD/svg11.dtd\">\n",
       "<!-- Generated by graphviz version 2.50.0 (0)\n",
       " -->\n",
       "<!-- Pages: 1 -->\n",
       "<svg width=\"147pt\" height=\"156pt\"\n",
       " viewBox=\"0.00 0.00 146.58 155.60\" xmlns=\"http://www.w3.org/2000/svg\" xmlns:xlink=\"http://www.w3.org/1999/xlink\">\n",
       "<g id=\"graph0\" class=\"graph\" transform=\"scale(1 1) rotate(0) translate(4 151.6)\">\n",
       "<polygon fill=\"white\" stroke=\"transparent\" points=\"-4,4 -4,-151.6 142.58,-151.6 142.58,4 -4,4\"/>\n",
       "<!-- Z -->\n",
       "<g id=\"node1\" class=\"node\">\n",
       "<title>Z</title>\n",
       "<ellipse fill=\"none\" stroke=\"black\" cx=\"39.58\" cy=\"-90\" rx=\"27\" ry=\"18\"/>\n",
       "<text text-anchor=\"middle\" x=\"39.58\" y=\"-86.3\" font-family=\"Times,serif\" font-size=\"14.00\">Z</text>\n",
       "</g>\n",
       "<!-- X -->\n",
       "<g id=\"node2\" class=\"node\">\n",
       "<title>X</title>\n",
       "<ellipse fill=\"none\" stroke=\"black\" cx=\"111.58\" cy=\"-90\" rx=\"27\" ry=\"18\"/>\n",
       "<text text-anchor=\"middle\" x=\"111.58\" y=\"-86.3\" font-family=\"Times,serif\" font-size=\"14.00\">X</text>\n",
       "</g>\n",
       "<!-- Y -->\n",
       "<g id=\"node3\" class=\"node\">\n",
       "<title>Y</title>\n",
       "<ellipse fill=\"none\" stroke=\"black\" cx=\"47.58\" cy=\"-18\" rx=\"27\" ry=\"18\"/>\n",
       "<text text-anchor=\"middle\" x=\"47.58\" y=\"-14.3\" font-family=\"Times,serif\" font-size=\"14.00\">Y</text>\n",
       "</g>\n",
       "<!-- X&#45;&gt;Y -->\n",
       "<g id=\"edge1\" class=\"edge\">\n",
       "<title>X&#45;&gt;Y</title>\n",
       "<path fill=\"none\" stroke=\"black\" d=\"M98,-74.15C89.26,-64.6 77.74,-51.99 67.92,-41.25\"/>\n",
       "<polygon fill=\"black\" stroke=\"black\" points=\"70.46,-38.84 61.13,-33.82 65.29,-43.57 70.46,-38.84\"/>\n",
       "</g>\n",
       "<!-- Unobserved_0 -->\n",
       "<g id=\"node4\" class=\"node\">\n",
       "<title>Unobserved_0</title>\n",
       "<ellipse fill=\"black\" stroke=\"black\" cx=\"20.58\" cy=\"-145.8\" rx=\"1.8\" ry=\"1.8\"/>\n",
       "</g>\n",
       "<!-- Unobserved_0&#45;&gt;Z -->\n",
       "<g id=\"edge2\" class=\"edge\">\n",
       "<title>Unobserved_0&#45;&gt;Z</title>\n",
       "<path fill=\"none\" stroke=\"black\" stroke-dasharray=\"5,2\" d=\"M20.9,-143.87C22.08,-140.53 26.23,-128.78 30.32,-117.21\"/>\n",
       "<polygon fill=\"black\" stroke=\"black\" points=\"33.64,-118.31 33.67,-107.71 27.04,-115.98 33.64,-118.31\"/>\n",
       "</g>\n",
       "<!-- Unobserved_0&#45;&gt;Y -->\n",
       "<g id=\"edge3\" class=\"edge\">\n",
       "<title>Unobserved_0&#45;&gt;Y</title>\n",
       "<path fill=\"none\" stroke=\"black\" stroke-dasharray=\"5,2\" d=\"M20,-143.94C17.44,-140.02 6.96,-123.4 3.58,-108 0.14,-92.37 -1.86,-87.05 3.58,-72 7.85,-60.17 16.04,-49.11 24.2,-40.19\"/>\n",
       "<polygon fill=\"black\" stroke=\"black\" points=\"26.8,-42.54 31.28,-32.93 21.79,-37.65 26.8,-42.54\"/>\n",
       "</g>\n",
       "<!-- Unobserved_1 -->\n",
       "<g id=\"node5\" class=\"node\">\n",
       "<title>Unobserved_1</title>\n",
       "<ellipse fill=\"black\" stroke=\"black\" cx=\"58.58\" cy=\"-145.8\" rx=\"1.8\" ry=\"1.8\"/>\n",
       "</g>\n",
       "<!-- Unobserved_1&#45;&gt;Z -->\n",
       "<g id=\"edge5\" class=\"edge\">\n",
       "<title>Unobserved_1&#45;&gt;Z</title>\n",
       "<path fill=\"none\" stroke=\"black\" stroke-dasharray=\"5,2\" d=\"M58.25,-143.87C57.07,-140.53 52.92,-128.78 48.83,-117.21\"/>\n",
       "<polygon fill=\"black\" stroke=\"black\" points=\"52.11,-115.98 45.48,-107.71 45.51,-118.31 52.11,-115.98\"/>\n",
       "</g>\n",
       "<!-- Unobserved_1&#45;&gt;X -->\n",
       "<g id=\"edge4\" class=\"edge\">\n",
       "<title>Unobserved_1&#45;&gt;X</title>\n",
       "<path fill=\"none\" stroke=\"black\" stroke-dasharray=\"5,2\" d=\"M59.5,-143.87C63.2,-140.11 77.4,-125.69 90.04,-112.86\"/>\n",
       "<polygon fill=\"black\" stroke=\"black\" points=\"92.69,-115.16 97.21,-105.58 87.7,-110.25 92.69,-115.16\"/>\n",
       "</g>\n",
       "</g>\n",
       "</svg>\n"
      ],
      "text/plain": [
       "<graphviz.graphs.Digraph at 0x7f94f07a3d90>"
      ]
     },
     "execution_count": 11,
     "metadata": {},
     "output_type": "execute_result"
    }
   ],
   "source": [
    "# Define the graph with 5 nodes: U1, U2, Z, X, Y\n",
    "g = SimpleDiGraph(5)\n",
    "add_edge!(g, 1, 3)  # U1 -> Z\n",
    "add_edge!(g, 1, 4)  # U1 -> X\n",
    "add_edge!(g, 2, 3)  # U2 -> Z\n",
    "add_edge!(g, 2, 5)  # U2 -> Y\n",
    "add_edge!(g, 4, 5)  # X -> Y\n",
    "\n",
    "# Node labels for U1, U2, Z, X, Y\n",
    "nodelabel = [\"U1\", \"U2\", \"Z\", \"X\", \"Y\"]\n",
    "\n",
    "# Define node colors based on labels\n",
    "nodefillc_dict = Dict(\"U1\" => colorant\"lightgrey\",\n",
    "                      \"U2\" => colorant\"lightgrey\",\n",
    "                      \"Z\" => colorant\"turquoise\",\n",
    "                      \"X\" => colorant\"turquoise\",\n",
    "                      \"Y\" => colorant\"turquoise\")\n",
    "\n",
    "nodefillc = [nodefillc_dict[label] for label in nodelabel]\n",
    "\n",
    "# Create the graph plot\n",
    "g_plot = gplot(g,\n",
    "               nodefillc = nodefillc,\n",
    "               nodestrokec = \"black\",\n",
    "               nodestrokelw = 0,\n",
    "               nodelabel = nodelabel,\n",
    "               NODESIZE = 0.15,\n",
    "               NODELABELSIZE = 10,\n",
    "               edgestrokec = \"black\")\n",
    "\n",
    "# Save and display the plot\n",
    "draw(PNG(\"causal_graph.png\", 13cm, 13cm), g_plot)\n",
    "g_plot"
   ]
  },
  {
   "cell_type": "code",
   "execution_count": 23,
   "metadata": {},
   "outputs": [
    {
     "data": {
      "text/html": [
       "<table class=\"data-frame\"><thead><tr><th></th><th>Z</th><th>X</th><th>Y</th><th>U1</th><th>U2</th></tr><tr><th></th><th>Float64</th><th>Float64</th><th>Float64</th><th>Float64</th><th>Float64</th></tr></thead><tbody><p>1,000 rows × 5 columns</p><tr><th>1</th><td>-1.51203</td><td>-1.17595</td><td>-5.82291</td><td>0.121698</td><td>-1.25512</td></tr><tr><th>2</th><td>0.800487</td><td>-0.440459</td><td>1.23247</td><td>-0.0329104</td><td>2.31538</td></tr><tr><th>3</th><td>0.182939</td><td>-6.92784</td><td>-20.038</td><td>-1.86593</td><td>0.769514</td></tr><tr><th>4</th><td>-1.03465</td><td>-2.41129</td><td>-8.13353</td><td>-0.402004</td><td>-1.36723</td></tr><tr><th>5</th><td>0.00718558</td><td>1.24013</td><td>4.10467</td><td>0.298821</td><td>0.53602</td></tr><tr><th>6</th><td>1.00698</td><td>7.27991</td><td>19.8046</td><td>1.88838</td><td>-0.955557</td></tr><tr><th>7</th><td>0.639282</td><td>-4.35645</td><td>-12.425</td><td>-0.998066</td><td>0.421824</td></tr><tr><th>8</th><td>0.276855</td><td>-4.34078</td><td>-11.7458</td><td>-1.11586</td><td>1.0532</td></tr><tr><th>9</th><td>-2.05745</td><td>-2.0884</td><td>-6.33028</td><td>-0.558549</td><td>0.109943</td></tr><tr><th>10</th><td>0.79557</td><td>2.35588</td><td>7.04324</td><td>0.376278</td><td>0.848389</td></tr><tr><th>11</th><td>-0.637144</td><td>6.60372</td><td>17.6775</td><td>1.73838</td><td>-1.09647</td></tr><tr><th>12</th><td>0.27188</td><td>-0.713512</td><td>-1.33155</td><td>-0.222023</td><td>-0.104714</td></tr><tr><th>13</th><td>-0.744564</td><td>5.28917</td><td>15.6213</td><td>1.05565</td><td>-0.273081</td></tr><tr><th>14</th><td>-1.67887</td><td>-1.61801</td><td>-5.69842</td><td>-0.293296</td><td>-0.940029</td></tr><tr><th>15</th><td>-1.18641</td><td>-2.37069</td><td>-6.84398</td><td>-0.653213</td><td>-1.46192</td></tr><tr><th>16</th><td>0.0119644</td><td>-1.7248</td><td>-5.99998</td><td>-0.426636</td><td>0.535899</td></tr><tr><th>17</th><td>-2.22583</td><td>-3.29441</td><td>-11.8443</td><td>-0.875714</td><td>-1.85828</td></tr><tr><th>18</th><td>2.14893</td><td>-1.74549</td><td>-2.56299</td><td>-0.625727</td><td>0.412462</td></tr><tr><th>19</th><td>-2.39359</td><td>-7.52863</td><td>-25.1647</td><td>-1.90824</td><td>-1.00899</td></tr><tr><th>20</th><td>0.934262</td><td>-3.84013</td><td>-7.58954</td><td>-0.753929</td><td>2.59785</td></tr><tr><th>21</th><td>-0.389081</td><td>-4.72286</td><td>-12.8162</td><td>-1.46926</td><td>1.36527</td></tr><tr><th>22</th><td>-2.32821</td><td>5.12497</td><td>12.7869</td><td>1.36688</td><td>-2.26971</td></tr><tr><th>23</th><td>0.995178</td><td>8.73438</td><td>25.0159</td><td>2.25611</td><td>0.192415</td></tr><tr><th>24</th><td>-0.573286</td><td>1.61296</td><td>5.24715</td><td>0.617481</td><td>-0.539758</td></tr><tr><th>25</th><td>-1.61618</td><td>1.65404</td><td>2.68183</td><td>0.39143</td><td>-1.35866</td></tr><tr><th>26</th><td>-1.35704</td><td>-8.93594</td><td>-28.2335</td><td>-2.14499</td><td>-0.464224</td></tr><tr><th>27</th><td>1.61451</td><td>5.11229</td><td>15.2319</td><td>0.833313</td><td>0.0911555</td></tr><tr><th>28</th><td>-2.34086</td><td>-2.24332</td><td>-6.4752</td><td>-0.947989</td><td>0.0459587</td></tr><tr><th>29</th><td>-1.90838</td><td>0.287992</td><td>2.68483</td><td>-0.0380226</td><td>0.370206</td></tr><tr><th>30</th><td>2.01237</td><td>0.906884</td><td>2.54461</td><td>0.581013</td><td>0.485038</td></tr><tr><th>&vellip;</th><td>&vellip;</td><td>&vellip;</td><td>&vellip;</td><td>&vellip;</td><td>&vellip;</td></tr></tbody></table>"
      ],
      "text/latex": [
       "\\begin{tabular}{r|ccccc}\n",
       "\t& Z & X & Y & U1 & U2\\\\\n",
       "\t\\hline\n",
       "\t& Float64 & Float64 & Float64 & Float64 & Float64\\\\\n",
       "\t\\hline\n",
       "\t1 & -1.51203 & -1.17595 & -5.82291 & 0.121698 & -1.25512 \\\\\n",
       "\t2 & 0.800487 & -0.440459 & 1.23247 & -0.0329104 & 2.31538 \\\\\n",
       "\t3 & 0.182939 & -6.92784 & -20.038 & -1.86593 & 0.769514 \\\\\n",
       "\t4 & -1.03465 & -2.41129 & -8.13353 & -0.402004 & -1.36723 \\\\\n",
       "\t5 & 0.00718558 & 1.24013 & 4.10467 & 0.298821 & 0.53602 \\\\\n",
       "\t6 & 1.00698 & 7.27991 & 19.8046 & 1.88838 & -0.955557 \\\\\n",
       "\t7 & 0.639282 & -4.35645 & -12.425 & -0.998066 & 0.421824 \\\\\n",
       "\t8 & 0.276855 & -4.34078 & -11.7458 & -1.11586 & 1.0532 \\\\\n",
       "\t9 & -2.05745 & -2.0884 & -6.33028 & -0.558549 & 0.109943 \\\\\n",
       "\t10 & 0.79557 & 2.35588 & 7.04324 & 0.376278 & 0.848389 \\\\\n",
       "\t11 & -0.637144 & 6.60372 & 17.6775 & 1.73838 & -1.09647 \\\\\n",
       "\t12 & 0.27188 & -0.713512 & -1.33155 & -0.222023 & -0.104714 \\\\\n",
       "\t13 & -0.744564 & 5.28917 & 15.6213 & 1.05565 & -0.273081 \\\\\n",
       "\t14 & -1.67887 & -1.61801 & -5.69842 & -0.293296 & -0.940029 \\\\\n",
       "\t15 & -1.18641 & -2.37069 & -6.84398 & -0.653213 & -1.46192 \\\\\n",
       "\t16 & 0.0119644 & -1.7248 & -5.99998 & -0.426636 & 0.535899 \\\\\n",
       "\t17 & -2.22583 & -3.29441 & -11.8443 & -0.875714 & -1.85828 \\\\\n",
       "\t18 & 2.14893 & -1.74549 & -2.56299 & -0.625727 & 0.412462 \\\\\n",
       "\t19 & -2.39359 & -7.52863 & -25.1647 & -1.90824 & -1.00899 \\\\\n",
       "\t20 & 0.934262 & -3.84013 & -7.58954 & -0.753929 & 2.59785 \\\\\n",
       "\t21 & -0.389081 & -4.72286 & -12.8162 & -1.46926 & 1.36527 \\\\\n",
       "\t22 & -2.32821 & 5.12497 & 12.7869 & 1.36688 & -2.26971 \\\\\n",
       "\t23 & 0.995178 & 8.73438 & 25.0159 & 2.25611 & 0.192415 \\\\\n",
       "\t24 & -0.573286 & 1.61296 & 5.24715 & 0.617481 & -0.539758 \\\\\n",
       "\t25 & -1.61618 & 1.65404 & 2.68183 & 0.39143 & -1.35866 \\\\\n",
       "\t26 & -1.35704 & -8.93594 & -28.2335 & -2.14499 & -0.464224 \\\\\n",
       "\t27 & 1.61451 & 5.11229 & 15.2319 & 0.833313 & 0.0911555 \\\\\n",
       "\t28 & -2.34086 & -2.24332 & -6.4752 & -0.947989 & 0.0459587 \\\\\n",
       "\t29 & -1.90838 & 0.287992 & 2.68483 & -0.0380226 & 0.370206 \\\\\n",
       "\t30 & 2.01237 & 0.906884 & 2.54461 & 0.581013 & 0.485038 \\\\\n",
       "\t$\\dots$ & $\\dots$ & $\\dots$ & $\\dots$ & $\\dots$ & $\\dots$ \\\\\n",
       "\\end{tabular}\n"
      ],
      "text/plain": [
       "1000×5 typename(DataFrame)\n",
       "│ Row  │ Z          │ X         │ Y        │ U1         │ U2        │\n",
       "│      │ \u001b[90mFloat64\u001b[39m    │ \u001b[90mFloat64\u001b[39m   │ \u001b[90mFloat64\u001b[39m  │ \u001b[90mFloat64\u001b[39m    │ \u001b[90mFloat64\u001b[39m   │\n",
       "├──────┼────────────┼───────────┼──────────┼────────────┼───────────┤\n",
       "│ 1    │ -1.51203   │ -1.17595  │ -5.82291 │ 0.121698   │ -1.25512  │\n",
       "│ 2    │ 0.800487   │ -0.440459 │ 1.23247  │ -0.0329104 │ 2.31538   │\n",
       "│ 3    │ 0.182939   │ -6.92784  │ -20.038  │ -1.86593   │ 0.769514  │\n",
       "│ 4    │ -1.03465   │ -2.41129  │ -8.13353 │ -0.402004  │ -1.36723  │\n",
       "│ 5    │ 0.00718558 │ 1.24013   │ 4.10467  │ 0.298821   │ 0.53602   │\n",
       "│ 6    │ 1.00698    │ 7.27991   │ 19.8046  │ 1.88838    │ -0.955557 │\n",
       "│ 7    │ 0.639282   │ -4.35645  │ -12.425  │ -0.998066  │ 0.421824  │\n",
       "│ 8    │ 0.276855   │ -4.34078  │ -11.7458 │ -1.11586   │ 1.0532    │\n",
       "│ 9    │ -2.05745   │ -2.0884   │ -6.33028 │ -0.558549  │ 0.109943  │\n",
       "│ 10   │ 0.79557    │ 2.35588   │ 7.04324  │ 0.376278   │ 0.848389  │\n",
       "⋮\n",
       "│ 990  │ 0.981862   │ 1.4306    │ 5.19396  │ 0.511736   │ -0.360307 │\n",
       "│ 991  │ -1.21276   │ -3.03338  │ -9.7172  │ -0.414298  │ -0.585057 │\n",
       "│ 992  │ -0.852482  │ 2.6338    │ 6.30786  │ 0.409026   │ -1.11525  │\n",
       "│ 993  │ -0.630932  │ -14.1137  │ -44.1032 │ -3.28082   │ -0.773843 │\n",
       "│ 994  │ 1.49815    │ 6.55655   │ 20.4824  │ 1.40124    │ 0.171316  │\n",
       "│ 995  │ 0.277968   │ 4.76367   │ 16.2005  │ 0.834262   │ 1.26096   │\n",
       "│ 996  │ -1.98061   │ -1.19212  │ -3.08255 │ -0.695846  │ -0.739635 │\n",
       "│ 997  │ -0.302389  │ -2.22909  │ -6.73372 │ -0.532479  │ 0.177797  │\n",
       "│ 998  │ -0.454527  │ 6.37445   │ 19.7451  │ 1.81796    │ 0.393651  │\n",
       "│ 999  │ 0.126651   │ 4.11045   │ 10.2327  │ 1.12942    │ 0.110499  │\n",
       "│ 1000 │ -0.476586  │ -1.10086  │ -3.23919 │ -0.614838  │ 0.430747  │"
      ]
     },
     "execution_count": 23,
     "metadata": {},
     "output_type": "execute_result"
    }
   ],
   "source": [
    "# Set seed\n",
    "Random.seed!(24)\n",
    "\n",
    "# Generate data\n",
    "n = 1000\n",
    "U1 = rand(Normal(0, 1), n)\n",
    "U2 = rand(Normal(0, 1), n)\n",
    "Z = 0.3 * U1 + 0.9 * U2 + rand(Normal(0, 1), n)\n",
    "X = 4 * U1 + rand(Normal(0, 1), n)\n",
    "Y = 3 * X + U2 + rand(Normal(0, 1), n)\n",
    "\n",
    "# Create dataframe\n",
    "df = DataFrame(Z = Z, X = X, Y = Y, U1 = U1, U2 = U2)"
   ]
  },
  {
   "cell_type": "code",
   "execution_count": 24,
   "metadata": {},
   "outputs": [
    {
     "data": {
      "text/plain": [
       "StatsModels.TableRegressionModel{LinearModel{GLM.LmResp{Vector{Float64}}, GLM.DensePredChol{Float64, LinearAlgebra.CholeskyPivoted{Float64, Matrix{Float64}, Vector{Int64}}}}, Matrix{Float64}}\n",
       "\n",
       "Y ~ 1 + X\n",
       "\n",
       "Coefficients:\n",
       "───────────────────────────────────────────────────────────────────────────\n",
       "                  Coef.  Std. Error       t  Pr(>|t|)  Lower 95%  Upper 95%\n",
       "───────────────────────────────────────────────────────────────────────────\n",
       "(Intercept)  -0.0121698   0.0470352   -0.26    0.7959  -0.104469  0.0801295\n",
       "X             2.98862     0.0110309  270.93    <1e-99   2.96698   3.01027\n",
       "───────────────────────────────────────────────────────────────────────────"
      ]
     },
     "execution_count": 24,
     "metadata": {},
     "output_type": "execute_result"
    }
   ],
   "source": [
    "# Wrong regression, not controlling by the confounder Z\n",
    "lm(@formula(Y ~ X), df)"
   ]
  },
  {
   "cell_type": "code",
   "execution_count": 25,
   "metadata": {},
   "outputs": [
    {
     "data": {
      "text/plain": [
       "StatsModels.TableRegressionModel{LinearModel{GLM.LmResp{Vector{Float64}}, GLM.DensePredChol{Float64, LinearAlgebra.CholeskyPivoted{Float64, Matrix{Float64}, Vector{Int64}}}}, Matrix{Float64}}\n",
       "\n",
       "Y ~ 1 + X + Z\n",
       "\n",
       "Coefficients:\n",
       "───────────────────────────────────────────────────────────────────────────\n",
       "                 Coef.  Std. Error       t  Pr(>|t|)   Lower 95%  Upper 95%\n",
       "───────────────────────────────────────────────────────────────────────────\n",
       "(Intercept)  0.0022004  0.0409946     0.05    0.9572  -0.0782452   0.082646\n",
       "X            2.95344    0.00981324  300.96    <1e-99   2.93418     2.9727\n",
       "Z            0.526533   0.0295594    17.81    <1e-61   0.468528    0.584539\n",
       "───────────────────────────────────────────────────────────────────────────"
      ]
     },
     "execution_count": 25,
     "metadata": {},
     "output_type": "execute_result"
    }
   ],
   "source": [
    "# Controlling by the confounder Z\n",
    "lm(@formula(Y ~ X + Z), df)"
   ]
  },
  {
   "cell_type": "markdown",
   "metadata": {},
   "source": [
    "#### Neutral Control (possibly good for precision)"
   ]
  },
  {
   "cell_type": "markdown",
   "metadata": {},
   "source": [
    "**Model 8** \n",
    "\n",
    "In this scenario, we will assume that _X_ represents the implementation of a new government policy to provide subsidies and guidance for small companies. There is another variable, _Z_, that stands for the % inflation rate. And both _X_ and _Z_ affect _Y_, which represents the GDP growth rate of the country. Then, even if _Z_ does not impact _X_, its inclusion improves the precision of the ATE estimator (8.63339 is closer to 8.6)."
   ]
  },
  {
   "cell_type": "code",
   "execution_count": 14,
   "metadata": {},
   "outputs": [
    {
     "data": {
      "image/svg+xml": [
       "<?xml version=\"1.0\" encoding=\"UTF-8\" standalone=\"no\"?>\n",
       "<!DOCTYPE svg PUBLIC \"-//W3C//DTD SVG 1.1//EN\"\n",
       " \"http://www.w3.org/Graphics/SVG/1.1/DTD/svg11.dtd\">\n",
       "<!-- Generated by graphviz version 2.50.0 (0)\n",
       " -->\n",
       "<!-- Pages: 1 -->\n",
       "<svg width=\"134pt\" height=\"116pt\"\n",
       " viewBox=\"0.00 0.00 134.00 116.00\" xmlns=\"http://www.w3.org/2000/svg\" xmlns:xlink=\"http://www.w3.org/1999/xlink\">\n",
       "<g id=\"graph0\" class=\"graph\" transform=\"scale(1 1) rotate(0) translate(4 112)\">\n",
       "<polygon fill=\"white\" stroke=\"transparent\" points=\"-4,4 -4,-112 130,-112 130,4 -4,4\"/>\n",
       "<!-- Z -->\n",
       "<g id=\"node1\" class=\"node\">\n",
       "<title>Z</title>\n",
       "<ellipse fill=\"none\" stroke=\"black\" cx=\"27\" cy=\"-90\" rx=\"27\" ry=\"18\"/>\n",
       "<text text-anchor=\"middle\" x=\"27\" y=\"-86.3\" font-family=\"Times,serif\" font-size=\"14.00\">Z</text>\n",
       "</g>\n",
       "<!-- Y -->\n",
       "<g id=\"node3\" class=\"node\">\n",
       "<title>Y</title>\n",
       "<ellipse fill=\"none\" stroke=\"black\" cx=\"63\" cy=\"-18\" rx=\"27\" ry=\"18\"/>\n",
       "<text text-anchor=\"middle\" x=\"63\" y=\"-14.3\" font-family=\"Times,serif\" font-size=\"14.00\">Y</text>\n",
       "</g>\n",
       "<!-- Z&#45;&gt;Y -->\n",
       "<g id=\"edge1\" class=\"edge\">\n",
       "<title>Z&#45;&gt;Y</title>\n",
       "<path fill=\"none\" stroke=\"black\" d=\"M35.35,-72.76C39.71,-64.28 45.15,-53.71 50.04,-44.2\"/>\n",
       "<polygon fill=\"black\" stroke=\"black\" points=\"53.23,-45.64 54.7,-35.15 47.01,-42.44 53.23,-45.64\"/>\n",
       "</g>\n",
       "<!-- X -->\n",
       "<g id=\"node2\" class=\"node\">\n",
       "<title>X</title>\n",
       "<ellipse fill=\"none\" stroke=\"black\" cx=\"99\" cy=\"-90\" rx=\"27\" ry=\"18\"/>\n",
       "<text text-anchor=\"middle\" x=\"99\" y=\"-86.3\" font-family=\"Times,serif\" font-size=\"14.00\">X</text>\n",
       "</g>\n",
       "<!-- X&#45;&gt;Y -->\n",
       "<g id=\"edge2\" class=\"edge\">\n",
       "<title>X&#45;&gt;Y</title>\n",
       "<path fill=\"none\" stroke=\"black\" d=\"M90.65,-72.76C86.29,-64.28 80.85,-53.71 75.96,-44.2\"/>\n",
       "<polygon fill=\"black\" stroke=\"black\" points=\"78.99,-42.44 71.3,-35.15 72.77,-45.64 78.99,-42.44\"/>\n",
       "</g>\n",
       "</g>\n",
       "</svg>\n"
      ],
      "text/plain": [
       "<graphviz.graphs.Digraph at 0x7f9511858ca0>"
      ]
     },
     "execution_count": 14,
     "metadata": {},
     "output_type": "execute_result"
    }
   ],
   "source": [
    "# Define the graph with 3 nodes: Z, X, Y\n",
    "g = SimpleDiGraph(3)\n",
    "add_edge!(g, 1, 3)  # Z -> Y\n",
    "add_edge!(g, 2, 3)  # X -> Y\n",
    "\n",
    "# Node labels for Z, X, Y\n",
    "nodelabel = [\"Z\", \"X\", \"Y\"]\n",
    "\n",
    "# Define node colors based on labels\n",
    "nodefillc_dict = Dict(\"Z\" => colorant\"turquoise\",\n",
    "                      \"X\" => colorant\"turquoise\",\n",
    "                      \"Y\" => colorant\"turquoise\")\n",
    "\n",
    "nodefillc = [nodefillc_dict[label] for label in nodelabel]\n",
    "\n",
    "# Create the graph plot\n",
    "g_plot = gplot(g,\n",
    "               nodefillc = nodefillc,\n",
    "               nodestrokec = \"black\",\n",
    "               nodestrokelw = 0,\n",
    "               nodelabel = nodelabel,\n",
    "               NODESIZE = 0.15,\n",
    "               NODELABELSIZE = 10,\n",
    "               edgestrokec = \"black\")\n",
    "\n",
    "# Save and display the plot\n",
    "draw(PNG(\"causal_graph.png\", 13cm, 13cm), g_plot)\n",
    "g_plot"
   ]
  },
  {
   "cell_type": "code",
   "execution_count": 31,
   "metadata": {},
   "outputs": [
    {
     "data": {
      "text/html": [
       "<table class=\"data-frame\"><thead><tr><th></th><th>Z</th><th>X</th><th>Y</th></tr><tr><th></th><th>Float64</th><th>Float64</th><th>Float64</th></tr></thead><tbody><p>1,000 rows × 3 columns</p><tr><th>1</th><td>0.121698</td><td>-1.25512</td><td>-10.6044</td></tr><tr><th>2</th><td>-0.0329104</td><td>2.31538</td><td>18.4743</td></tr><tr><th>3</th><td>-1.86593</td><td>0.769514</td><td>-2.66167</td></tr><tr><th>4</th><td>-0.402004</td><td>-1.36723</td><td>-13.4518</td></tr><tr><th>5</th><td>0.298821</td><td>0.53602</td><td>5.539</td></tr><tr><th>6</th><td>1.88838</td><td>-0.955557</td><td>2.52455</td></tr><tr><th>7</th><td>-0.998066</td><td>0.421824</td><td>-0.803581</td></tr><tr><th>8</th><td>-1.11586</td><td>1.0532</td><td>3.14196</td></tr><tr><th>9</th><td>-0.558549</td><td>0.109943</td><td>-3.83607</td></tr><tr><th>10</th><td>0.376278</td><td>0.848389</td><td>9.09667</td></tr><tr><th>11</th><td>1.73838</td><td>-1.09647</td><td>-0.909568</td></tr><tr><th>12</th><td>-0.222023</td><td>-0.104714</td><td>-1.57793</td></tr><tr><th>13</th><td>1.05565</td><td>-0.273081</td><td>2.11428</td></tr><tr><th>14</th><td>-0.293296</td><td>-0.940029</td><td>-10.2956</td></tr><tr><th>15</th><td>-0.653213</td><td>-1.46192</td><td>-15.5133</td></tr><tr><th>16</th><td>-0.426636</td><td>0.535899</td><td>2.13319</td></tr><tr><th>17</th><td>-0.875714</td><td>-1.85828</td><td>-20.6504</td></tr><tr><th>18</th><td>-0.625727</td><td>0.412462</td><td>2.38397</td></tr><tr><th>19</th><td>-1.90824</td><td>-1.00899</td><td>-19.1316</td></tr><tr><th>20</th><td>-0.753929</td><td>2.59785</td><td>17.3942</td></tr><tr><th>21</th><td>-1.46926</td><td>1.36527</td><td>3.21796</td></tr><tr><th>22</th><td>1.36688</td><td>-2.26971</td><td>-13.3806</td></tr><tr><th>23</th><td>2.25611</td><td>0.192415</td><td>13.0805</td></tr><tr><th>24</th><td>0.617481</td><td>-0.539758</td><td>-1.82726</td></tr><tr><th>25</th><td>0.39143</td><td>-1.35866</td><td>-10.2382</td></tr><tr><th>26</th><td>-2.14499</td><td>-0.464224</td><td>-15.013</td></tr><tr><th>27</th><td>0.833313</td><td>0.0911555</td><td>6.23298</td></tr><tr><th>28</th><td>-0.947989</td><td>0.0459587</td><td>-6.44253</td></tr><tr><th>29</th><td>-0.0380226</td><td>0.370206</td><td>0.763502</td></tr><tr><th>30</th><td>0.581013</td><td>0.485038</td><td>8.47793</td></tr><tr><th>&vellip;</th><td>&vellip;</td><td>&vellip;</td><td>&vellip;</td></tr></tbody></table>"
      ],
      "text/latex": [
       "\\begin{tabular}{r|ccc}\n",
       "\t& Z & X & Y\\\\\n",
       "\t\\hline\n",
       "\t& Float64 & Float64 & Float64\\\\\n",
       "\t\\hline\n",
       "\t1 & 0.121698 & -1.25512 & -10.6044 \\\\\n",
       "\t2 & -0.0329104 & 2.31538 & 18.4743 \\\\\n",
       "\t3 & -1.86593 & 0.769514 & -2.66167 \\\\\n",
       "\t4 & -0.402004 & -1.36723 & -13.4518 \\\\\n",
       "\t5 & 0.298821 & 0.53602 & 5.539 \\\\\n",
       "\t6 & 1.88838 & -0.955557 & 2.52455 \\\\\n",
       "\t7 & -0.998066 & 0.421824 & -0.803581 \\\\\n",
       "\t8 & -1.11586 & 1.0532 & 3.14196 \\\\\n",
       "\t9 & -0.558549 & 0.109943 & -3.83607 \\\\\n",
       "\t10 & 0.376278 & 0.848389 & 9.09667 \\\\\n",
       "\t11 & 1.73838 & -1.09647 & -0.909568 \\\\\n",
       "\t12 & -0.222023 & -0.104714 & -1.57793 \\\\\n",
       "\t13 & 1.05565 & -0.273081 & 2.11428 \\\\\n",
       "\t14 & -0.293296 & -0.940029 & -10.2956 \\\\\n",
       "\t15 & -0.653213 & -1.46192 & -15.5133 \\\\\n",
       "\t16 & -0.426636 & 0.535899 & 2.13319 \\\\\n",
       "\t17 & -0.875714 & -1.85828 & -20.6504 \\\\\n",
       "\t18 & -0.625727 & 0.412462 & 2.38397 \\\\\n",
       "\t19 & -1.90824 & -1.00899 & -19.1316 \\\\\n",
       "\t20 & -0.753929 & 2.59785 & 17.3942 \\\\\n",
       "\t21 & -1.46926 & 1.36527 & 3.21796 \\\\\n",
       "\t22 & 1.36688 & -2.26971 & -13.3806 \\\\\n",
       "\t23 & 2.25611 & 0.192415 & 13.0805 \\\\\n",
       "\t24 & 0.617481 & -0.539758 & -1.82726 \\\\\n",
       "\t25 & 0.39143 & -1.35866 & -10.2382 \\\\\n",
       "\t26 & -2.14499 & -0.464224 & -15.013 \\\\\n",
       "\t27 & 0.833313 & 0.0911555 & 6.23298 \\\\\n",
       "\t28 & -0.947989 & 0.0459587 & -6.44253 \\\\\n",
       "\t29 & -0.0380226 & 0.370206 & 0.763502 \\\\\n",
       "\t30 & 0.581013 & 0.485038 & 8.47793 \\\\\n",
       "\t$\\dots$ & $\\dots$ & $\\dots$ & $\\dots$ \\\\\n",
       "\\end{tabular}\n"
      ],
      "text/plain": [
       "1000×3 typename(DataFrame)\n",
       "│ Row  │ Z          │ X         │ Y          │\n",
       "│      │ \u001b[90mFloat64\u001b[39m    │ \u001b[90mFloat64\u001b[39m   │ \u001b[90mFloat64\u001b[39m    │\n",
       "├──────┼────────────┼───────────┼────────────┤\n",
       "│ 1    │ 0.121698   │ -1.25512  │ -10.6044   │\n",
       "│ 2    │ -0.0329104 │ 2.31538   │ 18.4743    │\n",
       "│ 3    │ -1.86593   │ 0.769514  │ -2.66167   │\n",
       "│ 4    │ -0.402004  │ -1.36723  │ -13.4518   │\n",
       "│ 5    │ 0.298821   │ 0.53602   │ 5.539      │\n",
       "│ 6    │ 1.88838    │ -0.955557 │ 2.52455    │\n",
       "│ 7    │ -0.998066  │ 0.421824  │ -0.803581  │\n",
       "│ 8    │ -1.11586   │ 1.0532    │ 3.14196    │\n",
       "│ 9    │ -0.558549  │ 0.109943  │ -3.83607   │\n",
       "│ 10   │ 0.376278   │ 0.848389  │ 9.09667    │\n",
       "⋮\n",
       "│ 990  │ 0.511736   │ -0.360307 │ 0.612656   │\n",
       "│ 991  │ -0.414298  │ -0.585057 │ -7.66489   │\n",
       "│ 992  │ 0.409026   │ -1.11525  │ -7.51751   │\n",
       "│ 993  │ -3.28082   │ -0.773843 │ -22.0094   │\n",
       "│ 994  │ 1.40124    │ 0.171316  │ 9.40313    │\n",
       "│ 995  │ 0.834262   │ 1.26096   │ 13.9084    │\n",
       "│ 996  │ -0.695846  │ -0.739635 │ -10.9463   │\n",
       "│ 997  │ -0.532479  │ 0.177797  │ -1.436     │\n",
       "│ 998  │ 1.81796    │ 0.393651  │ 11.121     │\n",
       "│ 999  │ 1.12942    │ 0.110499  │ 6.28575    │\n",
       "│ 1000 │ -0.614838  │ 0.430747  │ -0.0495766 │"
      ]
     },
     "execution_count": 31,
     "metadata": {},
     "output_type": "execute_result"
    }
   ],
   "source": [
    "# Set seed\n",
    "Random.seed!(24)\n",
    "\n",
    "# Generate data\n",
    "n = 1000\n",
    "Z = rand(Normal(0, 1), n)\n",
    "X = rand(Normal(0, 1), n)\n",
    "Y = 8.6 * X + 5 * Z + rand(Normal(0, 1), n)\n",
    "\n",
    "# Create dataframe\n",
    "df = DataFrame(Z = Z, X = X, Y = Y)"
   ]
  },
  {
   "cell_type": "code",
   "execution_count": 32,
   "metadata": {},
   "outputs": [
    {
     "data": {
      "text/plain": [
       "StatsModels.TableRegressionModel{LinearModel{GLM.LmResp{Vector{Float64}}, GLM.DensePredChol{Float64, LinearAlgebra.CholeskyPivoted{Float64, Matrix{Float64}, Vector{Int64}}}}, Matrix{Float64}}\n",
       "\n",
       "Y ~ 1 + X\n",
       "\n",
       "Coefficients:\n",
       "──────────────────────────────────────────────────────────────────────────\n",
       "                  Coef.  Std. Error      t  Pr(>|t|)  Lower 95%  Upper 95%\n",
       "──────────────────────────────────────────────────────────────────────────\n",
       "(Intercept)  -0.0115351    0.167397  -0.07    0.9451  -0.340025   0.316955\n",
       "X             8.5183       0.163177  52.20    <1e-99   8.19809    8.83851\n",
       "──────────────────────────────────────────────────────────────────────────"
      ]
     },
     "execution_count": 32,
     "metadata": {},
     "output_type": "execute_result"
    }
   ],
   "source": [
    "# Wrong regression, not controlling by the confounder Z\n",
    "lm(@formula(Y ~ X), df)"
   ]
  },
  {
   "cell_type": "code",
   "execution_count": 33,
   "metadata": {},
   "outputs": [
    {
     "data": {
      "text/plain": [
       "StatsModels.TableRegressionModel{LinearModel{GLM.LmResp{Vector{Float64}}, GLM.DensePredChol{Float64, LinearAlgebra.CholeskyPivoted{Float64, Matrix{Float64}, Vector{Int64}}}}, Matrix{Float64}}\n",
       "\n",
       "Y ~ 1 + X + Z\n",
       "\n",
       "Coefficients:\n",
       "───────────────────────────────────────────────────────────────────────────\n",
       "                 Coef.  Std. Error       t  Pr(>|t|)   Lower 95%  Upper 95%\n",
       "───────────────────────────────────────────────────────────────────────────\n",
       "(Intercept)  0.0102651   0.0315753    0.33    0.7452  -0.0516965  0.0722268\n",
       "X            8.63339     0.0307871  280.42    <1e-99   8.57297    8.6938\n",
       "Z            5.02152     0.0305298  164.48    <1e-99   4.96161    5.08143\n",
       "───────────────────────────────────────────────────────────────────────────"
      ]
     },
     "execution_count": 33,
     "metadata": {},
     "output_type": "execute_result"
    }
   ],
   "source": [
    "# Controlling by the confounder Z\n",
    "lm(@formula(Y ~ X + Z), df)"
   ]
  },
  {
   "cell_type": "markdown",
   "metadata": {},
   "source": [
    "#### Bad Controls (Bias amplification)"
   ]
  },
  {
   "cell_type": "markdown",
   "metadata": {},
   "source": [
    "**Model 10** \n",
    "\n",
    "Let us assume that _X_ measures the implementation of a housing program for young adults buying their first house, which impacts the average housing prices (_Y_). There is another observable variable, _Z_, that measures the expenditure of the program and affects only _X_. Also, there is an unobservable variable (_U_) that represents the preference of young adults to move from their parent's house and impacts only _X_ and _Y_. Therefore, the inclusion of _Z_ will \"amplify the bias\" of (•) on _X_, so the ATE estimator will be worse. We can see that in the second regression, the estimator (0.833083) is much farther from the real value (0.8)."
   ]
  },
  {
   "cell_type": "code",
   "execution_count": 17,
   "metadata": {},
   "outputs": [
    {
     "data": {
      "image/svg+xml": [
       "<?xml version=\"1.0\" encoding=\"UTF-8\" standalone=\"no\"?>\n",
       "<!DOCTYPE svg PUBLIC \"-//W3C//DTD SVG 1.1//EN\"\n",
       " \"http://www.w3.org/Graphics/SVG/1.1/DTD/svg11.dtd\">\n",
       "<!-- Generated by graphviz version 2.50.0 (0)\n",
       " -->\n",
       "<!-- Pages: 1 -->\n",
       "<svg width=\"89pt\" height=\"188pt\"\n",
       " viewBox=\"0.00 0.00 89.00 188.00\" xmlns=\"http://www.w3.org/2000/svg\" xmlns:xlink=\"http://www.w3.org/1999/xlink\">\n",
       "<g id=\"graph0\" class=\"graph\" transform=\"scale(1 1) rotate(0) translate(4 184)\">\n",
       "<polygon fill=\"white\" stroke=\"transparent\" points=\"-4,4 -4,-184 85,-184 85,4 -4,4\"/>\n",
       "<!-- Z -->\n",
       "<g id=\"node1\" class=\"node\">\n",
       "<title>Z</title>\n",
       "<ellipse fill=\"none\" stroke=\"black\" cx=\"27\" cy=\"-162\" rx=\"27\" ry=\"18\"/>\n",
       "<text text-anchor=\"middle\" x=\"27\" y=\"-158.3\" font-family=\"Times,serif\" font-size=\"14.00\">Z</text>\n",
       "</g>\n",
       "<!-- X -->\n",
       "<g id=\"node2\" class=\"node\">\n",
       "<title>X</title>\n",
       "<ellipse fill=\"none\" stroke=\"black\" cx=\"27\" cy=\"-90\" rx=\"27\" ry=\"18\"/>\n",
       "<text text-anchor=\"middle\" x=\"27\" y=\"-86.3\" font-family=\"Times,serif\" font-size=\"14.00\">X</text>\n",
       "</g>\n",
       "<!-- Z&#45;&gt;X -->\n",
       "<g id=\"edge1\" class=\"edge\">\n",
       "<title>Z&#45;&gt;X</title>\n",
       "<path fill=\"none\" stroke=\"black\" d=\"M27,-143.7C27,-135.98 27,-126.71 27,-118.11\"/>\n",
       "<polygon fill=\"black\" stroke=\"black\" points=\"30.5,-118.1 27,-108.1 23.5,-118.1 30.5,-118.1\"/>\n",
       "</g>\n",
       "<!-- Y -->\n",
       "<g id=\"node3\" class=\"node\">\n",
       "<title>Y</title>\n",
       "<ellipse fill=\"none\" stroke=\"black\" cx=\"54\" cy=\"-18\" rx=\"27\" ry=\"18\"/>\n",
       "<text text-anchor=\"middle\" x=\"54\" y=\"-14.3\" font-family=\"Times,serif\" font-size=\"14.00\">Y</text>\n",
       "</g>\n",
       "<!-- X&#45;&gt;Y -->\n",
       "<g id=\"edge2\" class=\"edge\">\n",
       "<title>X&#45;&gt;Y</title>\n",
       "<path fill=\"none\" stroke=\"black\" d=\"M33.4,-72.41C36.51,-64.34 40.33,-54.43 43.83,-45.35\"/>\n",
       "<polygon fill=\"black\" stroke=\"black\" points=\"47.13,-46.55 47.46,-35.96 40.6,-44.03 47.13,-46.55\"/>\n",
       "</g>\n",
       "<!-- Unobserved_0 -->\n",
       "<g id=\"node4\" class=\"node\">\n",
       "<title>Unobserved_0</title>\n",
       "<ellipse fill=\"black\" stroke=\"black\" cx=\"78\" cy=\"-162\" rx=\"1.8\" ry=\"1.8\"/>\n",
       "</g>\n",
       "<!-- Unobserved_0&#45;&gt;X -->\n",
       "<g id=\"edge3\" class=\"edge\">\n",
       "<title>Unobserved_0&#45;&gt;X</title>\n",
       "<path fill=\"none\" stroke=\"black\" stroke-dasharray=\"5,2\" d=\"M77.43,-160.21C74.17,-155.75 57.69,-133.13 44.44,-114.94\"/>\n",
       "<polygon fill=\"black\" stroke=\"black\" points=\"46.99,-112.49 38.27,-106.47 41.33,-116.61 46.99,-112.49\"/>\n",
       "</g>\n",
       "<!-- Unobserved_0&#45;&gt;Y -->\n",
       "<g id=\"edge4\" class=\"edge\">\n",
       "<title>Unobserved_0&#45;&gt;Y</title>\n",
       "<path fill=\"none\" stroke=\"black\" stroke-dasharray=\"5,2\" d=\"M77.85,-160.12C76.71,-153.33 69.17,-108.46 63,-72 61.58,-63.59 60.02,-54.43 58.61,-46.12\"/>\n",
       "<polygon fill=\"black\" stroke=\"black\" points=\"62.05,-45.46 56.92,-36.18 55.15,-46.63 62.05,-45.46\"/>\n",
       "</g>\n",
       "</g>\n",
       "</svg>\n"
      ],
      "text/plain": [
       "<graphviz.graphs.Digraph at 0x7f951183b880>"
      ]
     },
     "execution_count": 17,
     "metadata": {},
     "output_type": "execute_result"
    }
   ],
   "source": [
    "# Define the graph with 4 nodes: U, Z, X, Y\n",
    "g = SimpleDiGraph(4)\n",
    "add_edge!(g, 1, 3)  # U -> X\n",
    "add_edge!(g, 1, 4)  # U -> Y\n",
    "add_edge!(g, 2, 3)  # Z -> X\n",
    "add_edge!(g, 3, 4)  # X -> Y\n",
    "\n",
    "# Node labels for U, Z, X, Y\n",
    "nodelabel = [\"U\", \"Z\", \"X\", \"Y\"]\n",
    "\n",
    "# Define node colors based on labels\n",
    "nodefillc_dict = Dict(\"U\" => colorant\"lightgrey\",\n",
    "                      \"Z\" => colorant\"turquoise\",\n",
    "                      \"X\" => colorant\"turquoise\",\n",
    "                      \"Y\" => colorant\"turquoise\")\n",
    "\n",
    "nodefillc = [nodefillc_dict[label] for label in nodelabel]\n",
    "\n",
    "# Create the graph plot\n",
    "g_plot = gplot(g,\n",
    "               nodefillc = nodefillc,\n",
    "               nodestrokec = \"black\",\n",
    "               nodestrokelw = 0,\n",
    "               nodelabel = nodelabel,\n",
    "               NODESIZE = 0.15,\n",
    "               NODELABELSIZE = 10,\n",
    "               edgestrokec = \"black\")\n",
    "\n",
    "# Save and display the plot\n",
    "draw(PNG(\"causal_graph.png\", 13cm, 13cm), g_plot)\n",
    "g_plot"
   ]
  },
  {
   "cell_type": "code",
   "execution_count": 34,
   "metadata": {},
   "outputs": [
    {
     "data": {
      "text/html": [
       "<table class=\"data-frame\"><thead><tr><th></th><th>U</th><th>Z</th><th>X</th><th>Y</th></tr><tr><th></th><th>Float64</th><th>Float64</th><th>Float64</th><th>Float64</th></tr></thead><tbody><p>1,000 rows × 4 columns</p><tr><th>1</th><td>0.121698</td><td>-1.25512</td><td>-3.4541</td><td>-4.40168</td></tr><tr><th>2</th><td>-0.0329104</td><td>2.31538</td><td>5.4752</td><td>4.06476</td></tr><tr><th>3</th><td>-1.86593</td><td>0.769514</td><td>-8.83687</td><td>-6.90681</td></tr><tr><th>4</th><td>-0.402004</td><td>-1.36723</td><td>-6.19727</td><td>-5.84149</td></tr><tr><th>5</th><td>0.298821</td><td>0.53602</td><td>2.83611</td><td>2.3735</td></tr><tr><th>6</th><td>1.88838</td><td>-0.955557</td><td>9.76405</td><td>7.91532</td></tr><tr><th>7</th><td>-0.998066</td><td>0.421824</td><td>-4.16386</td><td>-3.89489</td></tr><tr><th>8</th><td>-1.11586</td><td>1.0532</td><td>-3.87183</td><td>-3.19797</td></tr><tr><th>9</th><td>-0.558549</td><td>0.109943</td><td>-5.0103</td><td>-3.97415</td></tr><tr><th>10</th><td>0.376278</td><td>0.848389</td><td>4.72197</td><td>4.7036</td></tr><tr><th>11</th><td>1.73838</td><td>-1.09647</td><td>6.96902</td><td>5.57311</td></tr><tr><th>12</th><td>-0.222023</td><td>-0.104714</td><td>-1.21355</td><td>-0.840665</td></tr><tr><th>13</th><td>1.05565</td><td>-0.273081</td><td>4.69919</td><td>5.03703</td></tr><tr><th>14</th><td>-0.293296</td><td>-0.940029</td><td>-5.32473</td><td>-4.76326</td></tr><tr><th>15</th><td>-0.653213</td><td>-1.46192</td><td>-7.97976</td><td>-6.27229</td></tr><tr><th>16</th><td>-0.426636</td><td>0.535899</td><td>-1.29447</td><td>-1.13916</td></tr><tr><th>17</th><td>-0.875714</td><td>-1.85828</td><td>-11.1198</td><td>-8.86252</td></tr><tr><th>18</th><td>-0.625727</td><td>0.412462</td><td>-0.551544</td><td>0.191041</td></tr><tr><th>19</th><td>-1.90824</td><td>-1.00899</td><td>-15.3895</td><td>-12.5889</td></tr><tr><th>20</th><td>-0.753929</td><td>2.59785</td><td>2.09235</td><td>0.698675</td></tr><tr><th>21</th><td>-1.46926</td><td>1.36527</td><td>-5.8968</td><td>-3.85711</td></tr><tr><th>22</th><td>1.36688</td><td>-2.26971</td><td>0.69661</td><td>0.488127</td></tr><tr><th>23</th><td>2.25611</td><td>0.192415</td><td>14.2591</td><td>11.5684</td></tr><tr><th>24</th><td>0.617481</td><td>-0.539758</td><td>1.81287</td><td>0.716825</td></tr><tr><th>25</th><td>0.39143</td><td>-1.35866</td><td>-2.23822</td><td>-1.62397</td></tr><tr><th>26</th><td>-2.14499</td><td>-0.464224</td><td>-14.5583</td><td>-12.4317</td></tr><tr><th>27</th><td>0.833313</td><td>0.0911555</td><td>6.55582</td><td>7.19036</td></tr><tr><th>28</th><td>-0.947989</td><td>0.0459587</td><td>-7.64789</td><td>-4.75927</td></tr><tr><th>29</th><td>-0.0380226</td><td>0.370206</td><td>-1.34767</td><td>-0.645662</td></tr><tr><th>30</th><td>0.581013</td><td>0.485038</td><td>6.34273</td><td>3.77322</td></tr><tr><th>&vellip;</th><td>&vellip;</td><td>&vellip;</td><td>&vellip;</td><td>&vellip;</td></tr></tbody></table>"
      ],
      "text/latex": [
       "\\begin{tabular}{r|cccc}\n",
       "\t& U & Z & X & Y\\\\\n",
       "\t\\hline\n",
       "\t& Float64 & Float64 & Float64 & Float64\\\\\n",
       "\t\\hline\n",
       "\t1 & 0.121698 & -1.25512 & -3.4541 & -4.40168 \\\\\n",
       "\t2 & -0.0329104 & 2.31538 & 5.4752 & 4.06476 \\\\\n",
       "\t3 & -1.86593 & 0.769514 & -8.83687 & -6.90681 \\\\\n",
       "\t4 & -0.402004 & -1.36723 & -6.19727 & -5.84149 \\\\\n",
       "\t5 & 0.298821 & 0.53602 & 2.83611 & 2.3735 \\\\\n",
       "\t6 & 1.88838 & -0.955557 & 9.76405 & 7.91532 \\\\\n",
       "\t7 & -0.998066 & 0.421824 & -4.16386 & -3.89489 \\\\\n",
       "\t8 & -1.11586 & 1.0532 & -3.87183 & -3.19797 \\\\\n",
       "\t9 & -0.558549 & 0.109943 & -5.0103 & -3.97415 \\\\\n",
       "\t10 & 0.376278 & 0.848389 & 4.72197 & 4.7036 \\\\\n",
       "\t11 & 1.73838 & -1.09647 & 6.96902 & 5.57311 \\\\\n",
       "\t12 & -0.222023 & -0.104714 & -1.21355 & -0.840665 \\\\\n",
       "\t13 & 1.05565 & -0.273081 & 4.69919 & 5.03703 \\\\\n",
       "\t14 & -0.293296 & -0.940029 & -5.32473 & -4.76326 \\\\\n",
       "\t15 & -0.653213 & -1.46192 & -7.97976 & -6.27229 \\\\\n",
       "\t16 & -0.426636 & 0.535899 & -1.29447 & -1.13916 \\\\\n",
       "\t17 & -0.875714 & -1.85828 & -11.1198 & -8.86252 \\\\\n",
       "\t18 & -0.625727 & 0.412462 & -0.551544 & 0.191041 \\\\\n",
       "\t19 & -1.90824 & -1.00899 & -15.3895 & -12.5889 \\\\\n",
       "\t20 & -0.753929 & 2.59785 & 2.09235 & 0.698675 \\\\\n",
       "\t21 & -1.46926 & 1.36527 & -5.8968 & -3.85711 \\\\\n",
       "\t22 & 1.36688 & -2.26971 & 0.69661 & 0.488127 \\\\\n",
       "\t23 & 2.25611 & 0.192415 & 14.2591 & 11.5684 \\\\\n",
       "\t24 & 0.617481 & -0.539758 & 1.81287 & 0.716825 \\\\\n",
       "\t25 & 0.39143 & -1.35866 & -2.23822 & -1.62397 \\\\\n",
       "\t26 & -2.14499 & -0.464224 & -14.5583 & -12.4317 \\\\\n",
       "\t27 & 0.833313 & 0.0911555 & 6.55582 & 7.19036 \\\\\n",
       "\t28 & -0.947989 & 0.0459587 & -7.64789 & -4.75927 \\\\\n",
       "\t29 & -0.0380226 & 0.370206 & -1.34767 & -0.645662 \\\\\n",
       "\t30 & 0.581013 & 0.485038 & 6.34273 & 3.77322 \\\\\n",
       "\t$\\dots$ & $\\dots$ & $\\dots$ & $\\dots$ & $\\dots$ \\\\\n",
       "\\end{tabular}\n"
      ],
      "text/plain": [
       "1000×4 typename(DataFrame)\n",
       "│ Row  │ U          │ Z         │ X         │ Y        │\n",
       "│      │ \u001b[90mFloat64\u001b[39m    │ \u001b[90mFloat64\u001b[39m   │ \u001b[90mFloat64\u001b[39m   │ \u001b[90mFloat64\u001b[39m  │\n",
       "├──────┼────────────┼───────────┼───────────┼──────────┤\n",
       "│ 1    │ 0.121698   │ -1.25512  │ -3.4541   │ -4.40168 │\n",
       "│ 2    │ -0.0329104 │ 2.31538   │ 5.4752    │ 4.06476  │\n",
       "│ 3    │ -1.86593   │ 0.769514  │ -8.83687  │ -6.90681 │\n",
       "│ 4    │ -0.402004  │ -1.36723  │ -6.19727  │ -5.84149 │\n",
       "│ 5    │ 0.298821   │ 0.53602   │ 2.83611   │ 2.3735   │\n",
       "│ 6    │ 1.88838    │ -0.955557 │ 9.76405   │ 7.91532  │\n",
       "│ 7    │ -0.998066  │ 0.421824  │ -4.16386  │ -3.89489 │\n",
       "│ 8    │ -1.11586   │ 1.0532    │ -3.87183  │ -3.19797 │\n",
       "│ 9    │ -0.558549  │ 0.109943  │ -5.0103   │ -3.97415 │\n",
       "│ 10   │ 0.376278   │ 0.848389  │ 4.72197   │ 4.7036   │\n",
       "⋮\n",
       "│ 990  │ 0.511736   │ -0.360307 │ 3.14211   │ 1.99969  │\n",
       "│ 991  │ -0.414298  │ -0.585057 │ -4.80287  │ -5.30135 │\n",
       "│ 992  │ 0.409026   │ -1.11525  │ -0.863066 │ 0.389051 │\n",
       "│ 993  │ -3.28082   │ -0.773843 │ -20.9567  │ -18.4119 │\n",
       "│ 994  │ 1.40124    │ 0.171316  │ 9.845     │ 9.10783  │\n",
       "│ 995  │ 0.834262   │ 1.26096   │ 7.68127   │ 7.7385   │\n",
       "│ 996  │ -0.695846  │ -0.739635 │ -7.50016  │ -4.54804 │\n",
       "│ 997  │ -0.532479  │ 0.177797  │ -2.96414  │ -2.57699 │\n",
       "│ 998  │ 1.81796    │ 0.393651  │ 10.7345   │ 8.05381  │\n",
       "│ 999  │ 1.12942    │ 0.110499  │ 6.79637   │ 5.25577  │\n",
       "│ 1000 │ -0.614838  │ 0.430747  │ -3.0766   │ -1.22576 │"
      ]
     },
     "execution_count": 34,
     "metadata": {},
     "output_type": "execute_result"
    }
   ],
   "source": [
    "# Set seed\n",
    "Random.seed!(24)\n",
    "\n",
    "# Generate data\n",
    "n = 1000\n",
    "U = rand(Normal(0, 1), n)\n",
    "Z = rand(Normal(0, 1), n)\n",
    "X = 3 * Z + 6 * U + rand(Normal(0, 1), n)\n",
    "Y = 0.8 * X + 0.2 * U + rand(Normal(0, 1), n)\n",
    "\n",
    "# Create dataframe\n",
    "df = DataFrame(U = U, Z = Z, X = X, Y = Y)"
   ]
  },
  {
   "cell_type": "code",
   "execution_count": 35,
   "metadata": {},
   "outputs": [
    {
     "data": {
      "text/plain": [
       "StatsModels.TableRegressionModel{LinearModel{GLM.LmResp{Vector{Float64}}, GLM.DensePredChol{Float64, LinearAlgebra.CholeskyPivoted{Float64, Matrix{Float64}, Vector{Int64}}}}, Matrix{Float64}}\n",
       "\n",
       "Y ~ 1 + X\n",
       "\n",
       "Coefficients:\n",
       "────────────────────────────────────────────────────────────────────────────\n",
       "                  Coef.  Std. Error       t  Pr(>|t|)   Lower 95%  Upper 95%\n",
       "────────────────────────────────────────────────────────────────────────────\n",
       "(Intercept)  -0.0317809  0.0309595    -1.03    0.3049  -0.0925341  0.0289723\n",
       "X             0.827152   0.00444388  186.13    <1e-99   0.818432   0.835872\n",
       "────────────────────────────────────────────────────────────────────────────"
      ]
     },
     "execution_count": 35,
     "metadata": {},
     "output_type": "execute_result"
    }
   ],
   "source": [
    "# Wrong regression, not controlling by the confounder Z\n",
    "lm(@formula(Y ~ X), df)"
   ]
  },
  {
   "cell_type": "code",
   "execution_count": 36,
   "metadata": {},
   "outputs": [
    {
     "data": {
      "text/plain": [
       "StatsModels.TableRegressionModel{LinearModel{GLM.LmResp{Vector{Float64}}, GLM.DensePredChol{Float64, LinearAlgebra.CholeskyPivoted{Float64, Matrix{Float64}, Vector{Int64}}}}, Matrix{Float64}}\n",
       "\n",
       "Y ~ 1 + X + Z\n",
       "\n",
       "Coefficients:\n",
       "─────────────────────────────────────────────────────────────────────────────\n",
       "                  Coef.  Std. Error       t  Pr(>|t|)   Lower 95%   Upper 95%\n",
       "─────────────────────────────────────────────────────────────────────────────\n",
       "(Intercept)  -0.0349805  0.0308707    -1.13    0.2574  -0.0955594   0.0255984\n",
       "X             0.833083   0.00489468  170.20    <1e-99   0.823478    0.842688\n",
       "Z            -0.0946024  0.0332626    -2.84    0.0045  -0.159875   -0.0293297\n",
       "─────────────────────────────────────────────────────────────────────────────"
      ]
     },
     "execution_count": 36,
     "metadata": {},
     "output_type": "execute_result"
    }
   ],
   "source": [
    "lm(@formula(Y ~ X + Z), df)"
   ]
  }
 ],
 "metadata": {
  "kernelspec": {
   "display_name": "Julia 1.10.2",
   "language": "julia",
   "name": "julia-1.10"
  },
  "language_info": {
   "file_extension": ".jl",
   "mimetype": "application/julia",
   "name": "julia",
   "version": "1.10.2"
  }
 },
 "nbformat": 4,
 "nbformat_minor": 2
}
